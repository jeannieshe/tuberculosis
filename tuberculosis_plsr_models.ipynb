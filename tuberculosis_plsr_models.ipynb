{
 "cells": [
  {
   "cell_type": "code",
   "execution_count": 380,
   "id": "7f754e56-af7e-4baf-bab7-2c665d4d2718",
   "metadata": {},
   "outputs": [],
   "source": [
    "# import necessary libraries\n",
    "import numpy as np\n",
    "import pandas as pd\n",
    "import scipy\n",
    "from scipy.stats import zscore\n",
    "import csv\n",
    "import sklearn\n",
    "from sklearn import decomposition\n",
    "import matplotlib.pyplot as plt\n",
    "import pdb\n",
    "import seaborn as sns\n",
    "from sklearn.cross_decomposition import PLSRegression\n",
    "import statsmodels.tools.tools as sm\n",
    "from sklearn.preprocessing import StandardScaler\n",
    "from sklearn.model_selection import LeaveOneOut, KFold, cross_val_score, train_test_split\n",
    "from rnanorm import CPM"
   ]
  },
  {
   "cell_type": "markdown",
   "id": "c792407c-d4a4-4936-b9e7-610c4380faa3",
   "metadata": {},
   "source": [
    "### preparing data"
   ]
  },
  {
   "cell_type": "code",
   "execution_count": 434,
   "id": "277737db-135d-4803-bc32-f7a3ebf4cc25",
   "metadata": {},
   "outputs": [],
   "source": [
    "blood_count_df = pd.read_csv('C:/Users/jeann/Desktop/sp24-urop/finalproj/GSE137092_blood_count_df.csv', index_col=0)\n",
    "blood_samp_df = pd.read_csv('C:/Users/jeann/Desktop/sp24-urop/finalproj/GSE137092_blood_samp_df.csv', index_col=0)\n",
    "blood_count_df.set_index('ID', inplace=True)"
   ]
  },
  {
   "cell_type": "code",
   "execution_count": 435,
   "id": "44aed6a6-3a59-4273-ac4b-1798498c5e19",
   "metadata": {},
   "outputs": [],
   "source": [
    "# writing a function to preprocess data\n",
    "def preprocess(count_df, cpm=False, normalize=False, log2trans=False):\n",
    "    # assumes that count_df is a RNA seq dataframe with genes on the rows and samples on the columns\n",
    "    count_df_T = count_df.T #genes on cols, samps on rows\n",
    "    if cpm:\n",
    "        count_df_T = CPM().set_output(transform=\"pandas\").fit_transform(count_df_T)\n",
    "    if normalize:\n",
    "        count_df_T = zscore(count_df_T, axis=1) #zscore across the cols (genes)\n",
    "    if log2trans:\n",
    "        count_df_T = np.log2(count_df_T + 1) #avoid division by 0 by +1\n",
    "    return count_df_T.T\n",
    "\n",
    "blood_count_df = preprocess(blood_count_df, normalize=True)\n",
    "# blood_count_df.head()"
   ]
  },
  {
   "cell_type": "code",
   "execution_count": 498,
   "id": "25674f01-bbfc-4bc4-8665-5d9d52292f5c",
   "metadata": {},
   "outputs": [],
   "source": [
    "lung_count_df = pd.read_csv('C:/Users/jeann/Desktop/sp24-urop/finalproj/GSE137093_lung_count_df.csv', index_col=0)\n",
    "lung_samp_df = pd.read_csv('C:/Users/jeann/Desktop/sp24-urop/finalproj/GSE137093_lung_samp_df.csv', index_col=0)\n",
    "lung_count_df.set_index('ID', inplace=True)\n",
    "# lung_count_df.head()"
   ]
  },
  {
   "cell_type": "code",
   "execution_count": 499,
   "id": "8cc1c70a-5d3a-4bfb-ab02-c506f7a2c1b3",
   "metadata": {
    "scrolled": true
   },
   "outputs": [],
   "source": [
    "lung_count_df = preprocess(lung_count_df, normalize=True)"
   ]
  },
  {
   "cell_type": "code",
   "execution_count": 144,
   "id": "4cba0375-ae9c-4706-ad02-b9778333eec7",
   "metadata": {},
   "outputs": [],
   "source": [
    "array_count_df = pd.read_csv('C:/Users/jeann/Desktop/sp24-urop/finalproj/GSE140943_array_count_df.csv', index_col=0)\n",
    "array_samp_df = pd.read_csv('C:/Users/jeann/Desktop/sp24-urop/finalproj/GSE140943_array_samp_df.csv', index_col=0)\n",
    "# array_count_df.head()"
   ]
  },
  {
   "cell_type": "code",
   "execution_count": 145,
   "id": "22a21b50-e5e5-49e2-ae6f-cd246bc31aa5",
   "metadata": {},
   "outputs": [],
   "source": [
    "array_count_df = preprocess(array_count_df, normalize=True)"
   ]
  },
  {
   "cell_type": "code",
   "execution_count": 461,
   "id": "202f1dc0-9b60-49c9-9e02-66f83f049ff0",
   "metadata": {},
   "outputs": [],
   "source": [
    "ldn_count_df = pd.read_csv('C:/Users/jeann/Desktop/sp24-urop/finalproj/GSE107991_london_count_df.csv', index_col=0)\n",
    "ldn_samp_df = pd.read_csv('C:/Users/jeann/Desktop/sp24-urop/finalproj/GSE107991_london_samp_df.csv', index_col=0)\n",
    "ldn_count_df.drop(columns=['Gene_name', 'Gene_biotype'], inplace=True)\n",
    "\n",
    "# ldn_count_df.head()"
   ]
  },
  {
   "cell_type": "code",
   "execution_count": 382,
   "id": "5c6fc979-05f7-4a66-ac1b-09b64c406674",
   "metadata": {},
   "outputs": [],
   "source": [
    "sa_count_df = pd.read_csv('C:/Users/jeann/Desktop/sp24-urop/finalproj/GSE107992_sa_count_df.csv', index_col=0)\n",
    "sa_samp_df = pd.read_csv('C:/Users/jeann/Desktop/sp24-urop/finalproj/GSE107992_sa_samp_df.csv', index_col=0)\n",
    "sa_count_df.drop(columns=['Gene_name', 'Gene_biotype'], inplace=True)\n",
    "\n",
    "# sa_count_df.head()"
   ]
  },
  {
   "cell_type": "markdown",
   "id": "091efa02-f4b9-4605-b914-7214fe0c9dd8",
   "metadata": {},
   "source": [
    "# attempting to predict tb strain from mouse tb data (blood, lung, blood array)"
   ]
  },
  {
   "cell_type": "markdown",
   "id": "4bc73010-ac9e-42a0-b358-839b754135c9",
   "metadata": {
    "jp-MarkdownHeadingCollapsed": true
   },
   "source": [
    "## blood data"
   ]
  },
  {
   "cell_type": "code",
   "execution_count": 436,
   "id": "d950fb82-bc7b-4818-93af-696ec6c49419",
   "metadata": {},
   "outputs": [],
   "source": [
    "m = blood_count_df.values\n",
    "strain = np.array(blood_samp_df['mtb_strain'].tolist())"
   ]
  },
  {
   "cell_type": "code",
   "execution_count": 437,
   "id": "2060011b-305f-468f-97c4-86b84b66d63b",
   "metadata": {},
   "outputs": [],
   "source": [
    "m = m.T"
   ]
  },
  {
   "cell_type": "markdown",
   "id": "dd28e04a-fd40-452f-91ec-61478d3c6d1a",
   "metadata": {},
   "source": [
    "### pca for clustering fun"
   ]
  },
  {
   "cell_type": "code",
   "execution_count": 7,
   "id": "40a86d94-7a94-49ab-b1e9-88c7bbd5e367",
   "metadata": {},
   "outputs": [],
   "source": [
    "pca = decomposition.PCA(n_components = 88)\n",
    "pca.fit(m)\n",
    "m_transformed = pca.transform(m)"
   ]
  },
  {
   "cell_type": "code",
   "execution_count": 16,
   "id": "29081204-adf5-4377-800d-f325d51b5c06",
   "metadata": {
    "scrolled": true
   },
   "outputs": [
    {
     "data": {
      "text/plain": [
       "<Axes: >"
      ]
     },
     "execution_count": 16,
     "metadata": {},
     "output_type": "execute_result"
    },
    {
     "data": {
      "image/png": "[encoded data removed]",
      "text/plain": [
       "<Figure size 432x288 with 2 Axes>"
      ]
     },
     "metadata": {
      "needs_background": "light"
     },
     "output_type": "display_data"
    }
   ],
   "source": [
    "covmat_output = np.cov(m_transformed,rowvar=False) # !TO DO!\n",
    "covmat_output = covmat_output/np.max(covmat_output,axis=0)\n",
    "\n",
    "sns.heatmap(covmat_output)"
   ]
  },
  {
   "cell_type": "code",
   "execution_count": 17,
   "id": "a52cf50a-ab11-48c9-ad4e-e384e0d386b9",
   "metadata": {
    "scrolled": true
   },
   "outputs": [
    {
     "data": {
      "text/plain": [
       "Text(0, 0.5, 'Variance Explained')"
      ]
     },
     "execution_count": 17,
     "metadata": {},
     "output_type": "execute_result"
    },
    {
     "data": {
      "image/png": "[encoded data removed]",
      "text/plain": [
       "<Figure size 432x288 with 1 Axes>"
      ]
     },
     "metadata": {
      "needs_background": "light"
     },
     "output_type": "display_data"
    }
   ],
   "source": [
    "explained_variance = pca.explained_variance_ratio_\n",
    "\n",
    "ax = sns.barplot(y=explained_variance, x = [str(x+1) for x in np.arange(len(explained_variance))])\n",
    "ax.set_xlabel(\"PC\")\n",
    "ax.set_ylabel(\"Variance Explained\")"
   ]
  },
  {
   "cell_type": "code",
   "execution_count": 9,
   "id": "3063d273-1fcf-4c4e-8178-ab2282eeb798",
   "metadata": {
    "scrolled": true
   },
   "outputs": [
    {
     "data": {
      "text/plain": [
       "Text(0, 0.5, 'PC2')"
      ]
     },
     "execution_count": 9,
     "metadata": {},
     "output_type": "execute_result"
    },
    {
     "data": {
      "image/png": "[encoded data removed]",
      "text/plain": [
       "<Figure size 432x288 with 1 Axes>"
      ]
     },
     "metadata": {
      "needs_background": "light"
     },
     "output_type": "display_data"
    }
   ],
   "source": [
    "first_2_pcs = m_transformed[:, 0:2]\n",
    "\n",
    "ax = sns.scatterplot(x = first_2_pcs[:, 0], y = first_2_pcs[:, 1], hue = strain)\n",
    "ax.set_xlabel(\"PC1\")\n",
    "ax.set_ylabel(\"PC2\")"
   ]
  },
  {
   "cell_type": "markdown",
   "id": "e20b01da-b5bb-4362-bf9a-87ca916d5979",
   "metadata": {
    "jp-MarkdownHeadingCollapsed": true
   },
   "source": [
    "thoughts: 2 PCs explain about 50% of the data. the clustering is not apparent at ALL, so it would be interesting to do hierarchical clustering and kmeans to see if anything results.\n",
    "\n",
    "visually it looks good\n",
    "kmeans disagrees that those are the three clusters"
   ]
  },
  {
   "cell_type": "code",
   "execution_count": null,
   "id": "34fc31c9-80ed-4698-a62b-e810a24747e2",
   "metadata": {},
   "outputs": [],
   "source": [
    "sns.clustermap(blood_count_df, cmap='RdBu_r', center=0, col_colors=samp_colors)"
   ]
  },
  {
   "cell_type": "code",
   "execution_count": 12,
   "id": "3241b43e-60c3-4028-86f5-ebeeb75fac1e",
   "metadata": {},
   "outputs": [],
   "source": [
    "# from scipy.cluster import hierarchy\n",
    "\n",
    "# # Perform hierarchical clustering\n",
    "# linkage = hierarchy.linkage(blood_count_df, method='average')\n",
    "\n",
    "# # Plot heatmap with dendrogram\n",
    "# sns.heatmap(blood_count_df, cmap='RdBu_r', center=0)"
   ]
  },
  {
   "cell_type": "code",
   "execution_count": 20,
   "id": "a519ff1d-b8b5-4876-a0de-bc0a1b86b7d1",
   "metadata": {},
   "outputs": [
    {
     "name": "stdout",
     "output_type": "stream",
     "text": [
      "{'H37Rv': [16, 37, 66], 'HN878': [248, 112, 96], 'Uninfected': [205, 215, 214]}\n"
     ]
    }
   ],
   "source": [
    "strain_color = dict(zip(np.unique(strain), [[16, 37, 66], [248, 112, 96], [205, 215, 214]]))\n",
    "print(strain_color)"
   ]
  },
  {
   "cell_type": "code",
   "execution_count": 21,
   "id": "c7c02f08-21a4-43ce-895c-1b53fbec3fd9",
   "metadata": {},
   "outputs": [
    {
     "name": "stdout",
     "output_type": "stream",
     "text": [
      "GSM4066715     [248, 112, 96]\n",
      "GSM4066716     [248, 112, 96]\n",
      "GSM4066717     [248, 112, 96]\n",
      "GSM4066718     [248, 112, 96]\n",
      "GSM4066719     [248, 112, 96]\n",
      "                   ...       \n",
      "GSM4190571    [205, 215, 214]\n",
      "GSM4190572    [205, 215, 214]\n",
      "GSM4190573    [205, 215, 214]\n",
      "GSM4190574    [205, 215, 214]\n",
      "GSM4190575    [205, 215, 214]\n",
      "Name: mtb_strain, Length: 88, dtype: object\n"
     ]
    }
   ],
   "source": [
    "samp_colors = blood_samp_df['mtb_strain'].map(strain_color)\n",
    "print(samp_colors)"
   ]
  },
  {
   "cell_type": "code",
   "execution_count": 11,
   "id": "5bb49370-fe0b-4530-8397-66b67f679017",
   "metadata": {},
   "outputs": [
    {
     "data": {
      "text/plain": [
       "Text(0, 0.5, 'PC2')"
      ]
     },
     "execution_count": 11,
     "metadata": {},
     "output_type": "execute_result"
    },
    {
     "data": {
      "image/png": "[encoded data removed]",
      "text/plain": [
       "<Figure size 432x288 with 1 Axes>"
      ]
     },
     "metadata": {
      "needs_background": "light"
     },
     "output_type": "display_data"
    }
   ],
   "source": [
    "#trying kmeans clustering to see what groups come out\n",
    "from sklearn.cluster import KMeans\n",
    "\n",
    "# fit a kmeans model to our first_2_pcs objects; use n_clusters=2, random_state=2022, n_init=10\n",
    "kmeanModel = KMeans(n_clusters=3,random_state=2022,n_init=10).fit(first_2_pcs) # !TO DO!\n",
    "\n",
    "# grab the cluster labels from your kmeans model\n",
    "kmeans_labels = kmeanModel.labels_ # !TO DO!\n",
    "\n",
    "# remake the scatterplot from above, but color by kmeans_labels\n",
    "ax = sns.scatterplot(x=first_2_pcs[:,0],y=first_2_pcs[:,1],hue=kmeans_labels) # !TO DO!\n",
    "ax.set_xlabel(\"PC1\"); ax.set_ylabel(\"PC2\") # !TO DO!"
   ]
  },
  {
   "cell_type": "code",
   "execution_count": 16,
   "id": "0fce96d7-cc91-4adf-832f-7f9945904b86",
   "metadata": {},
   "outputs": [],
   "source": [
    "blood_count_df = blood_count_df.T"
   ]
  },
  {
   "cell_type": "code",
   "execution_count": 17,
   "id": "8334bc65-0dd4-4a92-938e-a0212790732b",
   "metadata": {},
   "outputs": [
    {
     "data": {
      "text/plain": [
       "<matplotlib.legend.Legend at 0x2a5eb6ac8b0>"
      ]
     },
     "execution_count": 17,
     "metadata": {},
     "output_type": "execute_result"
    },
    {
     "data": {
      "image/png": "[encoded data removed]",
      "text/plain": [
       "<Figure size 432x288 with 1 Axes>"
      ]
     },
     "metadata": {
      "needs_background": "light"
     },
     "output_type": "display_data"
    }
   ],
   "source": [
    "from sklearn.metrics import silhouette_samples\n",
    "allLabels = np.unique(kmeans_labels)\n",
    "\n",
    "silhouette_values = silhouette_samples(blood_count_df, kmeans_labels)\n",
    "\n",
    "curY = 0\n",
    "for i in range(len(allLabels)):\n",
    "  curValues = np.sort(silhouette_values[kmeans_labels == allLabels[i]])\n",
    "  plt.fill_betweenx(np.arange(curY, curY + len(curValues)), 0, curValues)\n",
    "  curY += len(curValues)\n",
    "plt.legend(allLabels, loc='upper left')"
   ]
  },
  {
   "cell_type": "markdown",
   "id": "c74886bf-c614-487a-8fa6-00d04cc4cd9b",
   "metadata": {},
   "source": [
    "it's obvious that the clustering isn't great... especially with the PC space. let's see how well it performs as a predictive model, lol!"
   ]
  },
  {
   "cell_type": "markdown",
   "id": "36dcd6cc-fe18-4da0-b0b4-45b472e56c7b",
   "metadata": {},
   "source": [
    "### pls-da for predictive model"
   ]
  },
  {
   "cell_type": "code",
   "execution_count": 19,
   "id": "5990b968-ed79-4de0-bcc2-1681ca4b647c",
   "metadata": {},
   "outputs": [
    {
     "data": {
      "text/html": [
       "<div>\n",
       "<style scoped>\n",
       "    .dataframe tbody tr th:only-of-type {\n",
       "        vertical-align: middle;\n",
       "    }\n",
       "\n",
       "    .dataframe tbody tr th {\n",
       "        vertical-align: top;\n",
       "    }\n",
       "\n",
       "    .dataframe thead th {\n",
       "        text-align: right;\n",
       "    }\n",
       "</style>\n",
       "<table border=\"1\" class=\"dataframe\">\n",
       "  <thead>\n",
       "    <tr style=\"text-align: right;\">\n",
       "      <th></th>\n",
       "      <th>GRA502A536</th>\n",
       "      <th>GRA502A537</th>\n",
       "      <th>GRA502A538</th>\n",
       "      <th>GRA502A539</th>\n",
       "      <th>GRA502A540</th>\n",
       "      <th>GRA502A541</th>\n",
       "      <th>GRA502A542</th>\n",
       "      <th>GRA502A543</th>\n",
       "      <th>GRA502A544</th>\n",
       "      <th>GRA502A545</th>\n",
       "      <th>...</th>\n",
       "      <th>GRA502A646</th>\n",
       "      <th>GRA502A647</th>\n",
       "      <th>GRA502A648</th>\n",
       "      <th>GRA502A649</th>\n",
       "      <th>GRA502A650</th>\n",
       "      <th>GRA502A651</th>\n",
       "      <th>GRA502A652</th>\n",
       "      <th>GRA502A653</th>\n",
       "      <th>GRA502A654</th>\n",
       "      <th>GRA502A655</th>\n",
       "    </tr>\n",
       "    <tr>\n",
       "      <th>ID</th>\n",
       "      <th></th>\n",
       "      <th></th>\n",
       "      <th></th>\n",
       "      <th></th>\n",
       "      <th></th>\n",
       "      <th></th>\n",
       "      <th></th>\n",
       "      <th></th>\n",
       "      <th></th>\n",
       "      <th></th>\n",
       "      <th></th>\n",
       "      <th></th>\n",
       "      <th></th>\n",
       "      <th></th>\n",
       "      <th></th>\n",
       "      <th></th>\n",
       "      <th></th>\n",
       "      <th></th>\n",
       "      <th></th>\n",
       "      <th></th>\n",
       "      <th></th>\n",
       "    </tr>\n",
       "  </thead>\n",
       "  <tbody>\n",
       "    <tr>\n",
       "      <th>ENSMUSG00000000001</th>\n",
       "      <td>1.485899</td>\n",
       "      <td>1.671134</td>\n",
       "      <td>1.555076</td>\n",
       "      <td>1.442187</td>\n",
       "      <td>1.548789</td>\n",
       "      <td>1.614619</td>\n",
       "      <td>1.681771</td>\n",
       "      <td>1.379020</td>\n",
       "      <td>1.620548</td>\n",
       "      <td>1.549193</td>\n",
       "      <td>...</td>\n",
       "      <td>1.697130</td>\n",
       "      <td>1.556223</td>\n",
       "      <td>1.537521</td>\n",
       "      <td>1.694572</td>\n",
       "      <td>1.589772</td>\n",
       "      <td>1.549806</td>\n",
       "      <td>1.490230</td>\n",
       "      <td>1.311393</td>\n",
       "      <td>1.397025</td>\n",
       "      <td>1.626553</td>\n",
       "    </tr>\n",
       "    <tr>\n",
       "      <th>ENSMUSG00000000003</th>\n",
       "      <td>-0.900689</td>\n",
       "      <td>-0.868295</td>\n",
       "      <td>-0.869107</td>\n",
       "      <td>-0.846087</td>\n",
       "      <td>-0.869064</td>\n",
       "      <td>-0.861117</td>\n",
       "      <td>-0.860446</td>\n",
       "      <td>-0.855791</td>\n",
       "      <td>-0.841295</td>\n",
       "      <td>-0.852124</td>\n",
       "      <td>...</td>\n",
       "      <td>-0.855437</td>\n",
       "      <td>-0.862571</td>\n",
       "      <td>-0.911397</td>\n",
       "      <td>-0.875787</td>\n",
       "      <td>-0.843533</td>\n",
       "      <td>-0.861131</td>\n",
       "      <td>-0.859909</td>\n",
       "      <td>-0.847875</td>\n",
       "      <td>-0.852674</td>\n",
       "      <td>-0.869752</td>\n",
       "    </tr>\n",
       "    <tr>\n",
       "      <th>ENSMUSG00000000028</th>\n",
       "      <td>0.171921</td>\n",
       "      <td>0.354737</td>\n",
       "      <td>0.404699</td>\n",
       "      <td>0.499423</td>\n",
       "      <td>0.416173</td>\n",
       "      <td>0.185789</td>\n",
       "      <td>0.103706</td>\n",
       "      <td>0.068332</td>\n",
       "      <td>0.204837</td>\n",
       "      <td>0.283929</td>\n",
       "      <td>...</td>\n",
       "      <td>0.123261</td>\n",
       "      <td>0.174784</td>\n",
       "      <td>-0.076705</td>\n",
       "      <td>0.093449</td>\n",
       "      <td>0.038435</td>\n",
       "      <td>-0.144645</td>\n",
       "      <td>-0.204094</td>\n",
       "      <td>-0.213888</td>\n",
       "      <td>-0.243744</td>\n",
       "      <td>-0.252315</td>\n",
       "    </tr>\n",
       "    <tr>\n",
       "      <th>ENSMUSG00000000037</th>\n",
       "      <td>-0.815306</td>\n",
       "      <td>-0.788234</td>\n",
       "      <td>-0.778863</td>\n",
       "      <td>-0.846087</td>\n",
       "      <td>-0.778084</td>\n",
       "      <td>-0.861117</td>\n",
       "      <td>-0.769983</td>\n",
       "      <td>-0.855791</td>\n",
       "      <td>-0.591559</td>\n",
       "      <td>-0.667626</td>\n",
       "      <td>...</td>\n",
       "      <td>-0.683199</td>\n",
       "      <td>-0.690123</td>\n",
       "      <td>-0.783745</td>\n",
       "      <td>-0.875787</td>\n",
       "      <td>-0.715712</td>\n",
       "      <td>-0.693777</td>\n",
       "      <td>-0.667678</td>\n",
       "      <td>-0.847875</td>\n",
       "      <td>-0.603017</td>\n",
       "      <td>-0.502486</td>\n",
       "    </tr>\n",
       "    <tr>\n",
       "      <th>ENSMUSG00000000049</th>\n",
       "      <td>-0.900689</td>\n",
       "      <td>-0.755119</td>\n",
       "      <td>-0.741551</td>\n",
       "      <td>-0.846087</td>\n",
       "      <td>-0.687401</td>\n",
       "      <td>-0.690327</td>\n",
       "      <td>-0.679828</td>\n",
       "      <td>-0.610761</td>\n",
       "      <td>-0.591559</td>\n",
       "      <td>-0.650112</td>\n",
       "      <td>...</td>\n",
       "      <td>-0.855437</td>\n",
       "      <td>-0.862571</td>\n",
       "      <td>1.632842</td>\n",
       "      <td>0.093449</td>\n",
       "      <td>-0.622652</td>\n",
       "      <td>-0.656348</td>\n",
       "      <td>-0.667678</td>\n",
       "      <td>-0.847875</td>\n",
       "      <td>-0.740649</td>\n",
       "      <td>-0.718734</td>\n",
       "    </tr>\n",
       "  </tbody>\n",
       "</table>\n",
       "<p>5 rows × 88 columns</p>\n",
       "</div>"
      ],
      "text/plain": [
       "                    GRA502A536  GRA502A537  GRA502A538  GRA502A539   \n",
       "ID                                                                   \n",
       "ENSMUSG00000000001    1.485899    1.671134    1.555076    1.442187  \\\n",
       "ENSMUSG00000000003   -0.900689   -0.868295   -0.869107   -0.846087   \n",
       "ENSMUSG00000000028    0.171921    0.354737    0.404699    0.499423   \n",
       "ENSMUSG00000000037   -0.815306   -0.788234   -0.778863   -0.846087   \n",
       "ENSMUSG00000000049   -0.900689   -0.755119   -0.741551   -0.846087   \n",
       "\n",
       "                    GRA502A540  GRA502A541  GRA502A542  GRA502A543   \n",
       "ID                                                                   \n",
       "ENSMUSG00000000001    1.548789    1.614619    1.681771    1.379020  \\\n",
       "ENSMUSG00000000003   -0.869064   -0.861117   -0.860446   -0.855791   \n",
       "ENSMUSG00000000028    0.416173    0.185789    0.103706    0.068332   \n",
       "ENSMUSG00000000037   -0.778084   -0.861117   -0.769983   -0.855791   \n",
       "ENSMUSG00000000049   -0.687401   -0.690327   -0.679828   -0.610761   \n",
       "\n",
       "                    GRA502A544  GRA502A545  ...  GRA502A646  GRA502A647   \n",
       "ID                                          ...                           \n",
       "ENSMUSG00000000001    1.620548    1.549193  ...    1.697130    1.556223  \\\n",
       "ENSMUSG00000000003   -0.841295   -0.852124  ...   -0.855437   -0.862571   \n",
       "ENSMUSG00000000028    0.204837    0.283929  ...    0.123261    0.174784   \n",
       "ENSMUSG00000000037   -0.591559   -0.667626  ...   -0.683199   -0.690123   \n",
       "ENSMUSG00000000049   -0.591559   -0.650112  ...   -0.855437   -0.862571   \n",
       "\n",
       "                    GRA502A648  GRA502A649  GRA502A650  GRA502A651   \n",
       "ID                                                                   \n",
       "ENSMUSG00000000001    1.537521    1.694572    1.589772    1.549806  \\\n",
       "ENSMUSG00000000003   -0.911397   -0.875787   -0.843533   -0.861131   \n",
       "ENSMUSG00000000028   -0.076705    0.093449    0.038435   -0.144645   \n",
       "ENSMUSG00000000037   -0.783745   -0.875787   -0.715712   -0.693777   \n",
       "ENSMUSG00000000049    1.632842    0.093449   -0.622652   -0.656348   \n",
       "\n",
       "                    GRA502A652  GRA502A653  GRA502A654  GRA502A655  \n",
       "ID                                                                  \n",
       "ENSMUSG00000000001    1.490230    1.311393    1.397025    1.626553  \n",
       "ENSMUSG00000000003   -0.859909   -0.847875   -0.852674   -0.869752  \n",
       "ENSMUSG00000000028   -0.204094   -0.213888   -0.243744   -0.252315  \n",
       "ENSMUSG00000000037   -0.667678   -0.847875   -0.603017   -0.502486  \n",
       "ENSMUSG00000000049   -0.667678   -0.847875   -0.740649   -0.718734  \n",
       "\n",
       "[5 rows x 88 columns]"
      ]
     },
     "execution_count": 19,
     "metadata": {},
     "output_type": "execute_result"
    }
   ],
   "source": [
    "blood_count_df.head()"
   ]
  },
  {
   "cell_type": "code",
   "execution_count": 438,
   "id": "e5807df5-5ac8-4e80-b10d-28556abc6e53",
   "metadata": {},
   "outputs": [],
   "source": [
    "from sklearn.model_selection import train_test_split\n",
    "from sklearn.linear_model import LinearRegression"
   ]
  },
  {
   "cell_type": "code",
   "execution_count": 439,
   "id": "2d670ce5-3902-4adc-943b-0037c91367aa",
   "metadata": {},
   "outputs": [],
   "source": [
    "X_data = blood_count_df.T #put features on the cols, samples on rows\n",
    "Y = strain"
   ]
  },
  {
   "cell_type": "code",
   "execution_count": 440,
   "id": "ba0af7b7-f5fc-491e-9821-8bde3ec6d5af",
   "metadata": {},
   "outputs": [],
   "source": [
    "X_train, X_test, Y_train, Y_test = train_test_split(X_data, Y, test_size=0.3, random_state=13)\n",
    "# randomly chose 0.3 test size"
   ]
  },
  {
   "cell_type": "code",
   "execution_count": 441,
   "id": "ccd81996-15cc-42f1-bf2e-d1a47106cbb0",
   "metadata": {},
   "outputs": [
    {
     "data": {
      "text/plain": [
       "(88, 3)"
      ]
     },
     "execution_count": 441,
     "metadata": {},
     "output_type": "execute_result"
    }
   ],
   "source": [
    "Y_prob = np.array([(Y == 'Uninfected'), (Y == 'HN878'), (Y == 'H37Rv')]).T\n",
    "Y_prob = Y_prob.astype(int)\n",
    "Y_prob.shape"
   ]
  },
  {
   "cell_type": "code",
   "execution_count": 442,
   "id": "ce8e86f6-7965-4e0f-bc7d-3bb47c029281",
   "metadata": {},
   "outputs": [
    {
     "name": "stdout",
     "output_type": "stream",
     "text": [
      "[1 0 0 0 2 1 0 1 2 2 0 0 0 0 2 1 1 1 1 1 2 0 2 0 1 2 1 2 0 0 1 2 1 0 0 0 0\n",
      " 0 0 1 1 0 0 1 1 2 1 2 1 0 1 0 2 1 0 1 0 1 1 2 1]\n"
     ]
    }
   ],
   "source": [
    "Y_train_prob = np.array([(Y_train == 'Uninfected'), (Y_train == 'HN878'), (Y_train == 'H37Rv')]).T\n",
    "# print(Y_train_prob)\n",
    "Y_train_prob = Y_train_prob.astype(int)\n",
    "print(np.argmax(Y_train_prob, axis=1))"
   ]
  },
  {
   "cell_type": "code",
   "execution_count": 443,
   "id": "12c84172-0ea2-4f36-ae12-6b0f2a778258",
   "metadata": {},
   "outputs": [],
   "source": [
    "# build a model, first try \n",
    "ncomp = 2\n",
    "model = PLSRegression(n_components=ncomp, scale=False)\n",
    "model.fit(X_train,Y_train_prob)\n",
    "\n",
    "\n",
    "## reminder that you can go to sklearn documentation to see what the model object contains\n",
    "\n",
    "# plsr_df = pd.DataFrame(data=model.x_scores_,columns=['Latent_Variable_{}'.format(x + 1) for x in range(ncomp)])\n",
    "# plt.scatter(plsr_df.Latent_Variable_1,plsr_df.Latent_Variable_2, c=Y_train_prob,cmap='Greens' )\n",
    "# plt.title('PLSR Scores Plot')\n",
    "# plt.xlabel('Latent Variable 1')\n",
    "# plt.ylabel('Latent Variable 2')\n",
    "# cbar = plt.colorbar()\n",
    "# cbar.solids.set_edgecolor(\"face\")\n",
    "\n",
    "Y_pred_prob = np.argmax(model.predict(X_test), axis=1)"
   ]
  },
  {
   "cell_type": "code",
   "execution_count": 444,
   "id": "227686cd-fa93-4e67-84fd-ab49d7b7a60d",
   "metadata": {},
   "outputs": [],
   "source": [
    "Y_test_prob = np.array([(Y_test == 'Uninfected'), (Y_test == 'HN878'), (Y_test == 'H37Rv')]).T\n",
    "# print(Y_train_prob)\n",
    "Y_test_prob = Y_test_prob.astype(int)\n",
    "Y_test_prob = np.argmax(Y_test_prob, axis=1)\n",
    "# the vectors are as follows:\n",
    "#[uninf, HN878, H37Rv]"
   ]
  },
  {
   "cell_type": "code",
   "execution_count": 445,
   "id": "713561e6-b03c-44ad-b41f-2f85fe2fd410",
   "metadata": {},
   "outputs": [
    {
     "name": "stdout",
     "output_type": "stream",
     "text": [
      "PLS regression accuracy 0.8148148148148148\n",
      "[[ 6  0  0]\n",
      " [ 0 15  0]\n",
      " [ 3  2  1]]\n",
      "              precision    recall  f1-score   support\n",
      "\n",
      "           0       0.67      1.00      0.80         6\n",
      "           1       0.88      1.00      0.94        15\n",
      "           2       1.00      0.17      0.29         6\n",
      "\n",
      "    accuracy                           0.81        27\n",
      "   macro avg       0.85      0.72      0.67        27\n",
      "weighted avg       0.86      0.81      0.76        27\n",
      "\n"
     ]
    }
   ],
   "source": [
    "from sklearn.metrics import accuracy_score, confusion_matrix\n",
    "# accuracy from sklearn module\n",
    "acc1 = accuracy_score(Y_test_prob, Y_pred) # TODO\n",
    "print(f\"PLS regression accuracy {acc1}\")\n",
    "\n",
    "# sensitiviy and specificity from confusion matrix\n",
    "cm = confusion_matrix(Y_test_prob, Y_pred) # TODO\n",
    "print(cm)\n",
    "# for 2x2 confusion matrices\n",
    "# # we define our positive label to be 1\n",
    "# TN, FP, FN, TP = cm[0,0], cm[0, 1], cm[1, 0], cm[1,1]\n",
    "\n",
    "# # check sensitivity\n",
    "# sensitivity = TP / (TP + FN) # TODO\n",
    "# specificity = TN / (TN + FP) # TODO\n",
    "# ppv = TP / (TP + FP) # TODO\n",
    "# npv = TN / (TN + FN) # TODO\n",
    "# print(f\"sensitivity = {sensitivity},\\nspecificity = {specificity},\\nppv = {ppv},\\nnpv = {npv}\\n\")\n",
    "\n",
    "\n",
    "#for 3x3 confusion matrices\n",
    "# TN = cm[0, 0]\n",
    "# FP = cm[0, 1] + cm[0, 2] + cm[1, 2] + cm[2, 1]\n",
    "# FN = cm[1, 0] + cm[2, 0]\n",
    "# TP = cm[1, 1] + cm[2, 2]\n",
    "# # TP2 = cm[2, 2]\n",
    "# # TN2 = cm[0, 0] + cm[0, 1] + cm[1, 0] + cm[1, 1]\n",
    "# # FP2 = cm[2, 0] + cm[2, 1]\n",
    "# # FN2 = cm[0, 2] + cm[1, 2]\n",
    "# sensitivity = TP / (TP + FN) # TODO\n",
    "# specificity = TN / (TN + FP) # TODO\n",
    "# ppv = TP / (TP + FP) # TODO\n",
    "# npv = TN / (TN + FN) # TODO\n",
    "# print(f\"sensitivity = {sensitivity},\\nspecificity = {specificity},\\nppv = {ppv},\\nnpv = {npv}\\n\")\n",
    "\n",
    "# another convenient method by sklearn to easily access these metrics\n",
    "from sklearn.metrics import classification_report\n",
    "rep = classification_report(Y_test_prob, Y_pred)\n",
    "print(rep)\n",
    "\n",
    "rep = classification_report(Y_test_prob, Y_pred, output_dict = True)\n",
    "# assert(sensitivity == rep[\"1\"][\"recall\"])\n",
    "# assert(specificity == rep[\"0\"][\"recall\"])\n",
    "# assert(ppv == rep[\"1\"][\"precision\"])\n",
    "# assert(npv == rep[\"0\"][\"precision\"])"
   ]
  },
  {
   "cell_type": "code",
   "execution_count": 448,
   "id": "8f6628b7-50c5-4dbf-b9f3-3db220bdcb8f",
   "metadata": {},
   "outputs": [
    {
     "data": {
      "text/plain": [
       "Text(33.0, 0.5, 'True')"
      ]
     },
     "execution_count": 448,
     "metadata": {},
     "output_type": "execute_result"
    },
    {
     "data": {
      "image/png": "[encoded data removed]",
      "text/plain": [
       "<Figure size 432x288 with 2 Axes>"
      ]
     },
     "metadata": {
      "needs_background": "light"
     },
     "output_type": "display_data"
    }
   ],
   "source": [
    "sns.heatmap(cm, annot=True, fmt=\"d\", cmap=\"rocket\", xticklabels=['Uninfected', 'HN878', 'H37Rv'], yticklabels=['Uninfected', 'HN878', 'H37Rv'])\n",
    "plt.xlabel('Predicted')\n",
    "plt.ylabel('True')"
   ]
  },
  {
   "cell_type": "markdown",
   "id": "9b0563e8-0a22-458d-9d42-c6d5a30154e7",
   "metadata": {},
   "source": [
    "f1 score:\n",
    "0,1,2 doesn't line up with the labels\n",
    "need to figure out which lines up with my data (0.94 probably)\n"
   ]
  },
  {
   "cell_type": "code",
   "execution_count": 110,
   "id": "e90c8d50-d2cd-4f6e-9bda-ff9d34b7d9b7",
   "metadata": {},
   "outputs": [],
   "source": [
    "# 10 fold cross val\n",
    "kf = KFold(n_splits=10) \n",
    "ncomp = 2\n",
    "model = PLSRegression(n_components=ncomp, scale=False)\n",
    "\n",
    "curX = X_data.values\n",
    "curY = Y_prob\n",
    "\n",
    "accuracy_scores = []\n",
    "r2_values = []\n",
    "\n",
    "predY = np.zeros(Y_prob.shape)\n",
    "for train_index, test_index in kf.split(curX):\n",
    "    trainX = curX[train_index]\n",
    "    testX = curX[test_index]\n",
    "    trainY = curY[train_index] # TODO\n",
    "    testY = curY[test_index]\n",
    "    \n",
    "    model.fit(trainX, trainY)\n",
    "    predY[test_index] = model.predict(testX) # TODO\n",
    "\n",
    "    Y_pred_classes = np.argmax(predY[test_index], axis=1)\n",
    "    Y_test_classes = np.argmax(Y_prob[test_index], axis=1)\n",
    "    \n",
    "    # Calculate accuracy score\n",
    "    accuracy = accuracy_score(Y_test_classes, Y_pred_classes)\n",
    "    accuracy_scores.append(accuracy)"
   ]
  },
  {
   "cell_type": "code",
   "execution_count": 111,
   "id": "15072f87-39a4-42cd-8de5-eea6045290a7",
   "metadata": {},
   "outputs": [
    {
     "name": "stdout",
     "output_type": "stream",
     "text": [
      "[0.8888888888888888, 0.8888888888888888, 0.8888888888888888, 0.3333333333333333, 0.4444444444444444, 0.0, 0.8888888888888888, 1.0, 0.875, 1.0]\n"
     ]
    }
   ],
   "source": [
    "print(accuracy_scores)"
   ]
  },
  {
   "cell_type": "code",
   "execution_count": 116,
   "id": "c564855d-9018-4239-bcd3-5c746942de04",
   "metadata": {},
   "outputs": [
    {
     "name": "stdout",
     "output_type": "stream",
     "text": [
      "0.7208333333333333\n"
     ]
    }
   ],
   "source": [
    "avg_accuracy = np.average(accuracy_scores)\n",
    "print(avg_accuracy)"
   ]
  },
  {
   "cell_type": "markdown",
   "id": "9aeb7123-9d83-4cb5-be06-3a01e404670a",
   "metadata": {
    "jp-MarkdownHeadingCollapsed": true
   },
   "source": [
    "## lung data"
   ]
  },
  {
   "cell_type": "code",
   "execution_count": 451,
   "id": "e15a32e6-1f5a-4168-84bf-561329ed4db5",
   "metadata": {},
   "outputs": [],
   "source": [
    "l = lung_count_df.values\n",
    "lstrain = np.array(lung_samp_df['mtb_strain'].tolist())\n",
    "l = l.T"
   ]
  },
  {
   "cell_type": "markdown",
   "id": "3522471e-0d40-42cb-96e6-76bbb02520cf",
   "metadata": {},
   "source": [
    "### pca for clustering"
   ]
  },
  {
   "cell_type": "code",
   "execution_count": 452,
   "id": "5b2086aa-8444-4a04-8ffb-b8bcc71e25a1",
   "metadata": {},
   "outputs": [],
   "source": [
    "pca = decomposition.PCA(n_components = 88)\n",
    "pca.fit(l)\n",
    "l_transformed = pca.transform(l)"
   ]
  },
  {
   "cell_type": "code",
   "execution_count": 453,
   "id": "70857531-0eff-4018-bce3-2786e0789bbc",
   "metadata": {},
   "outputs": [
    {
     "data": {
      "text/plain": [
       "Text(0, 0.5, 'Variance Explained')"
      ]
     },
     "execution_count": 453,
     "metadata": {},
     "output_type": "execute_result"
    },
    {
     "data": {
      "image/png": "[encoded data removed]",
      "text/plain": [
       "<Figure size 432x288 with 1 Axes>"
      ]
     },
     "metadata": {
      "needs_background": "light"
     },
     "output_type": "display_data"
    }
   ],
   "source": [
    "explained_variance = pca.explained_variance_ratio_\n",
    "\n",
    "ax = sns.barplot(y=explained_variance, x = [str(x+1) for x in np.arange(len(explained_variance))])\n",
    "ax.set_xlabel(\"PC\")\n",
    "ax.set_ylabel(\"Variance Explained\")"
   ]
  },
  {
   "cell_type": "code",
   "execution_count": 161,
   "id": "2b006123-218d-4a96-956e-5c40b5f79f58",
   "metadata": {},
   "outputs": [
    {
     "data": {
      "text/plain": [
       "Text(0, 0.5, 'PC2')"
      ]
     },
     "execution_count": 161,
     "metadata": {},
     "output_type": "execute_result"
    },
    {
     "data": {
      "image/png": "[encoded data removed]",
      "text/plain": [
       "<Figure size 432x288 with 1 Axes>"
      ]
     },
     "metadata": {
      "needs_background": "light"
     },
     "output_type": "display_data"
    }
   ],
   "source": [
    "first_2_pcs = l_transformed[:, 0:2]\n",
    "\n",
    "ax = sns.scatterplot(x = first_2_pcs[:, 0], y = first_2_pcs[:, 1], hue = lstrain)\n",
    "ax.set_xlabel(\"PC1\")\n",
    "ax.set_ylabel(\"PC2\")"
   ]
  },
  {
   "cell_type": "code",
   "execution_count": 162,
   "id": "89571262-ee8b-4ace-b804-705b6bf9ffbe",
   "metadata": {},
   "outputs": [
    {
     "data": {
      "text/plain": [
       "Text(0, 0.5, 'PC2')"
      ]
     },
     "execution_count": 162,
     "metadata": {},
     "output_type": "execute_result"
    },
    {
     "data": {
      "image/png": "[encoded data removed]",
      "text/plain": [
       "<Figure size 432x288 with 1 Axes>"
      ]
     },
     "metadata": {
      "needs_background": "light"
     },
     "output_type": "display_data"
    }
   ],
   "source": [
    "#trying kmeans clustering to see what groups come out\n",
    "from sklearn.cluster import KMeans\n",
    "\n",
    "# fit a kmeans model to our first_2_pcs objects; use n_clusters=2, random_state=2022, n_init=10\n",
    "kmeanModel = KMeans(n_clusters=3,random_state=2022,n_init=10).fit(first_2_pcs) # !TO DO!\n",
    "\n",
    "# grab the cluster labels from your kmeans model\n",
    "kmeans_labels = kmeanModel.labels_ # !TO DO!\n",
    "\n",
    "# remake the scatterplot from above, but color by kmeans_labels\n",
    "ax = sns.scatterplot(x=first_2_pcs[:,0],y=first_2_pcs[:,1],hue=kmeans_labels) # !TO DO!\n",
    "ax.set_xlabel(\"PC1\"); ax.set_ylabel(\"PC2\") # !TO DO!"
   ]
  },
  {
   "cell_type": "code",
   "execution_count": 163,
   "id": "0471e6d7-cd2e-418a-aa40-e395efe933a9",
   "metadata": {},
   "outputs": [
    {
     "data": {
      "text/plain": [
       "<matplotlib.legend.Legend at 0x2a601a851b0>"
      ]
     },
     "execution_count": 163,
     "metadata": {},
     "output_type": "execute_result"
    },
    {
     "data": {
      "image/png": "[encoded data removed]",
      "text/plain": [
       "<Figure size 432x288 with 1 Axes>"
      ]
     },
     "metadata": {
      "needs_background": "light"
     },
     "output_type": "display_data"
    }
   ],
   "source": [
    "from sklearn.metrics import silhouette_samples\n",
    "allLabels = np.unique(kmeans_labels)\n",
    "\n",
    "silhouette_values = silhouette_samples(lung_count_df.T, kmeans_labels)\n",
    "\n",
    "curY = 0\n",
    "for i in range(len(allLabels)):\n",
    "  curValues = np.sort(silhouette_values[kmeans_labels == allLabels[i]])\n",
    "  plt.fill_betweenx(np.arange(curY, curY + len(curValues)), 0, curValues)\n",
    "  curY += len(curValues)\n",
    "plt.legend(allLabels, loc='upper left')"
   ]
  },
  {
   "cell_type": "markdown",
   "id": "5d2c02c5-f57b-442b-8038-a673fa72e893",
   "metadata": {},
   "source": [
    "the clustering is SO GOOD?!?!?!?!?!? this is so exciting! this makes sense also because TB is a respiratory thing"
   ]
  },
  {
   "cell_type": "markdown",
   "id": "3c4d8b13-5ab4-40cf-9f23-6cd9a97df806",
   "metadata": {},
   "source": [
    "### pls-da for predictive model"
   ]
  },
  {
   "cell_type": "code",
   "execution_count": 183,
   "id": "fc153ab9-635c-4ca8-990f-eaeab442dc35",
   "metadata": {},
   "outputs": [
    {
     "data": {
      "text/html": [
       "<div>\n",
       "<style scoped>\n",
       "    .dataframe tbody tr th:only-of-type {\n",
       "        vertical-align: middle;\n",
       "    }\n",
       "\n",
       "    .dataframe tbody tr th {\n",
       "        vertical-align: top;\n",
       "    }\n",
       "\n",
       "    .dataframe thead th {\n",
       "        text-align: right;\n",
       "    }\n",
       "</style>\n",
       "<table border=\"1\" class=\"dataframe\">\n",
       "  <thead>\n",
       "    <tr style=\"text-align: right;\">\n",
       "      <th></th>\n",
       "      <th>ILMN_1212602</th>\n",
       "      <th>ILMN_1212603</th>\n",
       "      <th>ILMN_1212605</th>\n",
       "      <th>ILMN_1212607</th>\n",
       "      <th>ILMN_1212612</th>\n",
       "      <th>ILMN_1212614</th>\n",
       "      <th>ILMN_1212619</th>\n",
       "      <th>ILMN_1212623</th>\n",
       "      <th>ILMN_1212625</th>\n",
       "      <th>ILMN_1212626</th>\n",
       "      <th>...</th>\n",
       "      <th>ILMN_3163529</th>\n",
       "      <th>ILMN_3163539</th>\n",
       "      <th>ILMN_3163543</th>\n",
       "      <th>ILMN_3163554</th>\n",
       "      <th>ILMN_3163567</th>\n",
       "      <th>ILMN_3163569</th>\n",
       "      <th>ILMN_3163572</th>\n",
       "      <th>ILMN_3163577</th>\n",
       "      <th>ILMN_3163581</th>\n",
       "      <th>ILMN_3163582</th>\n",
       "    </tr>\n",
       "  </thead>\n",
       "  <tbody>\n",
       "    <tr>\n",
       "      <th>GSM4190920</th>\n",
       "      <td>-0.618482</td>\n",
       "      <td>-0.622443</td>\n",
       "      <td>0.473956</td>\n",
       "      <td>-0.559963</td>\n",
       "      <td>-0.488201</td>\n",
       "      <td>-0.556762</td>\n",
       "      <td>1.387847</td>\n",
       "      <td>-0.572930</td>\n",
       "      <td>0.524074</td>\n",
       "      <td>1.420896</td>\n",
       "      <td>...</td>\n",
       "      <td>0.304599</td>\n",
       "      <td>0.999977</td>\n",
       "      <td>0.178044</td>\n",
       "      <td>-0.578465</td>\n",
       "      <td>-0.581180</td>\n",
       "      <td>-0.332089</td>\n",
       "      <td>0.978041</td>\n",
       "      <td>-0.571817</td>\n",
       "      <td>-0.501817</td>\n",
       "      <td>-0.370814</td>\n",
       "    </tr>\n",
       "    <tr>\n",
       "      <th>GSM4190921</th>\n",
       "      <td>-0.599626</td>\n",
       "      <td>-0.559086</td>\n",
       "      <td>0.575597</td>\n",
       "      <td>-0.406374</td>\n",
       "      <td>-0.526707</td>\n",
       "      <td>-0.638827</td>\n",
       "      <td>1.423231</td>\n",
       "      <td>-0.533433</td>\n",
       "      <td>0.727717</td>\n",
       "      <td>1.093515</td>\n",
       "      <td>...</td>\n",
       "      <td>0.073090</td>\n",
       "      <td>1.150454</td>\n",
       "      <td>0.178391</td>\n",
       "      <td>-0.531974</td>\n",
       "      <td>-0.476815</td>\n",
       "      <td>-0.378297</td>\n",
       "      <td>1.014121</td>\n",
       "      <td>-0.492082</td>\n",
       "      <td>-0.519696</td>\n",
       "      <td>-0.038648</td>\n",
       "    </tr>\n",
       "    <tr>\n",
       "      <th>GSM4190922</th>\n",
       "      <td>-0.541925</td>\n",
       "      <td>-0.593517</td>\n",
       "      <td>0.467308</td>\n",
       "      <td>-0.321678</td>\n",
       "      <td>-0.524461</td>\n",
       "      <td>-0.567166</td>\n",
       "      <td>1.803975</td>\n",
       "      <td>-0.362339</td>\n",
       "      <td>0.841934</td>\n",
       "      <td>1.440789</td>\n",
       "      <td>...</td>\n",
       "      <td>0.400365</td>\n",
       "      <td>1.193481</td>\n",
       "      <td>0.137212</td>\n",
       "      <td>-0.585308</td>\n",
       "      <td>-0.465174</td>\n",
       "      <td>-0.243287</td>\n",
       "      <td>1.080226</td>\n",
       "      <td>-0.518736</td>\n",
       "      <td>-0.356907</td>\n",
       "      <td>-0.533000</td>\n",
       "    </tr>\n",
       "    <tr>\n",
       "      <th>GSM4190923</th>\n",
       "      <td>-0.586897</td>\n",
       "      <td>-0.580939</td>\n",
       "      <td>0.703758</td>\n",
       "      <td>-0.374931</td>\n",
       "      <td>-0.607961</td>\n",
       "      <td>-0.638787</td>\n",
       "      <td>1.393796</td>\n",
       "      <td>-0.470973</td>\n",
       "      <td>0.617569</td>\n",
       "      <td>0.719313</td>\n",
       "      <td>...</td>\n",
       "      <td>0.139269</td>\n",
       "      <td>1.389914</td>\n",
       "      <td>-0.219927</td>\n",
       "      <td>-0.633024</td>\n",
       "      <td>-0.606937</td>\n",
       "      <td>-0.283708</td>\n",
       "      <td>0.787885</td>\n",
       "      <td>-0.606937</td>\n",
       "      <td>-0.442450</td>\n",
       "      <td>-0.388648</td>\n",
       "    </tr>\n",
       "    <tr>\n",
       "      <th>GSM4190924</th>\n",
       "      <td>-0.626266</td>\n",
       "      <td>-0.547683</td>\n",
       "      <td>0.735806</td>\n",
       "      <td>-0.406387</td>\n",
       "      <td>-0.581108</td>\n",
       "      <td>-0.543757</td>\n",
       "      <td>1.442721</td>\n",
       "      <td>-0.555664</td>\n",
       "      <td>0.616126</td>\n",
       "      <td>0.288952</td>\n",
       "      <td>...</td>\n",
       "      <td>0.148120</td>\n",
       "      <td>1.529554</td>\n",
       "      <td>-0.174868</td>\n",
       "      <td>-0.604019</td>\n",
       "      <td>-0.488211</td>\n",
       "      <td>-0.446147</td>\n",
       "      <td>0.868453</td>\n",
       "      <td>-0.573105</td>\n",
       "      <td>-0.430802</td>\n",
       "      <td>-0.491444</td>\n",
       "    </tr>\n",
       "  </tbody>\n",
       "</table>\n",
       "<p>5 rows × 45281 columns</p>\n",
       "</div>"
      ],
      "text/plain": [
       "            ILMN_1212602  ILMN_1212603  ILMN_1212605  ILMN_1212607   \n",
       "GSM4190920     -0.618482     -0.622443      0.473956     -0.559963  \\\n",
       "GSM4190921     -0.599626     -0.559086      0.575597     -0.406374   \n",
       "GSM4190922     -0.541925     -0.593517      0.467308     -0.321678   \n",
       "GSM4190923     -0.586897     -0.580939      0.703758     -0.374931   \n",
       "GSM4190924     -0.626266     -0.547683      0.735806     -0.406387   \n",
       "\n",
       "            ILMN_1212612  ILMN_1212614  ILMN_1212619  ILMN_1212623   \n",
       "GSM4190920     -0.488201     -0.556762      1.387847     -0.572930  \\\n",
       "GSM4190921     -0.526707     -0.638827      1.423231     -0.533433   \n",
       "GSM4190922     -0.524461     -0.567166      1.803975     -0.362339   \n",
       "GSM4190923     -0.607961     -0.638787      1.393796     -0.470973   \n",
       "GSM4190924     -0.581108     -0.543757      1.442721     -0.555664   \n",
       "\n",
       "            ILMN_1212625  ILMN_1212626  ...  ILMN_3163529  ILMN_3163539   \n",
       "GSM4190920      0.524074      1.420896  ...      0.304599      0.999977  \\\n",
       "GSM4190921      0.727717      1.093515  ...      0.073090      1.150454   \n",
       "GSM4190922      0.841934      1.440789  ...      0.400365      1.193481   \n",
       "GSM4190923      0.617569      0.719313  ...      0.139269      1.389914   \n",
       "GSM4190924      0.616126      0.288952  ...      0.148120      1.529554   \n",
       "\n",
       "            ILMN_3163543  ILMN_3163554  ILMN_3163567  ILMN_3163569   \n",
       "GSM4190920      0.178044     -0.578465     -0.581180     -0.332089  \\\n",
       "GSM4190921      0.178391     -0.531974     -0.476815     -0.378297   \n",
       "GSM4190922      0.137212     -0.585308     -0.465174     -0.243287   \n",
       "GSM4190923     -0.219927     -0.633024     -0.606937     -0.283708   \n",
       "GSM4190924     -0.174868     -0.604019     -0.488211     -0.446147   \n",
       "\n",
       "            ILMN_3163572  ILMN_3163577  ILMN_3163581  ILMN_3163582  \n",
       "GSM4190920      0.978041     -0.571817     -0.501817     -0.370814  \n",
       "GSM4190921      1.014121     -0.492082     -0.519696     -0.038648  \n",
       "GSM4190922      1.080226     -0.518736     -0.356907     -0.533000  \n",
       "GSM4190923      0.787885     -0.606937     -0.442450     -0.388648  \n",
       "GSM4190924      0.868453     -0.573105     -0.430802     -0.491444  \n",
       "\n",
       "[5 rows x 45281 columns]"
      ]
     },
     "execution_count": 183,
     "metadata": {},
     "output_type": "execute_result"
    }
   ],
   "source": [
    "X_data.head()"
   ]
  },
  {
   "cell_type": "code",
   "execution_count": 490,
   "id": "209a0bed-9037-4b6e-b8e6-15a9560bea52",
   "metadata": {},
   "outputs": [],
   "source": [
    "from sklearn.model_selection import train_test_split\n",
    "from sklearn.linear_model import LinearRegression\n",
    "X_data = lung_count_df.T #put features on the cols, samples on rows\n",
    "Y = lstrain\n",
    "\n",
    "Y_prob = np.array([(Y == 'Uninfected'), (Y == 'HN878'), (Y == 'H37Rv')]).T\n",
    "Y_prob = Y_prob.astype(int)\n",
    "\n",
    "X_train, X_test, Y_train, Y_test = train_test_split(X_data, Y, test_size=0.3, random_state=13)\n",
    "\n",
    "Y_train_prob = np.array([(Y_train == 'Uninfected'), (Y_train == 'HN878'), (Y_train == 'H37Rv')]).T\n",
    "Y_train_prob = Y_train_prob.astype(int)\n",
    "\n",
    "Y_test_prob = np.array([(Y_test == 'Uninfected'), (Y_test == 'HN878'), (Y_test == 'H37Rv')]).T\n",
    "Y_test_prob = Y_test_prob.astype(int)\n",
    "Y_test_prob = np.argmax(Y_test_prob, axis=1)"
   ]
  },
  {
   "cell_type": "code",
   "execution_count": 491,
   "id": "4fb94fe7-9a41-44da-83e8-3c6d0b30cccc",
   "metadata": {},
   "outputs": [
    {
     "name": "stdout",
     "output_type": "stream",
     "text": [
      "PLS regression accuracy 0.7407407407407407\n",
      "[[ 6  1  0]\n",
      " [ 0 13  1]\n",
      " [ 2  3  1]]\n"
     ]
    }
   ],
   "source": [
    "from sklearn.metrics import accuracy_score, confusion_matrix\n",
    "ncomp = 2\n",
    "model = PLSRegression(n_components=ncomp, scale=False)\n",
    "model.fit(X_train,Y_train_prob)\n",
    "\n",
    "Y_pred_prob = np.argmax(model.predict(X_test), axis=1)\n",
    "\n",
    "acc1 = accuracy_score(Y_test_prob, Y_pred_prob) # TODO\n",
    "print(f\"PLS regression accuracy {acc1}\")\n",
    "\n",
    "cm = confusion_matrix(Y_test_prob, Y_pred_prob) # TODO\n",
    "print(cm)"
   ]
  },
  {
   "cell_type": "code",
   "execution_count": 492,
   "id": "10c4fd2a-1591-4101-adae-dbdd2534647d",
   "metadata": {},
   "outputs": [
    {
     "name": "stdout",
     "output_type": "stream",
     "text": [
      "              precision    recall  f1-score   support\n",
      "\n",
      "           0       0.67      0.86      0.75         7\n",
      "           1       0.82      1.00      0.90        14\n",
      "           2       1.00      0.17      0.29         6\n",
      "\n",
      "    accuracy                           0.78        27\n",
      "   macro avg       0.83      0.67      0.65        27\n",
      "weighted avg       0.82      0.78      0.73        27\n",
      "\n"
     ]
    }
   ],
   "source": [
    "from sklearn.metrics import classification_report\n",
    "rep = classification_report(Y_test_prob, Y_pred)\n",
    "print(rep)\n",
    "\n",
    "rep = classification_report(Y_test_prob, Y_pred, output_dict = True)"
   ]
  },
  {
   "cell_type": "code",
   "execution_count": 456,
   "id": "be6906e4-5a7d-48be-b29e-b02026ee7faf",
   "metadata": {},
   "outputs": [
    {
     "data": {
      "text/plain": [
       "Text(33.0, 0.5, 'True')"
      ]
     },
     "execution_count": 456,
     "metadata": {},
     "output_type": "execute_result"
    },
    {
     "data": {
      "image/png": "[encoded data removed]",
      "text/plain": [
       "<Figure size 432x288 with 2 Axes>"
      ]
     },
     "metadata": {
      "needs_background": "light"
     },
     "output_type": "display_data"
    }
   ],
   "source": [
    "sns.heatmap(cm, annot=True, fmt=\"d\", cmap=\"rocket\", xticklabels=['Uninfected', 'HN878', 'H37Rv'], yticklabels=['Uninfected', 'HN878', 'H37Rv'])\n",
    "plt.xlabel('Predicted')\n",
    "plt.ylabel('True')"
   ]
  },
  {
   "cell_type": "code",
   "execution_count": 457,
   "id": "44d1e142-7af4-42bc-b518-47d06f433b45",
   "metadata": {},
   "outputs": [
    {
     "name": "stdout",
     "output_type": "stream",
     "text": [
      "accuracy scores: [0.6666666666666666, 1.0, 0.7777777777777778, 0.1111111111111111, 0.3333333333333333, 0.1111111111111111, 1.0, 1.0, 0.875, 1.0]\n",
      "average accuracy: 0.6875\n"
     ]
    }
   ],
   "source": [
    "# 10 fold cross val\n",
    "kf = KFold(n_splits=10) \n",
    "ncomp = 2\n",
    "model = PLSRegression(n_components=ncomp, scale=False)\n",
    "\n",
    "curX = X_data.values\n",
    "curY = Y_prob\n",
    "\n",
    "accuracy_scores = []\n",
    "r2_values = []\n",
    "\n",
    "predY = np.zeros(Y_prob.shape)\n",
    "for train_index, test_index in kf.split(curX):\n",
    "    trainX = curX[train_index]\n",
    "    testX = curX[test_index]\n",
    "    trainY = curY[train_index] # TODO\n",
    "    testY = curY[test_index]\n",
    "    \n",
    "    model.fit(trainX, trainY)\n",
    "    predY[test_index] = model.predict(testX) # TODO\n",
    "\n",
    "    Y_pred_classes = np.argmax(predY[test_index], axis=1)\n",
    "    Y_test_classes = np.argmax(Y_prob[test_index], axis=1)\n",
    "    \n",
    "    # Calculate accuracy score\n",
    "    accuracy = accuracy_score(Y_test_classes, Y_pred_classes)\n",
    "    accuracy_scores.append(accuracy)\n",
    "\n",
    "print(f'accuracy scores: {accuracy_scores}')\n",
    "\n",
    "avg_accuracy = np.average(accuracy_scores)\n",
    "print(f'average accuracy: {avg_accuracy}')"
   ]
  },
  {
   "cell_type": "markdown",
   "id": "0f4b9083-2e7b-49d2-bb1a-8533fab8b1d2",
   "metadata": {},
   "source": [
    "bigger transcriptomic changes in the blood than in the lung, types of cells where RNAseq was collected from"
   ]
  },
  {
   "cell_type": "markdown",
   "id": "af20a9e1-367c-4431-aae9-ddda3a154e06",
   "metadata": {
    "jp-MarkdownHeadingCollapsed": true
   },
   "source": [
    "## blood array data"
   ]
  },
  {
   "cell_type": "code",
   "execution_count": 153,
   "id": "e375fdcc-e2c8-4613-b478-20128c2d66cc",
   "metadata": {},
   "outputs": [
    {
     "data": {
      "text/plain": [
       "(26, 45281)"
      ]
     },
     "execution_count": 153,
     "metadata": {},
     "output_type": "execute_result"
    }
   ],
   "source": [
    "a.shape"
   ]
  },
  {
   "cell_type": "code",
   "execution_count": 206,
   "id": "ca0377c5-eb48-4de5-9327-6d0fcd2f5583",
   "metadata": {},
   "outputs": [],
   "source": [
    "a = array_count_df.values\n",
    "astrain = np.array(array_samp_df['agent'].tolist())\n",
    "a = a.T\n",
    "\n",
    "astrain = [1 if x == \"Mycobacterium tuberculosis H37Rv\" else 0 for x in astrain]"
   ]
  },
  {
   "cell_type": "code",
   "execution_count": 207,
   "id": "75c08bd6-8e88-46b1-a44e-f505b7f130f1",
   "metadata": {},
   "outputs": [],
   "source": [
    "pca = decomposition.PCA(n_components = 26)\n",
    "pca.fit(a)\n",
    "a_transformed = pca.transform(a)"
   ]
  },
  {
   "cell_type": "code",
   "execution_count": 208,
   "id": "e0c8f114-3d3f-4d30-819c-60ce00542926",
   "metadata": {},
   "outputs": [
    {
     "data": {
      "text/plain": [
       "Text(0, 0.5, 'Variance Explained')"
      ]
     },
     "execution_count": 208,
     "metadata": {},
     "output_type": "execute_result"
    },
    {
     "data": {
      "image/png": "[encoded data removed]",
      "text/plain": [
       "<Figure size 432x288 with 1 Axes>"
      ]
     },
     "metadata": {
      "needs_background": "light"
     },
     "output_type": "display_data"
    }
   ],
   "source": [
    "explained_variance = pca.explained_variance_ratio_\n",
    "\n",
    "ax = sns.barplot(y=explained_variance, x = [str(x+1) for x in np.arange(len(explained_variance))])\n",
    "ax.set_xlabel(\"PC\")\n",
    "ax.set_ylabel(\"Variance Explained\")"
   ]
  },
  {
   "cell_type": "code",
   "execution_count": 209,
   "id": "9fcaedac-49c0-4a8b-bd48-b4de45c40ed4",
   "metadata": {},
   "outputs": [
    {
     "data": {
      "text/plain": [
       "Text(0, 0.5, 'PC2')"
      ]
     },
     "execution_count": 209,
     "metadata": {},
     "output_type": "execute_result"
    },
    {
     "data": {
      "image/png": "[encoded data removed]",
      "text/plain": [
       "<Figure size 432x288 with 1 Axes>"
      ]
     },
     "metadata": {
      "needs_background": "light"
     },
     "output_type": "display_data"
    }
   ],
   "source": [
    "first_2_pcs = a_transformed[:, 0:2]\n",
    "\n",
    "ax = sns.scatterplot(x = first_2_pcs[:, 0], y = first_2_pcs[:, 1], hue = astrain)\n",
    "ax.set_xlabel(\"PC1\")\n",
    "ax.set_ylabel(\"PC2\")"
   ]
  },
  {
   "cell_type": "code",
   "execution_count": 167,
   "id": "bf5cbe19-b7c4-46f7-bdbe-17946e6625b4",
   "metadata": {},
   "outputs": [
    {
     "data": {
      "text/plain": [
       "Text(0, 0.5, 'PC2')"
      ]
     },
     "execution_count": 167,
     "metadata": {},
     "output_type": "execute_result"
    },
    {
     "data": {
      "image/png": "[encoded data removed]",
      "text/plain": [
       "<Figure size 432x288 with 1 Axes>"
      ]
     },
     "metadata": {
      "needs_background": "light"
     },
     "output_type": "display_data"
    }
   ],
   "source": [
    "#trying kmeans clustering to see what groups come out\n",
    "from sklearn.cluster import KMeans\n",
    "\n",
    "# fit a kmeans model to our first_2_pcs objects; use n_clusters=2, random_state=2022, n_init=10\n",
    "kmeanModel = KMeans(n_clusters=2,random_state=2022,n_init=10).fit(first_2_pcs) # !TO DO!\n",
    "\n",
    "# grab the cluster labels from your kmeans model\n",
    "kmeans_labels = kmeanModel.labels_ # !TO DO!\n",
    "\n",
    "# remake the scatterplot from above, but color by kmeans_labels\n",
    "ax = sns.scatterplot(x=first_2_pcs[:,0],y=first_2_pcs[:,1],hue=kmeans_labels) # !TO DO!\n",
    "ax.set_xlabel(\"PC1\"); ax.set_ylabel(\"PC2\") # !TO DO!"
   ]
  },
  {
   "cell_type": "markdown",
   "id": "8c4403f0-f552-4120-bd68-bcc520a5d724",
   "metadata": {},
   "source": [
    "### pls-da for predictive model"
   ]
  },
  {
   "cell_type": "code",
   "execution_count": 227,
   "id": "0d873e4a-bfde-4219-9a98-58fed69c2e15",
   "metadata": {},
   "outputs": [],
   "source": [
    "from sklearn.model_selection import train_test_split\n",
    "from sklearn.linear_model import LinearRegression\n",
    "X_data = array_count_df.T #put features on the cols, samples on rows\n",
    "Y = astrain\n",
    "\n",
    "Y_prob = np.array([(0, 1) if x == 1 else (1, 0) for x in Y])\n",
    "Y_prob = Y_prob.astype(int)\n",
    "\n",
    "X_train, X_test, Y_train, Y_test = train_test_split(X_data, Y, test_size=0.3, random_state=13)\n",
    "\n",
    "Y_train_prob = np.array([(0, 1) if x == 1 else (1, 0) for x in Y_train])\n",
    "Y_train_prob = Y_train_prob.astype(int)\n",
    "\n",
    "Y_test_prob = np.array([(0, 1) if x == 1 else (1, 0) for x in Y_test])\n",
    "# Y_test_prob = Y_test_prob.astype(int)\n",
    "Y_test_prob = np.argmax(Y_test_prob, axis=1)"
   ]
  },
  {
   "cell_type": "code",
   "execution_count": 228,
   "id": "5a5ff939-0c77-4030-bcf4-49b48698576f",
   "metadata": {},
   "outputs": [
    {
     "name": "stdout",
     "output_type": "stream",
     "text": [
      "[1 1 0 1 1 1 1 1]\n"
     ]
    }
   ],
   "source": [
    "print(Y_test_prob)"
   ]
  },
  {
   "cell_type": "code",
   "execution_count": 229,
   "id": "3defb7bf-f114-44eb-95b9-7a4c04b352c9",
   "metadata": {},
   "outputs": [
    {
     "name": "stdout",
     "output_type": "stream",
     "text": [
      "PLS regression accuracy 0.875\n",
      "[[0 1]\n",
      " [0 7]]\n"
     ]
    }
   ],
   "source": [
    "from sklearn.metrics import accuracy_score, confusion_matrix\n",
    "ncomp = 2\n",
    "model = PLSRegression(n_components=ncomp, scale=False)\n",
    "model.fit(X_train,Y_train_prob)\n",
    "\n",
    "Y_pred_prob = np.argmax(model.predict(X_test), axis=1)\n",
    "\n",
    "acc1 = accuracy_score(Y_test_prob, Y_pred_prob) # TODO\n",
    "print(f\"PLS regression accuracy {acc1}\")\n",
    "\n",
    "cm = confusion_matrix(Y_test_prob, Y_pred_prob) # TODO\n",
    "print(cm)"
   ]
  },
  {
   "cell_type": "code",
   "execution_count": 230,
   "id": "0551f8c6-f75d-4cdd-81e3-e23e923101fd",
   "metadata": {},
   "outputs": [
    {
     "name": "stderr",
     "output_type": "stream",
     "text": [
      "C:\\Users\\jeann\\AppData\\Local\\Programs\\Python\\Python310\\lib\\site-packages\\sklearn\\cross_decomposition\\_pls.py:300: UserWarning: Y residual is constant at iteration 0\n",
      "  warnings.warn(f\"Y residual is constant at iteration {k}\")\n"
     ]
    },
    {
     "name": "stdout",
     "output_type": "stream",
     "text": [
      "accuracy scores: [0.0, 1.0, 1.0, 1.0, 1.0, 1.0, 1.0, 1.0, 1.0, 1.0]\n",
      "average accuracy: 0.9\n"
     ]
    }
   ],
   "source": [
    "# 10 fold cross val\n",
    "kf = KFold(n_splits=10) \n",
    "ncomp = 2\n",
    "model = PLSRegression(n_components=ncomp, scale=False)\n",
    "\n",
    "curX = X_data.values\n",
    "curY = Y_prob\n",
    "\n",
    "accuracy_scores = []\n",
    "r2_values = []\n",
    "\n",
    "predY = np.zeros(Y_prob.shape)\n",
    "for train_index, test_index in kf.split(curX):\n",
    "    trainX = curX[train_index]\n",
    "    testX = curX[test_index]\n",
    "    trainY = curY[train_index] # TODO\n",
    "    testY = curY[test_index]\n",
    "    \n",
    "    model.fit(trainX, trainY)\n",
    "    predY[test_index] = model.predict(testX) # TODO\n",
    "\n",
    "    Y_pred_classes = np.argmax(predY[test_index], axis=1)\n",
    "    Y_test_classes = np.argmax(Y_prob[test_index], axis=1)\n",
    "    \n",
    "    # Calculate accuracy score\n",
    "    accuracy = accuracy_score(Y_test_classes, Y_pred_classes)\n",
    "    accuracy_scores.append(accuracy)\n",
    "\n",
    "print(f'accuracy scores: {accuracy_scores}')\n",
    "\n",
    "avg_accuracy = np.average(accuracy_scores)\n",
    "print(f'average accuracy: {avg_accuracy}')"
   ]
  },
  {
   "cell_type": "markdown",
   "id": "94823189-7b3c-40c8-bbe6-3b19cd659071",
   "metadata": {},
   "source": [
    "ultimately i don't think the blood array data is that reliable since there are only 26 samples. overall i would think that the lung data is the most predictive!"
   ]
  },
  {
   "cell_type": "markdown",
   "id": "d6ae4344-81ad-423d-aa3c-0334bacb7852",
   "metadata": {},
   "source": [
    "# attempting to predict tb disease status from human tb data (london, south africa)"
   ]
  },
  {
   "cell_type": "markdown",
   "id": "531e6a7f-5498-4f75-8e98-f3107ecb5b5b",
   "metadata": {},
   "source": [
    "## train on london, test on SA"
   ]
  },
  {
   "cell_type": "code",
   "execution_count": 234,
   "id": "8efcb45a-43e6-40cb-ba89-cce05130e22a",
   "metadata": {},
   "outputs": [
    {
     "data": {
      "text/html": [
       "<div>\n",
       "<style scoped>\n",
       "    .dataframe tbody tr th:only-of-type {\n",
       "        vertical-align: middle;\n",
       "    }\n",
       "\n",
       "    .dataframe tbody tr th {\n",
       "        vertical-align: top;\n",
       "    }\n",
       "\n",
       "    .dataframe thead th {\n",
       "        text-align: right;\n",
       "    }\n",
       "</style>\n",
       "<table border=\"1\" class=\"dataframe\">\n",
       "  <thead>\n",
       "    <tr style=\"text-align: right;\">\n",
       "      <th></th>\n",
       "      <th>title</th>\n",
       "      <th>group</th>\n",
       "      <th>outlier</th>\n",
       "    </tr>\n",
       "  </thead>\n",
       "  <tbody>\n",
       "    <tr>\n",
       "      <th>GSM2886035</th>\n",
       "      <td>Berry_London_Sample1</td>\n",
       "      <td>Active_TB</td>\n",
       "      <td>No</td>\n",
       "    </tr>\n",
       "    <tr>\n",
       "      <th>GSM2886036</th>\n",
       "      <td>Berry_London_Sample2</td>\n",
       "      <td>Active_TB</td>\n",
       "      <td>Yes</td>\n",
       "    </tr>\n",
       "    <tr>\n",
       "      <th>GSM2886037</th>\n",
       "      <td>Berry_London_Sample3</td>\n",
       "      <td>LTBI</td>\n",
       "      <td>Yes</td>\n",
       "    </tr>\n",
       "    <tr>\n",
       "      <th>GSM2886038</th>\n",
       "      <td>Berry_London_Sample4</td>\n",
       "      <td>LTBI</td>\n",
       "      <td>No</td>\n",
       "    </tr>\n",
       "    <tr>\n",
       "      <th>GSM2886039</th>\n",
       "      <td>Berry_London_Sample5</td>\n",
       "      <td>Control</td>\n",
       "      <td>No</td>\n",
       "    </tr>\n",
       "  </tbody>\n",
       "</table>\n",
       "</div>"
      ],
      "text/plain": [
       "                           title      group outlier\n",
       "GSM2886035  Berry_London_Sample1  Active_TB      No\n",
       "GSM2886036  Berry_London_Sample2  Active_TB     Yes\n",
       "GSM2886037  Berry_London_Sample3       LTBI     Yes\n",
       "GSM2886038  Berry_London_Sample4       LTBI      No\n",
       "GSM2886039  Berry_London_Sample5    Control      No"
      ]
     },
     "execution_count": 234,
     "metadata": {},
     "output_type": "execute_result"
    }
   ],
   "source": [
    "# let's cluster for fun at first\n",
    "ldn_samp_df.head()"
   ]
  },
  {
   "cell_type": "code",
   "execution_count": 462,
   "id": "0f2f1068-8943-4785-89f4-460d31307cbf",
   "metadata": {},
   "outputs": [
    {
     "data": {
      "text/plain": [
       "(14150, 54)"
      ]
     },
     "execution_count": 462,
     "metadata": {},
     "output_type": "execute_result"
    }
   ],
   "source": [
    "ldn_count_df.shape"
   ]
  },
  {
   "cell_type": "code",
   "execution_count": 501,
   "id": "c59413fd-5304-4068-91a2-205e35a63a10",
   "metadata": {},
   "outputs": [],
   "source": [
    "ldn = ldn_count_df.values\n",
    "severity = np.array(ldn_samp_df['group'].tolist())\n",
    "ldn = ldn.T"
   ]
  },
  {
   "cell_type": "code",
   "execution_count": 502,
   "id": "344b3712-5cee-410d-a708-46a2faa78aec",
   "metadata": {},
   "outputs": [
    {
     "ename": "ValueError",
     "evalue": "n_components=54 must be between 0 and min(n_samples, n_features)=42 with svd_solver='full'",
     "output_type": "error",
     "traceback": [
      "\u001b[1;31m---------------------------------------------------------------------------\u001b[0m",
      "\u001b[1;31mValueError\u001b[0m                                Traceback (most recent call last)",
      "Input \u001b[1;32mIn [502]\u001b[0m, in \u001b[0;36m<cell line: 2>\u001b[1;34m()\u001b[0m\n\u001b[0;32m      1\u001b[0m pca \u001b[38;5;241m=\u001b[39m decomposition\u001b[38;5;241m.\u001b[39mPCA(n_components \u001b[38;5;241m=\u001b[39m \u001b[38;5;241m54\u001b[39m)\n\u001b[1;32m----> 2\u001b[0m \u001b[43mpca\u001b[49m\u001b[38;5;241;43m.\u001b[39;49m\u001b[43mfit\u001b[49m\u001b[43m(\u001b[49m\u001b[43mldn\u001b[49m\u001b[43m)\u001b[49m\n\u001b[0;32m      3\u001b[0m ldn_transformed \u001b[38;5;241m=\u001b[39m pca\u001b[38;5;241m.\u001b[39mtransform(ldn)\n",
      "File \u001b[1;32m~\\AppData\\Local\\Programs\\Python\\Python310\\lib\\site-packages\\sklearn\\decomposition\\_pca.py:435\u001b[0m, in \u001b[0;36mPCA.fit\u001b[1;34m(self, X, y)\u001b[0m\n\u001b[0;32m    417\u001b[0m \u001b[38;5;124;03m\"\"\"Fit the model with X.\u001b[39;00m\n\u001b[0;32m    418\u001b[0m \n\u001b[0;32m    419\u001b[0m \u001b[38;5;124;03mParameters\u001b[39;00m\n\u001b[1;32m   (...)\u001b[0m\n\u001b[0;32m    431\u001b[0m \u001b[38;5;124;03m    Returns the instance itself.\u001b[39;00m\n\u001b[0;32m    432\u001b[0m \u001b[38;5;124;03m\"\"\"\u001b[39;00m\n\u001b[0;32m    433\u001b[0m \u001b[38;5;28mself\u001b[39m\u001b[38;5;241m.\u001b[39m_validate_params()\n\u001b[1;32m--> 435\u001b[0m \u001b[38;5;28;43mself\u001b[39;49m\u001b[38;5;241;43m.\u001b[39;49m\u001b[43m_fit\u001b[49m\u001b[43m(\u001b[49m\u001b[43mX\u001b[49m\u001b[43m)\u001b[49m\n\u001b[0;32m    436\u001b[0m \u001b[38;5;28;01mreturn\u001b[39;00m \u001b[38;5;28mself\u001b[39m\n",
      "File \u001b[1;32m~\\AppData\\Local\\Programs\\Python\\Python310\\lib\\site-packages\\sklearn\\decomposition\\_pca.py:512\u001b[0m, in \u001b[0;36mPCA._fit\u001b[1;34m(self, X)\u001b[0m\n\u001b[0;32m    510\u001b[0m \u001b[38;5;66;03m# Call different fits for either full or truncated SVD\u001b[39;00m\n\u001b[0;32m    511\u001b[0m \u001b[38;5;28;01mif\u001b[39;00m \u001b[38;5;28mself\u001b[39m\u001b[38;5;241m.\u001b[39m_fit_svd_solver \u001b[38;5;241m==\u001b[39m \u001b[38;5;124m\"\u001b[39m\u001b[38;5;124mfull\u001b[39m\u001b[38;5;124m\"\u001b[39m:\n\u001b[1;32m--> 512\u001b[0m     \u001b[38;5;28;01mreturn\u001b[39;00m \u001b[38;5;28;43mself\u001b[39;49m\u001b[38;5;241;43m.\u001b[39;49m\u001b[43m_fit_full\u001b[49m\u001b[43m(\u001b[49m\u001b[43mX\u001b[49m\u001b[43m,\u001b[49m\u001b[43m \u001b[49m\u001b[43mn_components\u001b[49m\u001b[43m)\u001b[49m\n\u001b[0;32m    513\u001b[0m \u001b[38;5;28;01melif\u001b[39;00m \u001b[38;5;28mself\u001b[39m\u001b[38;5;241m.\u001b[39m_fit_svd_solver \u001b[38;5;129;01min\u001b[39;00m [\u001b[38;5;124m\"\u001b[39m\u001b[38;5;124marpack\u001b[39m\u001b[38;5;124m\"\u001b[39m, \u001b[38;5;124m\"\u001b[39m\u001b[38;5;124mrandomized\u001b[39m\u001b[38;5;124m\"\u001b[39m]:\n\u001b[0;32m    514\u001b[0m     \u001b[38;5;28;01mreturn\u001b[39;00m \u001b[38;5;28mself\u001b[39m\u001b[38;5;241m.\u001b[39m_fit_truncated(X, n_components, \u001b[38;5;28mself\u001b[39m\u001b[38;5;241m.\u001b[39m_fit_svd_solver)\n",
      "File \u001b[1;32m~\\AppData\\Local\\Programs\\Python\\Python310\\lib\\site-packages\\sklearn\\decomposition\\_pca.py:526\u001b[0m, in \u001b[0;36mPCA._fit_full\u001b[1;34m(self, X, n_components)\u001b[0m\n\u001b[0;32m    522\u001b[0m         \u001b[38;5;28;01mraise\u001b[39;00m \u001b[38;5;167;01mValueError\u001b[39;00m(\n\u001b[0;32m    523\u001b[0m             \u001b[38;5;124m\"\u001b[39m\u001b[38;5;124mn_components=\u001b[39m\u001b[38;5;124m'\u001b[39m\u001b[38;5;124mmle\u001b[39m\u001b[38;5;124m'\u001b[39m\u001b[38;5;124m is only supported if n_samples >= n_features\u001b[39m\u001b[38;5;124m\"\u001b[39m\n\u001b[0;32m    524\u001b[0m         )\n\u001b[0;32m    525\u001b[0m \u001b[38;5;28;01melif\u001b[39;00m \u001b[38;5;129;01mnot\u001b[39;00m \u001b[38;5;241m0\u001b[39m \u001b[38;5;241m<\u001b[39m\u001b[38;5;241m=\u001b[39m n_components \u001b[38;5;241m<\u001b[39m\u001b[38;5;241m=\u001b[39m \u001b[38;5;28mmin\u001b[39m(n_samples, n_features):\n\u001b[1;32m--> 526\u001b[0m     \u001b[38;5;28;01mraise\u001b[39;00m \u001b[38;5;167;01mValueError\u001b[39;00m(\n\u001b[0;32m    527\u001b[0m         \u001b[38;5;124m\"\u001b[39m\u001b[38;5;124mn_components=\u001b[39m\u001b[38;5;132;01m%r\u001b[39;00m\u001b[38;5;124m must be between 0 and \u001b[39m\u001b[38;5;124m\"\u001b[39m\n\u001b[0;32m    528\u001b[0m         \u001b[38;5;124m\"\u001b[39m\u001b[38;5;124mmin(n_samples, n_features)=\u001b[39m\u001b[38;5;132;01m%r\u001b[39;00m\u001b[38;5;124m with \u001b[39m\u001b[38;5;124m\"\u001b[39m\n\u001b[0;32m    529\u001b[0m         \u001b[38;5;124m\"\u001b[39m\u001b[38;5;124msvd_solver=\u001b[39m\u001b[38;5;124m'\u001b[39m\u001b[38;5;124mfull\u001b[39m\u001b[38;5;124m'\u001b[39m\u001b[38;5;124m\"\u001b[39m \u001b[38;5;241m%\u001b[39m (n_components, \u001b[38;5;28mmin\u001b[39m(n_samples, n_features))\n\u001b[0;32m    530\u001b[0m     )\n\u001b[0;32m    532\u001b[0m \u001b[38;5;66;03m# Center data\u001b[39;00m\n\u001b[0;32m    533\u001b[0m \u001b[38;5;28mself\u001b[39m\u001b[38;5;241m.\u001b[39mmean_ \u001b[38;5;241m=\u001b[39m np\u001b[38;5;241m.\u001b[39mmean(X, axis\u001b[38;5;241m=\u001b[39m\u001b[38;5;241m0\u001b[39m)\n",
      "\u001b[1;31mValueError\u001b[0m: n_components=54 must be between 0 and min(n_samples, n_features)=42 with svd_solver='full'"
     ]
    }
   ],
   "source": [
    "pca = decomposition.PCA(n_components = 54)\n",
    "pca.fit(ldn)\n",
    "ldn_transformed = pca.transform(ldn)"
   ]
  },
  {
   "cell_type": "code",
   "execution_count": 465,
   "id": "9bc5388f-cfc3-4039-9689-33dbd434aad6",
   "metadata": {},
   "outputs": [
    {
     "data": {
      "text/plain": [
       "Text(0, 0.5, 'Variance Explained')"
      ]
     },
     "execution_count": 465,
     "metadata": {},
     "output_type": "execute_result"
    },
    {
     "data": {
      "image/png": "[encoded data removed]",
      "text/plain": [
       "<Figure size 432x288 with 1 Axes>"
      ]
     },
     "metadata": {
      "needs_background": "light"
     },
     "output_type": "display_data"
    }
   ],
   "source": [
    "explained_variance = pca.explained_variance_ratio_\n",
    "\n",
    "ax = sns.barplot(y=explained_variance, x = [str(x+1) for x in np.arange(len(explained_variance))])\n",
    "ax.set_xlabel(\"PC\")\n",
    "ax.set_ylabel(\"Variance Explained\")"
   ]
  },
  {
   "cell_type": "code",
   "execution_count": 466,
   "id": "1324048a-d9f4-4b05-8947-7a4a4ccafab0",
   "metadata": {
    "scrolled": true
   },
   "outputs": [
    {
     "data": {
      "text/plain": [
       "Text(0, 0.5, 'PC2')"
      ]
     },
     "execution_count": 466,
     "metadata": {},
     "output_type": "execute_result"
    },
    {
     "data": {
      "image/png": "[encoded data removed]",
      "text/plain": [
       "<Figure size 432x288 with 1 Axes>"
      ]
     },
     "metadata": {
      "needs_background": "light"
     },
     "output_type": "display_data"
    }
   ],
   "source": [
    "first_2_pcs = ldn_transformed[:, 0:2]\n",
    "\n",
    "ax = sns.scatterplot(x = first_2_pcs[:, 0], y = first_2_pcs[:, 1], hue = severity)\n",
    "ax.set_xlabel(\"PC1\")\n",
    "ax.set_ylabel(\"PC2\")"
   ]
  },
  {
   "cell_type": "markdown",
   "id": "a55e9351-bbd5-4b1f-bc1f-b793cc1474ec",
   "metadata": {},
   "source": [
    "### ****try tSNE or uMAP clustering"
   ]
  },
  {
   "cell_type": "code",
   "execution_count": 411,
   "id": "df7d3ab4-563c-4dad-8d24-24e7fd0f7415",
   "metadata": {},
   "outputs": [
    {
     "name": "stdout",
     "output_type": "stream",
     "text": [
      "[[ 4.64700901e+00  4.68461941e+00  2.37909740e+00 ... -3.44363275e+00\n",
      "   3.97759055e+00  8.92650641e-01]\n",
      " [ 4.19334378e+00  4.63385272e+00  2.10739177e+00 ... -4.66673300e-03\n",
      "   4.47380733e+00  1.15287454e+00]\n",
      " [ 3.88787083e+00  4.35867562e+00  2.23336739e+00 ...  1.03919484e+00\n",
      "   4.58491197e+00  8.28977137e-01]\n",
      " ...\n",
      " [ 4.38631501e+00  4.42072113e+00  2.31127557e+00 ... -3.08594065e+00\n",
      "   4.18218358e+00  1.26657577e+00]\n",
      " [ 4.55846398e+00  4.55989381e+00  2.46005186e+00 ... -1.89596943e+00\n",
      "   3.44000340e+00  1.39424981e+00]\n",
      " [ 5.26044284e+00  4.96712841e+00  2.03280234e+00 ... -6.75183251e+00\n",
      "   2.05873913e+00 -6.02085387e-01]]\n"
     ]
    }
   ],
   "source": [
    "print(ldn)"
   ]
  },
  {
   "cell_type": "code",
   "execution_count": 467,
   "id": "3e95c834-2d96-4299-b8d0-dd8c52626d09",
   "metadata": {
    "scrolled": true
   },
   "outputs": [
    {
     "data": {
      "application/vnd.plotly.v1+json": {
       "config": {
        "plotlyServerURL": "https://plot.ly"
       },
       "data": [
        {
         "hovertemplate": "Severity=Active_TB<br>TSNE_1=%{x}<br>TSNE_2=%{y}<extra></extra>",
         "legendgroup": "Active_TB",
         "marker": {
          "color": "#636efa",
          "symbol": "circle"
         },
         "mode": "markers",
         "name": "Active_TB",
         "orientation": "v",
         "showlegend": true,
         "type": "scatter",
         "x": [
          -0.7883451581001282,
          -0.08609995245933533,
          -0.20979759097099304,
          -1.0243310928344727,
          -0.964512050151825,
          -1.3027392625808716,
          -0.4032195210456848,
          -0.7422665357589722,
          -0.4132099449634552,
          -2.977701425552368,
          -1.7293074131011963,
          -0.921179473400116,
          -0.7111730575561523,
          -1.6569287776947021,
          -0.4795515835285187,
          0.44073575735092163,
          -1.2592804431915283,
          -1.5311120748519897,
          -0.8505727648735046,
          0.10576064884662628,
          -1.9166083335876465
         ],
         "xaxis": "x",
         "y": [
          -2.1610255241394043,
          -0.05369817465543747,
          -0.4649897515773773,
          -2.8398613929748535,
          -2.8317675590515137,
          -0.7551074028015137,
          -1.9399027824401855,
          -2.130263090133667,
          -2.642943859100342,
          1.2059768438339233,
          -1.0036851167678833,
          -3.2419445514678955,
          -1.6214118003845215,
          -2.773098945617676,
          -2.198612928390503,
          -2.039983034133911,
          -0.1796368509531021,
          0.5287055969238281,
          -3.3600926399230957,
          -0.8264232873916626,
          -0.5062537789344788
         ],
         "yaxis": "y"
        },
        {
         "hovertemplate": "Severity=LTBI<br>TSNE_1=%{x}<br>TSNE_2=%{y}<extra></extra>",
         "legendgroup": "LTBI",
         "marker": {
          "color": "#EF553B",
          "symbol": "circle"
         },
         "mode": "markers",
         "name": "LTBI",
         "orientation": "v",
         "showlegend": true,
         "type": "scatter",
         "x": [
          -1.1807831525802612,
          -1.7290475368499756,
          -0.10790364444255829,
          -1.0931893587112427,
          -0.26841071248054504,
          0.012653512880206108,
          0.13811522722244263,
          -0.4851542115211487,
          1.200405478477478,
          -1.9646122455596924,
          -0.19642451405525208,
          -0.8915262818336487,
          -0.9332043528556824,
          0.62253737449646,
          0.4684126079082489,
          -0.9434358477592468,
          -0.9150252938270569,
          -2.277466297149658,
          -0.9689782857894897,
          -1.8064689636230469,
          0.3974674344062805
         ],
         "xaxis": "x",
         "y": [
          -0.40027251839637756,
          0.360518217086792,
          0.2710244357585907,
          0.23816807568073273,
          -0.2470381110906601,
          0.7128287553787231,
          1.3319761753082275,
          1.0369879007339478,
          0.8396751284599304,
          0.4915732443332672,
          0.2632856070995331,
          0.11231232434511185,
          1.1639193296432495,
          -1.0862981081008911,
          0.7241537570953369,
          -1.8684735298156738,
          0.4756450951099396,
          0.6903881430625916,
          0.7985393404960632,
          -0.4306536316871643,
          2.4236092567443848
         ],
         "yaxis": "y"
        },
        {
         "hovertemplate": "Severity=Control<br>TSNE_1=%{x}<br>TSNE_2=%{y}<extra></extra>",
         "legendgroup": "Control",
         "marker": {
          "color": "#00cc96",
          "symbol": "circle"
         },
         "mode": "markers",
         "name": "Control",
         "orientation": "v",
         "showlegend": true,
         "type": "scatter",
         "x": [
          0.2542256712913513,
          -2.2903223037719727,
          0.5558591485023499,
          -1.0954877138137817,
          -1.114614486694336,
          0.41025984287261963,
          -1.4481444358825684,
          -1.8083604574203491,
          0.23983055353164673,
          -2.094362258911133,
          -2.7445788383483887,
          0.49867966771125793
         ],
         "xaxis": "x",
         "y": [
          0.4809120297431946,
          0.16311238706111908,
          -0.18868759274482727,
          1.9933053255081177,
          1.2349283695220947,
          2.568134069442749,
          0.7425901889801025,
          1.7030961513519287,
          1.4151374101638794,
          0.6768872141838074,
          0.05039361119270325,
          0.5745862722396851
         ],
         "yaxis": "y"
        }
       ],
       "layout": {
        "height": 600,
        "legend": {
         "title": {
          "text": "Severity"
         },
         "tracegroupgap": 0
        },
        "margin": {
         "t": 60
        },
        "template": {
         "data": {
          "bar": [
           {
            "error_x": {
             "color": "#2a3f5f"
            },
            "error_y": {
             "color": "#2a3f5f"
            },
            "marker": {
             "line": {
              "color": "#E5ECF6",
              "width": 0.5
             },
             "pattern": {
              "fillmode": "overlay",
              "size": 10,
              "solidity": 0.2
             }
            },
            "type": "bar"
           }
          ],
          "barpolar": [
           {
            "marker": {
             "line": {
              "color": "#E5ECF6",
              "width": 0.5
             },
             "pattern": {
              "fillmode": "overlay",
              "size": 10,
              "solidity": 0.2
             }
            },
            "type": "barpolar"
           }
          ],
          "carpet": [
           {
            "aaxis": {
             "endlinecolor": "#2a3f5f",
             "gridcolor": "white",
             "linecolor": "white",
             "minorgridcolor": "white",
             "startlinecolor": "#2a3f5f"
            },
            "baxis": {
             "endlinecolor": "#2a3f5f",
             "gridcolor": "white",
             "linecolor": "white",
             "minorgridcolor": "white",
             "startlinecolor": "#2a3f5f"
            },
            "type": "carpet"
           }
          ],
          "choropleth": [
           {
            "colorbar": {
             "outlinewidth": 0,
             "ticks": ""
            },
            "type": "choropleth"
           }
          ],
          "contour": [
           {
            "colorbar": {
             "outlinewidth": 0,
             "ticks": ""
            },
            "colorscale": [
             [
              0,
              "#0d0887"
             ],
             [
              0.1111111111111111,
              "#46039f"
             ],
             [
              0.2222222222222222,
              "#7201a8"
             ],
             [
              0.3333333333333333,
              "#9c179e"
             ],
             [
              0.4444444444444444,
              "#bd3786"
             ],
             [
              0.5555555555555556,
              "#d8576b"
             ],
             [
              0.6666666666666666,
              "#ed7953"
             ],
             [
              0.7777777777777778,
              "#fb9f3a"
             ],
             [
              0.8888888888888888,
              "#fdca26"
             ],
             [
              1,
              "#f0f921"
             ]
            ],
            "type": "contour"
           }
          ],
          "contourcarpet": [
           {
            "colorbar": {
             "outlinewidth": 0,
             "ticks": ""
            },
            "type": "contourcarpet"
           }
          ],
          "heatmap": [
           {
            "colorbar": {
             "outlinewidth": 0,
             "ticks": ""
            },
            "colorscale": [
             [
              0,
              "#0d0887"
             ],
             [
              0.1111111111111111,
              "#46039f"
             ],
             [
              0.2222222222222222,
              "#7201a8"
             ],
             [
              0.3333333333333333,
              "#9c179e"
             ],
             [
              0.4444444444444444,
              "#bd3786"
             ],
             [
              0.5555555555555556,
              "#d8576b"
             ],
             [
              0.6666666666666666,
              "#ed7953"
             ],
             [
              0.7777777777777778,
              "#fb9f3a"
             ],
             [
              0.8888888888888888,
              "#fdca26"
             ],
             [
              1,
              "#f0f921"
             ]
            ],
            "type": "heatmap"
           }
          ],
          "heatmapgl": [
           {
            "colorbar": {
             "outlinewidth": 0,
             "ticks": ""
            },
            "colorscale": [
             [
              0,
              "#0d0887"
             ],
             [
              0.1111111111111111,
              "#46039f"
             ],
             [
              0.2222222222222222,
              "#7201a8"
             ],
             [
              0.3333333333333333,
              "#9c179e"
             ],
             [
              0.4444444444444444,
              "#bd3786"
             ],
             [
              0.5555555555555556,
              "#d8576b"
             ],
             [
              0.6666666666666666,
              "#ed7953"
             ],
             [
              0.7777777777777778,
              "#fb9f3a"
             ],
             [
              0.8888888888888888,
              "#fdca26"
             ],
             [
              1,
              "#f0f921"
             ]
            ],
            "type": "heatmapgl"
           }
          ],
          "histogram": [
           {
            "marker": {
             "pattern": {
              "fillmode": "overlay",
              "size": 10,
              "solidity": 0.2
             }
            },
            "type": "histogram"
           }
          ],
          "histogram2d": [
           {
            "colorbar": {
             "outlinewidth": 0,
             "ticks": ""
            },
            "colorscale": [
             [
              0,
              "#0d0887"
             ],
             [
              0.1111111111111111,
              "#46039f"
             ],
             [
              0.2222222222222222,
              "#7201a8"
             ],
             [
              0.3333333333333333,
              "#9c179e"
             ],
             [
              0.4444444444444444,
              "#bd3786"
             ],
             [
              0.5555555555555556,
              "#d8576b"
             ],
             [
              0.6666666666666666,
              "#ed7953"
             ],
             [
              0.7777777777777778,
              "#fb9f3a"
             ],
             [
              0.8888888888888888,
              "#fdca26"
             ],
             [
              1,
              "#f0f921"
             ]
            ],
            "type": "histogram2d"
           }
          ],
          "histogram2dcontour": [
           {
            "colorbar": {
             "outlinewidth": 0,
             "ticks": ""
            },
            "colorscale": [
             [
              0,
              "#0d0887"
             ],
             [
              0.1111111111111111,
              "#46039f"
             ],
             [
              0.2222222222222222,
              "#7201a8"
             ],
             [
              0.3333333333333333,
              "#9c179e"
             ],
             [
              0.4444444444444444,
              "#bd3786"
             ],
             [
              0.5555555555555556,
              "#d8576b"
             ],
             [
              0.6666666666666666,
              "#ed7953"
             ],
             [
              0.7777777777777778,
              "#fb9f3a"
             ],
             [
              0.8888888888888888,
              "#fdca26"
             ],
             [
              1,
              "#f0f921"
             ]
            ],
            "type": "histogram2dcontour"
           }
          ],
          "mesh3d": [
           {
            "colorbar": {
             "outlinewidth": 0,
             "ticks": ""
            },
            "type": "mesh3d"
           }
          ],
          "parcoords": [
           {
            "line": {
             "colorbar": {
              "outlinewidth": 0,
              "ticks": ""
             }
            },
            "type": "parcoords"
           }
          ],
          "pie": [
           {
            "automargin": true,
            "type": "pie"
           }
          ],
          "scatter": [
           {
            "fillpattern": {
             "fillmode": "overlay",
             "size": 10,
             "solidity": 0.2
            },
            "type": "scatter"
           }
          ],
          "scatter3d": [
           {
            "line": {
             "colorbar": {
              "outlinewidth": 0,
              "ticks": ""
             }
            },
            "marker": {
             "colorbar": {
              "outlinewidth": 0,
              "ticks": ""
             }
            },
            "type": "scatter3d"
           }
          ],
          "scattercarpet": [
           {
            "marker": {
             "colorbar": {
              "outlinewidth": 0,
              "ticks": ""
             }
            },
            "type": "scattercarpet"
           }
          ],
          "scattergeo": [
           {
            "marker": {
             "colorbar": {
              "outlinewidth": 0,
              "ticks": ""
             }
            },
            "type": "scattergeo"
           }
          ],
          "scattergl": [
           {
            "marker": {
             "colorbar": {
              "outlinewidth": 0,
              "ticks": ""
             }
            },
            "type": "scattergl"
           }
          ],
          "scattermapbox": [
           {
            "marker": {
             "colorbar": {
              "outlinewidth": 0,
              "ticks": ""
             }
            },
            "type": "scattermapbox"
           }
          ],
          "scatterpolar": [
           {
            "marker": {
             "colorbar": {
              "outlinewidth": 0,
              "ticks": ""
             }
            },
            "type": "scatterpolar"
           }
          ],
          "scatterpolargl": [
           {
            "marker": {
             "colorbar": {
              "outlinewidth": 0,
              "ticks": ""
             }
            },
            "type": "scatterpolargl"
           }
          ],
          "scatterternary": [
           {
            "marker": {
             "colorbar": {
              "outlinewidth": 0,
              "ticks": ""
             }
            },
            "type": "scatterternary"
           }
          ],
          "surface": [
           {
            "colorbar": {
             "outlinewidth": 0,
             "ticks": ""
            },
            "colorscale": [
             [
              0,
              "#0d0887"
             ],
             [
              0.1111111111111111,
              "#46039f"
             ],
             [
              0.2222222222222222,
              "#7201a8"
             ],
             [
              0.3333333333333333,
              "#9c179e"
             ],
             [
              0.4444444444444444,
              "#bd3786"
             ],
             [
              0.5555555555555556,
              "#d8576b"
             ],
             [
              0.6666666666666666,
              "#ed7953"
             ],
             [
              0.7777777777777778,
              "#fb9f3a"
             ],
             [
              0.8888888888888888,
              "#fdca26"
             ],
             [
              1,
              "#f0f921"
             ]
            ],
            "type": "surface"
           }
          ],
          "table": [
           {
            "cells": {
             "fill": {
              "color": "#EBF0F8"
             },
             "line": {
              "color": "white"
             }
            },
            "header": {
             "fill": {
              "color": "#C8D4E3"
             },
             "line": {
              "color": "white"
             }
            },
            "type": "table"
           }
          ]
         },
         "layout": {
          "annotationdefaults": {
           "arrowcolor": "#2a3f5f",
           "arrowhead": 0,
           "arrowwidth": 1
          },
          "autotypenumbers": "strict",
          "coloraxis": {
           "colorbar": {
            "outlinewidth": 0,
            "ticks": ""
           }
          },
          "colorscale": {
           "diverging": [
            [
             0,
             "#8e0152"
            ],
            [
             0.1,
             "#c51b7d"
            ],
            [
             0.2,
             "#de77ae"
            ],
            [
             0.3,
             "#f1b6da"
            ],
            [
             0.4,
             "#fde0ef"
            ],
            [
             0.5,
             "#f7f7f7"
            ],
            [
             0.6,
             "#e6f5d0"
            ],
            [
             0.7,
             "#b8e186"
            ],
            [
             0.8,
             "#7fbc41"
            ],
            [
             0.9,
             "#4d9221"
            ],
            [
             1,
             "#276419"
            ]
           ],
           "sequential": [
            [
             0,
             "#0d0887"
            ],
            [
             0.1111111111111111,
             "#46039f"
            ],
            [
             0.2222222222222222,
             "#7201a8"
            ],
            [
             0.3333333333333333,
             "#9c179e"
            ],
            [
             0.4444444444444444,
             "#bd3786"
            ],
            [
             0.5555555555555556,
             "#d8576b"
            ],
            [
             0.6666666666666666,
             "#ed7953"
            ],
            [
             0.7777777777777778,
             "#fb9f3a"
            ],
            [
             0.8888888888888888,
             "#fdca26"
            ],
            [
             1,
             "#f0f921"
            ]
           ],
           "sequentialminus": [
            [
             0,
             "#0d0887"
            ],
            [
             0.1111111111111111,
             "#46039f"
            ],
            [
             0.2222222222222222,
             "#7201a8"
            ],
            [
             0.3333333333333333,
             "#9c179e"
            ],
            [
             0.4444444444444444,
             "#bd3786"
            ],
            [
             0.5555555555555556,
             "#d8576b"
            ],
            [
             0.6666666666666666,
             "#ed7953"
            ],
            [
             0.7777777777777778,
             "#fb9f3a"
            ],
            [
             0.8888888888888888,
             "#fdca26"
            ],
            [
             1,
             "#f0f921"
            ]
           ]
          },
          "colorway": [
           "#636efa",
           "#EF553B",
           "#00cc96",
           "#ab63fa",
           "#FFA15A",
           "#19d3f3",
           "#FF6692",
           "#B6E880",
           "#FF97FF",
           "#FECB52"
          ],
          "font": {
           "color": "#2a3f5f"
          },
          "geo": {
           "bgcolor": "white",
           "lakecolor": "white",
           "landcolor": "#E5ECF6",
           "showlakes": true,
           "showland": true,
           "subunitcolor": "white"
          },
          "hoverlabel": {
           "align": "left"
          },
          "hovermode": "closest",
          "mapbox": {
           "style": "light"
          },
          "paper_bgcolor": "white",
          "plot_bgcolor": "#E5ECF6",
          "polar": {
           "angularaxis": {
            "gridcolor": "white",
            "linecolor": "white",
            "ticks": ""
           },
           "bgcolor": "#E5ECF6",
           "radialaxis": {
            "gridcolor": "white",
            "linecolor": "white",
            "ticks": ""
           }
          },
          "scene": {
           "xaxis": {
            "backgroundcolor": "#E5ECF6",
            "gridcolor": "white",
            "gridwidth": 2,
            "linecolor": "white",
            "showbackground": true,
            "ticks": "",
            "zerolinecolor": "white"
           },
           "yaxis": {
            "backgroundcolor": "#E5ECF6",
            "gridcolor": "white",
            "gridwidth": 2,
            "linecolor": "white",
            "showbackground": true,
            "ticks": "",
            "zerolinecolor": "white"
           },
           "zaxis": {
            "backgroundcolor": "#E5ECF6",
            "gridcolor": "white",
            "gridwidth": 2,
            "linecolor": "white",
            "showbackground": true,
            "ticks": "",
            "zerolinecolor": "white"
           }
          },
          "shapedefaults": {
           "line": {
            "color": "#2a3f5f"
           }
          },
          "ternary": {
           "aaxis": {
            "gridcolor": "white",
            "linecolor": "white",
            "ticks": ""
           },
           "baxis": {
            "gridcolor": "white",
            "linecolor": "white",
            "ticks": ""
           },
           "bgcolor": "#E5ECF6",
           "caxis": {
            "gridcolor": "white",
            "linecolor": "white",
            "ticks": ""
           }
          },
          "title": {
           "x": 0.05
          },
          "xaxis": {
           "automargin": true,
           "gridcolor": "white",
           "linecolor": "white",
           "ticks": "",
           "title": {
            "standoff": 15
           },
           "zerolinecolor": "white",
           "zerolinewidth": 2
          },
          "yaxis": {
           "automargin": true,
           "gridcolor": "white",
           "linecolor": "white",
           "ticks": "",
           "title": {
            "standoff": 15
           },
           "zerolinecolor": "white",
           "zerolinewidth": 2
          }
         }
        },
        "width": 800,
        "xaxis": {
         "anchor": "y",
         "autorange": true,
         "domain": [
          0,
          1
         ],
         "range": [
          -3.2430730674988677,
          1.4657771204239773
         ],
         "title": {
          "text": "TSNE_1"
         },
         "type": "linear"
        },
        "yaxis": {
         "anchor": "x",
         "autorange": true,
         "domain": [
          0,
          1
         ],
         "range": [
          -3.750203499641512,
          2.9582449291611654
         ],
         "title": {
          "text": "TSNE_2"
         },
         "type": "linear"
        }
       }
      },
      "image/png": "[encoded data removed]",
      "text/html": [
       "<div>                            <div id=\"bc481b92-dfa3-43b0-8b5b-5d7edd16cf94\" class=\"plotly-graph-div\" style=\"height:600px; width:800px;\"></div>            <script type=\"text/javascript\">                require([\"plotly\"], function(Plotly) {                    window.PLOTLYENV=window.PLOTLYENV || {};                                    if (document.getElementById(\"bc481b92-dfa3-43b0-8b5b-5d7edd16cf94\")) {                    Plotly.newPlot(                        \"bc481b92-dfa3-43b0-8b5b-5d7edd16cf94\",                        [{\"hovertemplate\":\"Severity=Active_TB\\u003cbr\\u003eTSNE_1=%{x}\\u003cbr\\u003eTSNE_2=%{y}\\u003cextra\\u003e\\u003c\\u002fextra\\u003e\",\"legendgroup\":\"Active_TB\",\"marker\":{\"color\":\"#636efa\",\"symbol\":\"circle\"},\"mode\":\"markers\",\"name\":\"Active_TB\",\"orientation\":\"v\",\"showlegend\":true,\"x\":[-0.7883451581001282,-0.08609995245933533,-0.20979759097099304,-1.0243310928344727,-0.964512050151825,-1.3027392625808716,-0.4032195210456848,-0.7422665357589722,-0.4132099449634552,-2.977701425552368,-1.7293074131011963,-0.921179473400116,-0.7111730575561523,-1.6569287776947021,-0.4795515835285187,0.44073575735092163,-1.2592804431915283,-1.5311120748519897,-0.8505727648735046,0.10576064884662628,-1.9166083335876465],\"xaxis\":\"x\",\"y\":[-2.1610255241394043,-0.05369817465543747,-0.4649897515773773,-2.8398613929748535,-2.8317675590515137,-0.7551074028015137,-1.9399027824401855,-2.130263090133667,-2.642943859100342,1.2059768438339233,-1.0036851167678833,-3.2419445514678955,-1.6214118003845215,-2.773098945617676,-2.198612928390503,-2.039983034133911,-0.1796368509531021,0.5287055969238281,-3.3600926399230957,-0.8264232873916626,-0.5062537789344788],\"yaxis\":\"y\",\"type\":\"scatter\"},{\"hovertemplate\":\"Severity=LTBI\\u003cbr\\u003eTSNE_1=%{x}\\u003cbr\\u003eTSNE_2=%{y}\\u003cextra\\u003e\\u003c\\u002fextra\\u003e\",\"legendgroup\":\"LTBI\",\"marker\":{\"color\":\"#EF553B\",\"symbol\":\"circle\"},\"mode\":\"markers\",\"name\":\"LTBI\",\"orientation\":\"v\",\"showlegend\":true,\"x\":[-1.1807831525802612,-1.7290475368499756,-0.10790364444255829,-1.0931893587112427,-0.26841071248054504,0.012653512880206108,0.13811522722244263,-0.4851542115211487,1.200405478477478,-1.9646122455596924,-0.19642451405525208,-0.8915262818336487,-0.9332043528556824,0.62253737449646,0.4684126079082489,-0.9434358477592468,-0.9150252938270569,-2.277466297149658,-0.9689782857894897,-1.8064689636230469,0.3974674344062805],\"xaxis\":\"x\",\"y\":[-0.40027251839637756,0.360518217086792,0.2710244357585907,0.23816807568073273,-0.2470381110906601,0.7128287553787231,1.3319761753082275,1.0369879007339478,0.8396751284599304,0.4915732443332672,0.2632856070995331,0.11231232434511185,1.1639193296432495,-1.0862981081008911,0.7241537570953369,-1.8684735298156738,0.4756450951099396,0.6903881430625916,0.7985393404960632,-0.4306536316871643,2.4236092567443848],\"yaxis\":\"y\",\"type\":\"scatter\"},{\"hovertemplate\":\"Severity=Control\\u003cbr\\u003eTSNE_1=%{x}\\u003cbr\\u003eTSNE_2=%{y}\\u003cextra\\u003e\\u003c\\u002fextra\\u003e\",\"legendgroup\":\"Control\",\"marker\":{\"color\":\"#00cc96\",\"symbol\":\"circle\"},\"mode\":\"markers\",\"name\":\"Control\",\"orientation\":\"v\",\"showlegend\":true,\"x\":[0.2542256712913513,-2.2903223037719727,0.5558591485023499,-1.0954877138137817,-1.114614486694336,0.41025984287261963,-1.4481444358825684,-1.8083604574203491,0.23983055353164673,-2.094362258911133,-2.7445788383483887,0.49867966771125793],\"xaxis\":\"x\",\"y\":[0.4809120297431946,0.16311238706111908,-0.18868759274482727,1.9933053255081177,1.2349283695220947,2.568134069442749,0.7425901889801025,1.7030961513519287,1.4151374101638794,0.6768872141838074,0.05039361119270325,0.5745862722396851],\"yaxis\":\"y\",\"type\":\"scatter\"}],                        {\"template\":{\"data\":{\"histogram2dcontour\":[{\"type\":\"histogram2dcontour\",\"colorbar\":{\"outlinewidth\":0,\"ticks\":\"\"},\"colorscale\":[[0.0,\"#0d0887\"],[0.1111111111111111,\"#46039f\"],[0.2222222222222222,\"#7201a8\"],[0.3333333333333333,\"#9c179e\"],[0.4444444444444444,\"#bd3786\"],[0.5555555555555556,\"#d8576b\"],[0.6666666666666666,\"#ed7953\"],[0.7777777777777778,\"#fb9f3a\"],[0.8888888888888888,\"#fdca26\"],[1.0,\"#f0f921\"]]}],\"choropleth\":[{\"type\":\"choropleth\",\"colorbar\":{\"outlinewidth\":0,\"ticks\":\"\"}}],\"histogram2d\":[{\"type\":\"histogram2d\",\"colorbar\":{\"outlinewidth\":0,\"ticks\":\"\"},\"colorscale\":[[0.0,\"#0d0887\"],[0.1111111111111111,\"#46039f\"],[0.2222222222222222,\"#7201a8\"],[0.3333333333333333,\"#9c179e\"],[0.4444444444444444,\"#bd3786\"],[0.5555555555555556,\"#d8576b\"],[0.6666666666666666,\"#ed7953\"],[0.7777777777777778,\"#fb9f3a\"],[0.8888888888888888,\"#fdca26\"],[1.0,\"#f0f921\"]]}],\"heatmap\":[{\"type\":\"heatmap\",\"colorbar\":{\"outlinewidth\":0,\"ticks\":\"\"},\"colorscale\":[[0.0,\"#0d0887\"],[0.1111111111111111,\"#46039f\"],[0.2222222222222222,\"#7201a8\"],[0.3333333333333333,\"#9c179e\"],[0.4444444444444444,\"#bd3786\"],[0.5555555555555556,\"#d8576b\"],[0.6666666666666666,\"#ed7953\"],[0.7777777777777778,\"#fb9f3a\"],[0.8888888888888888,\"#fdca26\"],[1.0,\"#f0f921\"]]}],\"heatmapgl\":[{\"type\":\"heatmapgl\",\"colorbar\":{\"outlinewidth\":0,\"ticks\":\"\"},\"colorscale\":[[0.0,\"#0d0887\"],[0.1111111111111111,\"#46039f\"],[0.2222222222222222,\"#7201a8\"],[0.3333333333333333,\"#9c179e\"],[0.4444444444444444,\"#bd3786\"],[0.5555555555555556,\"#d8576b\"],[0.6666666666666666,\"#ed7953\"],[0.7777777777777778,\"#fb9f3a\"],[0.8888888888888888,\"#fdca26\"],[1.0,\"#f0f921\"]]}],\"contourcarpet\":[{\"type\":\"contourcarpet\",\"colorbar\":{\"outlinewidth\":0,\"ticks\":\"\"}}],\"contour\":[{\"type\":\"contour\",\"colorbar\":{\"outlinewidth\":0,\"ticks\":\"\"},\"colorscale\":[[0.0,\"#0d0887\"],[0.1111111111111111,\"#46039f\"],[0.2222222222222222,\"#7201a8\"],[0.3333333333333333,\"#9c179e\"],[0.4444444444444444,\"#bd3786\"],[0.5555555555555556,\"#d8576b\"],[0.6666666666666666,\"#ed7953\"],[0.7777777777777778,\"#fb9f3a\"],[0.8888888888888888,\"#fdca26\"],[1.0,\"#f0f921\"]]}],\"surface\":[{\"type\":\"surface\",\"colorbar\":{\"outlinewidth\":0,\"ticks\":\"\"},\"colorscale\":[[0.0,\"#0d0887\"],[0.1111111111111111,\"#46039f\"],[0.2222222222222222,\"#7201a8\"],[0.3333333333333333,\"#9c179e\"],[0.4444444444444444,\"#bd3786\"],[0.5555555555555556,\"#d8576b\"],[0.6666666666666666,\"#ed7953\"],[0.7777777777777778,\"#fb9f3a\"],[0.8888888888888888,\"#fdca26\"],[1.0,\"#f0f921\"]]}],\"mesh3d\":[{\"type\":\"mesh3d\",\"colorbar\":{\"outlinewidth\":0,\"ticks\":\"\"}}],\"scatter\":[{\"fillpattern\":{\"fillmode\":\"overlay\",\"size\":10,\"solidity\":0.2},\"type\":\"scatter\"}],\"parcoords\":[{\"type\":\"parcoords\",\"line\":{\"colorbar\":{\"outlinewidth\":0,\"ticks\":\"\"}}}],\"scatterpolargl\":[{\"type\":\"scatterpolargl\",\"marker\":{\"colorbar\":{\"outlinewidth\":0,\"ticks\":\"\"}}}],\"bar\":[{\"error_x\":{\"color\":\"#2a3f5f\"},\"error_y\":{\"color\":\"#2a3f5f\"},\"marker\":{\"line\":{\"color\":\"#E5ECF6\",\"width\":0.5},\"pattern\":{\"fillmode\":\"overlay\",\"size\":10,\"solidity\":0.2}},\"type\":\"bar\"}],\"scattergeo\":[{\"type\":\"scattergeo\",\"marker\":{\"colorbar\":{\"outlinewidth\":0,\"ticks\":\"\"}}}],\"scatterpolar\":[{\"type\":\"scatterpolar\",\"marker\":{\"colorbar\":{\"outlinewidth\":0,\"ticks\":\"\"}}}],\"histogram\":[{\"marker\":{\"pattern\":{\"fillmode\":\"overlay\",\"size\":10,\"solidity\":0.2}},\"type\":\"histogram\"}],\"scattergl\":[{\"type\":\"scattergl\",\"marker\":{\"colorbar\":{\"outlinewidth\":0,\"ticks\":\"\"}}}],\"scatter3d\":[{\"type\":\"scatter3d\",\"line\":{\"colorbar\":{\"outlinewidth\":0,\"ticks\":\"\"}},\"marker\":{\"colorbar\":{\"outlinewidth\":0,\"ticks\":\"\"}}}],\"scattermapbox\":[{\"type\":\"scattermapbox\",\"marker\":{\"colorbar\":{\"outlinewidth\":0,\"ticks\":\"\"}}}],\"scatterternary\":[{\"type\":\"scatterternary\",\"marker\":{\"colorbar\":{\"outlinewidth\":0,\"ticks\":\"\"}}}],\"scattercarpet\":[{\"type\":\"scattercarpet\",\"marker\":{\"colorbar\":{\"outlinewidth\":0,\"ticks\":\"\"}}}],\"carpet\":[{\"aaxis\":{\"endlinecolor\":\"#2a3f5f\",\"gridcolor\":\"white\",\"linecolor\":\"white\",\"minorgridcolor\":\"white\",\"startlinecolor\":\"#2a3f5f\"},\"baxis\":{\"endlinecolor\":\"#2a3f5f\",\"gridcolor\":\"white\",\"linecolor\":\"white\",\"minorgridcolor\":\"white\",\"startlinecolor\":\"#2a3f5f\"},\"type\":\"carpet\"}],\"table\":[{\"cells\":{\"fill\":{\"color\":\"#EBF0F8\"},\"line\":{\"color\":\"white\"}},\"header\":{\"fill\":{\"color\":\"#C8D4E3\"},\"line\":{\"color\":\"white\"}},\"type\":\"table\"}],\"barpolar\":[{\"marker\":{\"line\":{\"color\":\"#E5ECF6\",\"width\":0.5},\"pattern\":{\"fillmode\":\"overlay\",\"size\":10,\"solidity\":0.2}},\"type\":\"barpolar\"}],\"pie\":[{\"automargin\":true,\"type\":\"pie\"}]},\"layout\":{\"autotypenumbers\":\"strict\",\"colorway\":[\"#636efa\",\"#EF553B\",\"#00cc96\",\"#ab63fa\",\"#FFA15A\",\"#19d3f3\",\"#FF6692\",\"#B6E880\",\"#FF97FF\",\"#FECB52\"],\"font\":{\"color\":\"#2a3f5f\"},\"hovermode\":\"closest\",\"hoverlabel\":{\"align\":\"left\"},\"paper_bgcolor\":\"white\",\"plot_bgcolor\":\"#E5ECF6\",\"polar\":{\"bgcolor\":\"#E5ECF6\",\"angularaxis\":{\"gridcolor\":\"white\",\"linecolor\":\"white\",\"ticks\":\"\"},\"radialaxis\":{\"gridcolor\":\"white\",\"linecolor\":\"white\",\"ticks\":\"\"}},\"ternary\":{\"bgcolor\":\"#E5ECF6\",\"aaxis\":{\"gridcolor\":\"white\",\"linecolor\":\"white\",\"ticks\":\"\"},\"baxis\":{\"gridcolor\":\"white\",\"linecolor\":\"white\",\"ticks\":\"\"},\"caxis\":{\"gridcolor\":\"white\",\"linecolor\":\"white\",\"ticks\":\"\"}},\"coloraxis\":{\"colorbar\":{\"outlinewidth\":0,\"ticks\":\"\"}},\"colorscale\":{\"sequential\":[[0.0,\"#0d0887\"],[0.1111111111111111,\"#46039f\"],[0.2222222222222222,\"#7201a8\"],[0.3333333333333333,\"#9c179e\"],[0.4444444444444444,\"#bd3786\"],[0.5555555555555556,\"#d8576b\"],[0.6666666666666666,\"#ed7953\"],[0.7777777777777778,\"#fb9f3a\"],[0.8888888888888888,\"#fdca26\"],[1.0,\"#f0f921\"]],\"sequentialminus\":[[0.0,\"#0d0887\"],[0.1111111111111111,\"#46039f\"],[0.2222222222222222,\"#7201a8\"],[0.3333333333333333,\"#9c179e\"],[0.4444444444444444,\"#bd3786\"],[0.5555555555555556,\"#d8576b\"],[0.6666666666666666,\"#ed7953\"],[0.7777777777777778,\"#fb9f3a\"],[0.8888888888888888,\"#fdca26\"],[1.0,\"#f0f921\"]],\"diverging\":[[0,\"#8e0152\"],[0.1,\"#c51b7d\"],[0.2,\"#de77ae\"],[0.3,\"#f1b6da\"],[0.4,\"#fde0ef\"],[0.5,\"#f7f7f7\"],[0.6,\"#e6f5d0\"],[0.7,\"#b8e186\"],[0.8,\"#7fbc41\"],[0.9,\"#4d9221\"],[1,\"#276419\"]]},\"xaxis\":{\"gridcolor\":\"white\",\"linecolor\":\"white\",\"ticks\":\"\",\"title\":{\"standoff\":15},\"zerolinecolor\":\"white\",\"automargin\":true,\"zerolinewidth\":2},\"yaxis\":{\"gridcolor\":\"white\",\"linecolor\":\"white\",\"ticks\":\"\",\"title\":{\"standoff\":15},\"zerolinecolor\":\"white\",\"automargin\":true,\"zerolinewidth\":2},\"scene\":{\"xaxis\":{\"backgroundcolor\":\"#E5ECF6\",\"gridcolor\":\"white\",\"linecolor\":\"white\",\"showbackground\":true,\"ticks\":\"\",\"zerolinecolor\":\"white\",\"gridwidth\":2},\"yaxis\":{\"backgroundcolor\":\"#E5ECF6\",\"gridcolor\":\"white\",\"linecolor\":\"white\",\"showbackground\":true,\"ticks\":\"\",\"zerolinecolor\":\"white\",\"gridwidth\":2},\"zaxis\":{\"backgroundcolor\":\"#E5ECF6\",\"gridcolor\":\"white\",\"linecolor\":\"white\",\"showbackground\":true,\"ticks\":\"\",\"zerolinecolor\":\"white\",\"gridwidth\":2}},\"shapedefaults\":{\"line\":{\"color\":\"#2a3f5f\"}},\"annotationdefaults\":{\"arrowcolor\":\"#2a3f5f\",\"arrowhead\":0,\"arrowwidth\":1},\"geo\":{\"bgcolor\":\"white\",\"landcolor\":\"#E5ECF6\",\"subunitcolor\":\"white\",\"showland\":true,\"showlakes\":true,\"lakecolor\":\"white\"},\"title\":{\"x\":0.05},\"mapbox\":{\"style\":\"light\"}}},\"xaxis\":{\"anchor\":\"y\",\"domain\":[0.0,1.0],\"title\":{\"text\":\"TSNE_1\"}},\"yaxis\":{\"anchor\":\"x\",\"domain\":[0.0,1.0],\"title\":{\"text\":\"TSNE_2\"}},\"legend\":{\"title\":{\"text\":\"Severity\"},\"tracegroupgap\":0},\"margin\":{\"t\":60},\"height\":600,\"width\":800},                        {\"responsive\": true}                    ).then(function(){\n",
       "                            \n",
       "var gd = document.getElementById('bc481b92-dfa3-43b0-8b5b-5d7edd16cf94');\n",
       "var x = new MutationObserver(function (mutations, observer) {{\n",
       "        var display = window.getComputedStyle(gd).display;\n",
       "        if (!display || display === 'none') {{\n",
       "            console.log([gd, 'removed!']);\n",
       "            Plotly.purge(gd);\n",
       "            observer.disconnect();\n",
       "        }}\n",
       "}});\n",
       "\n",
       "// Listen for the removal of the full notebook cells\n",
       "var notebookContainer = gd.closest('#notebook-container');\n",
       "if (notebookContainer) {{\n",
       "    x.observe(notebookContainer, {childList: true});\n",
       "}}\n",
       "\n",
       "// Listen for the clearing of the current output cell\n",
       "var outputEl = gd.closest('.output');\n",
       "if (outputEl) {{\n",
       "    x.observe(outputEl, {childList: true});\n",
       "}}\n",
       "\n",
       "                        })                };                });            </script>        </div>"
      ]
     },
     "metadata": {},
     "output_type": "display_data"
    }
   ],
   "source": [
    "# from sklearn.manifold import TSNE\n",
    "# import plotly.express as px\n",
    "\n",
    "# df = ldn\n",
    "\n",
    "# features = df.loc[:, :'petal_width']\n",
    "\n",
    "# tsne = TSNE(n_components=2, random_state=0)\n",
    "# projections = tsne.fit_transform(features)\n",
    "\n",
    "# fig = px.scatter(\n",
    "#     projections, x=0, y=1,\n",
    "#     color=severity, labels={'color': 'severity'},\n",
    "#     height=600,width=800\n",
    "# )\n",
    "# fig.show()\n",
    "\n",
    "from sklearn.manifold import TSNE\n",
    "import plotly.express as px\n",
    "\n",
    "# Assuming you have your gene expression data in a DataFrame with samples as rows and genes as columns\n",
    "# Replace the following line with your actual data loading process\n",
    "df = ldn_count_df.T\n",
    "\n",
    "# Assuming the first column contains sample IDs and the rest contain gene expression values\n",
    "# You may need to adjust this based on your actual data structure\n",
    "# samples = df.iloc[0, 0]\n",
    "gene_expression = ldn\n",
    "\n",
    "# Perform t-SNE on gene expression data\n",
    "tsne = TSNE(n_components=2, random_state=0)\n",
    "projections = tsne.fit_transform(gene_expression)\n",
    "\n",
    "# Create a DataFrame with sample IDs and t-SNE projections\n",
    "tsne_df = pd.DataFrame(projections, columns=['TSNE_1', 'TSNE_2'])\n",
    "tsne_df['Severity'] = severity\n",
    "\n",
    "# Plot t-SNE clusters\n",
    "fig = px.scatter(\n",
    "    tsne_df, x='TSNE_1', y='TSNE_2',\n",
    "    color='Severity', labels={'color': 'Severity'},\n",
    "    height=600, width=800\n",
    ")\n",
    "fig.show()\n"
   ]
  },
  {
   "cell_type": "code",
   "execution_count": 470,
   "id": "b0e9c624-c938-4bd2-91ce-79153ef3a29d",
   "metadata": {},
   "outputs": [
    {
     "data": {
      "application/vnd.plotly.v1+json": {
       "config": {
        "plotlyServerURL": "https://plot.ly"
       },
       "data": [
        {
         "hovertemplate": "Severity=Active_TB<br>0=%{x}<br>1=%{y}<extra></extra>",
         "legendgroup": "Active_TB",
         "marker": {
          "color": "#636efa",
          "symbol": "circle"
         },
         "mode": "markers",
         "name": "Active_TB",
         "orientation": "v",
         "showlegend": true,
         "type": "scatter",
         "x": [
          2.735701560974121,
          4.801268577575684,
          4.114089012145996,
          2.6900229454040527,
          2.4897124767303467,
          4.132933616638184,
          3.1694352626800537,
          2.72959041595459,
          3.03459095954895,
          5.89993953704834,
          4.36896276473999,
          2.210179090499878,
          3.1340644359588623,
          3.0109307765960693,
          3.205693006515503,
          3.990009307861328,
          4.869265556335449,
          5.509054660797119,
          2.131697177886963,
          4.245654582977295,
          4.442259788513184
         ],
         "xaxis": "x",
         "y": [
          7.309828281402588,
          7.894830226898193,
          7.895503044128418,
          6.812777042388916,
          6.629265308380127,
          9.32061767578125,
          7.85025691986084,
          7.599503993988037,
          7.053515911102295,
          9.954706192016602,
          9.601576805114746,
          6.909576892852783,
          7.456171035766602,
          6.599534511566162,
          6.989809989929199,
          9.892708778381348,
          8.87464714050293,
          9.413972854614258,
          6.693689823150635,
          7.315021991729736,
          10.315321922302246
         ],
         "yaxis": "y"
        },
        {
         "hovertemplate": "Severity=LTBI<br>0=%{x}<br>1=%{y}<extra></extra>",
         "legendgroup": "LTBI",
         "marker": {
          "color": "#EF553B",
          "symbol": "circle"
         },
         "mode": "markers",
         "name": "LTBI",
         "orientation": "v",
         "showlegend": true,
         "type": "scatter",
         "x": [
          4.665924549102783,
          5.623985767364502,
          4.881631851196289,
          6.323978424072266,
          4.390986442565918,
          5.128530025482178,
          5.911603927612305,
          6.111459255218506,
          6.582085132598877,
          6.135270595550537,
          5.005416393280029,
          5.676328182220459,
          5.839963912963867,
          3.778594970703125,
          5.756682872772217,
          3.3819727897644043,
          5.520706653594971,
          5.810305118560791,
          6.392436504364014,
          4.714809894561768,
          5.543792247772217
         ],
         "xaxis": "x",
         "y": [
          9.318399429321289,
          10.215798377990723,
          7.3886637687683105,
          9.401163101196289,
          7.419209957122803,
          7.683932781219482,
          7.387609481811523,
          8.081804275512695,
          8.384674072265625,
          10.315505981445312,
          8.263858795166016,
          8.970927238464355,
          8.720126152038574,
          7.937241554260254,
          7.962955474853516,
          7.472936630249023,
          8.927462577819824,
          10.612051963806152,
          8.98680305480957,
          9.943282127380371,
          7.084133625030518
         ],
         "yaxis": "y"
        },
        {
         "hovertemplate": "Severity=Control<br>0=%{x}<br>1=%{y}<extra></extra>",
         "legendgroup": "Control",
         "marker": {
          "color": "#00cc96",
          "symbol": "circle"
         },
         "mode": "markers",
         "name": "Control",
         "orientation": "v",
         "showlegend": true,
         "type": "scatter",
         "x": [
          5.357128143310547,
          6.366921901702881,
          4.5030517578125,
          6.138043403625488,
          5.150900363922119,
          5.171252250671387,
          5.9227986335754395,
          5.301698684692383,
          6.089209079742432,
          5.404566764831543,
          5.168983459472656,
          5.503712177276611
         ],
         "xaxis": "x",
         "y": [
          8.100311279296875,
          9.98316764831543,
          7.907728672027588,
          8.537668228149414,
          8.64337158203125,
          7.038276672363281,
          9.601869583129883,
          9.509774208068848,
          7.566982746124268,
          10.378411293029785,
          10.509037971496582,
          7.576630115509033
         ],
         "yaxis": "y"
        }
       ],
       "layout": {
        "height": 600,
        "legend": {
         "title": {
          "text": "Severity"
         },
         "tracegroupgap": 0
        },
        "margin": {
         "t": 60
        },
        "template": {
         "data": {
          "bar": [
           {
            "error_x": {
             "color": "#2a3f5f"
            },
            "error_y": {
             "color": "#2a3f5f"
            },
            "marker": {
             "line": {
              "color": "#E5ECF6",
              "width": 0.5
             },
             "pattern": {
              "fillmode": "overlay",
              "size": 10,
              "solidity": 0.2
             }
            },
            "type": "bar"
           }
          ],
          "barpolar": [
           {
            "marker": {
             "line": {
              "color": "#E5ECF6",
              "width": 0.5
             },
             "pattern": {
              "fillmode": "overlay",
              "size": 10,
              "solidity": 0.2
             }
            },
            "type": "barpolar"
           }
          ],
          "carpet": [
           {
            "aaxis": {
             "endlinecolor": "#2a3f5f",
             "gridcolor": "white",
             "linecolor": "white",
             "minorgridcolor": "white",
             "startlinecolor": "#2a3f5f"
            },
            "baxis": {
             "endlinecolor": "#2a3f5f",
             "gridcolor": "white",
             "linecolor": "white",
             "minorgridcolor": "white",
             "startlinecolor": "#2a3f5f"
            },
            "type": "carpet"
           }
          ],
          "choropleth": [
           {
            "colorbar": {
             "outlinewidth": 0,
             "ticks": ""
            },
            "type": "choropleth"
           }
          ],
          "contour": [
           {
            "colorbar": {
             "outlinewidth": 0,
             "ticks": ""
            },
            "colorscale": [
             [
              0,
              "#0d0887"
             ],
             [
              0.1111111111111111,
              "#46039f"
             ],
             [
              0.2222222222222222,
              "#7201a8"
             ],
             [
              0.3333333333333333,
              "#9c179e"
             ],
             [
              0.4444444444444444,
              "#bd3786"
             ],
             [
              0.5555555555555556,
              "#d8576b"
             ],
             [
              0.6666666666666666,
              "#ed7953"
             ],
             [
              0.7777777777777778,
              "#fb9f3a"
             ],
             [
              0.8888888888888888,
              "#fdca26"
             ],
             [
              1,
              "#f0f921"
             ]
            ],
            "type": "contour"
           }
          ],
          "contourcarpet": [
           {
            "colorbar": {
             "outlinewidth": 0,
             "ticks": ""
            },
            "type": "contourcarpet"
           }
          ],
          "heatmap": [
           {
            "colorbar": {
             "outlinewidth": 0,
             "ticks": ""
            },
            "colorscale": [
             [
              0,
              "#0d0887"
             ],
             [
              0.1111111111111111,
              "#46039f"
             ],
             [
              0.2222222222222222,
              "#7201a8"
             ],
             [
              0.3333333333333333,
              "#9c179e"
             ],
             [
              0.4444444444444444,
              "#bd3786"
             ],
             [
              0.5555555555555556,
              "#d8576b"
             ],
             [
              0.6666666666666666,
              "#ed7953"
             ],
             [
              0.7777777777777778,
              "#fb9f3a"
             ],
             [
              0.8888888888888888,
              "#fdca26"
             ],
             [
              1,
              "#f0f921"
             ]
            ],
            "type": "heatmap"
           }
          ],
          "heatmapgl": [
           {
            "colorbar": {
             "outlinewidth": 0,
             "ticks": ""
            },
            "colorscale": [
             [
              0,
              "#0d0887"
             ],
             [
              0.1111111111111111,
              "#46039f"
             ],
             [
              0.2222222222222222,
              "#7201a8"
             ],
             [
              0.3333333333333333,
              "#9c179e"
             ],
             [
              0.4444444444444444,
              "#bd3786"
             ],
             [
              0.5555555555555556,
              "#d8576b"
             ],
             [
              0.6666666666666666,
              "#ed7953"
             ],
             [
              0.7777777777777778,
              "#fb9f3a"
             ],
             [
              0.8888888888888888,
              "#fdca26"
             ],
             [
              1,
              "#f0f921"
             ]
            ],
            "type": "heatmapgl"
           }
          ],
          "histogram": [
           {
            "marker": {
             "pattern": {
              "fillmode": "overlay",
              "size": 10,
              "solidity": 0.2
             }
            },
            "type": "histogram"
           }
          ],
          "histogram2d": [
           {
            "colorbar": {
             "outlinewidth": 0,
             "ticks": ""
            },
            "colorscale": [
             [
              0,
              "#0d0887"
             ],
             [
              0.1111111111111111,
              "#46039f"
             ],
             [
              0.2222222222222222,
              "#7201a8"
             ],
             [
              0.3333333333333333,
              "#9c179e"
             ],
             [
              0.4444444444444444,
              "#bd3786"
             ],
             [
              0.5555555555555556,
              "#d8576b"
             ],
             [
              0.6666666666666666,
              "#ed7953"
             ],
             [
              0.7777777777777778,
              "#fb9f3a"
             ],
             [
              0.8888888888888888,
              "#fdca26"
             ],
             [
              1,
              "#f0f921"
             ]
            ],
            "type": "histogram2d"
           }
          ],
          "histogram2dcontour": [
           {
            "colorbar": {
             "outlinewidth": 0,
             "ticks": ""
            },
            "colorscale": [
             [
              0,
              "#0d0887"
             ],
             [
              0.1111111111111111,
              "#46039f"
             ],
             [
              0.2222222222222222,
              "#7201a8"
             ],
             [
              0.3333333333333333,
              "#9c179e"
             ],
             [
              0.4444444444444444,
              "#bd3786"
             ],
             [
              0.5555555555555556,
              "#d8576b"
             ],
             [
              0.6666666666666666,
              "#ed7953"
             ],
             [
              0.7777777777777778,
              "#fb9f3a"
             ],
             [
              0.8888888888888888,
              "#fdca26"
             ],
             [
              1,
              "#f0f921"
             ]
            ],
            "type": "histogram2dcontour"
           }
          ],
          "mesh3d": [
           {
            "colorbar": {
             "outlinewidth": 0,
             "ticks": ""
            },
            "type": "mesh3d"
           }
          ],
          "parcoords": [
           {
            "line": {
             "colorbar": {
              "outlinewidth": 0,
              "ticks": ""
             }
            },
            "type": "parcoords"
           }
          ],
          "pie": [
           {
            "automargin": true,
            "type": "pie"
           }
          ],
          "scatter": [
           {
            "fillpattern": {
             "fillmode": "overlay",
             "size": 10,
             "solidity": 0.2
            },
            "type": "scatter"
           }
          ],
          "scatter3d": [
           {
            "line": {
             "colorbar": {
              "outlinewidth": 0,
              "ticks": ""
             }
            },
            "marker": {
             "colorbar": {
              "outlinewidth": 0,
              "ticks": ""
             }
            },
            "type": "scatter3d"
           }
          ],
          "scattercarpet": [
           {
            "marker": {
             "colorbar": {
              "outlinewidth": 0,
              "ticks": ""
             }
            },
            "type": "scattercarpet"
           }
          ],
          "scattergeo": [
           {
            "marker": {
             "colorbar": {
              "outlinewidth": 0,
              "ticks": ""
             }
            },
            "type": "scattergeo"
           }
          ],
          "scattergl": [
           {
            "marker": {
             "colorbar": {
              "outlinewidth": 0,
              "ticks": ""
             }
            },
            "type": "scattergl"
           }
          ],
          "scattermapbox": [
           {
            "marker": {
             "colorbar": {
              "outlinewidth": 0,
              "ticks": ""
             }
            },
            "type": "scattermapbox"
           }
          ],
          "scatterpolar": [
           {
            "marker": {
             "colorbar": {
              "outlinewidth": 0,
              "ticks": ""
             }
            },
            "type": "scatterpolar"
           }
          ],
          "scatterpolargl": [
           {
            "marker": {
             "colorbar": {
              "outlinewidth": 0,
              "ticks": ""
             }
            },
            "type": "scatterpolargl"
           }
          ],
          "scatterternary": [
           {
            "marker": {
             "colorbar": {
              "outlinewidth": 0,
              "ticks": ""
             }
            },
            "type": "scatterternary"
           }
          ],
          "surface": [
           {
            "colorbar": {
             "outlinewidth": 0,
             "ticks": ""
            },
            "colorscale": [
             [
              0,
              "#0d0887"
             ],
             [
              0.1111111111111111,
              "#46039f"
             ],
             [
              0.2222222222222222,
              "#7201a8"
             ],
             [
              0.3333333333333333,
              "#9c179e"
             ],
             [
              0.4444444444444444,
              "#bd3786"
             ],
             [
              0.5555555555555556,
              "#d8576b"
             ],
             [
              0.6666666666666666,
              "#ed7953"
             ],
             [
              0.7777777777777778,
              "#fb9f3a"
             ],
             [
              0.8888888888888888,
              "#fdca26"
             ],
             [
              1,
              "#f0f921"
             ]
            ],
            "type": "surface"
           }
          ],
          "table": [
           {
            "cells": {
             "fill": {
              "color": "#EBF0F8"
             },
             "line": {
              "color": "white"
             }
            },
            "header": {
             "fill": {
              "color": "#C8D4E3"
             },
             "line": {
              "color": "white"
             }
            },
            "type": "table"
           }
          ]
         },
         "layout": {
          "annotationdefaults": {
           "arrowcolor": "#2a3f5f",
           "arrowhead": 0,
           "arrowwidth": 1
          },
          "autotypenumbers": "strict",
          "coloraxis": {
           "colorbar": {
            "outlinewidth": 0,
            "ticks": ""
           }
          },
          "colorscale": {
           "diverging": [
            [
             0,
             "#8e0152"
            ],
            [
             0.1,
             "#c51b7d"
            ],
            [
             0.2,
             "#de77ae"
            ],
            [
             0.3,
             "#f1b6da"
            ],
            [
             0.4,
             "#fde0ef"
            ],
            [
             0.5,
             "#f7f7f7"
            ],
            [
             0.6,
             "#e6f5d0"
            ],
            [
             0.7,
             "#b8e186"
            ],
            [
             0.8,
             "#7fbc41"
            ],
            [
             0.9,
             "#4d9221"
            ],
            [
             1,
             "#276419"
            ]
           ],
           "sequential": [
            [
             0,
             "#0d0887"
            ],
            [
             0.1111111111111111,
             "#46039f"
            ],
            [
             0.2222222222222222,
             "#7201a8"
            ],
            [
             0.3333333333333333,
             "#9c179e"
            ],
            [
             0.4444444444444444,
             "#bd3786"
            ],
            [
             0.5555555555555556,
             "#d8576b"
            ],
            [
             0.6666666666666666,
             "#ed7953"
            ],
            [
             0.7777777777777778,
             "#fb9f3a"
            ],
            [
             0.8888888888888888,
             "#fdca26"
            ],
            [
             1,
             "#f0f921"
            ]
           ],
           "sequentialminus": [
            [
             0,
             "#0d0887"
            ],
            [
             0.1111111111111111,
             "#46039f"
            ],
            [
             0.2222222222222222,
             "#7201a8"
            ],
            [
             0.3333333333333333,
             "#9c179e"
            ],
            [
             0.4444444444444444,
             "#bd3786"
            ],
            [
             0.5555555555555556,
             "#d8576b"
            ],
            [
             0.6666666666666666,
             "#ed7953"
            ],
            [
             0.7777777777777778,
             "#fb9f3a"
            ],
            [
             0.8888888888888888,
             "#fdca26"
            ],
            [
             1,
             "#f0f921"
            ]
           ]
          },
          "colorway": [
           "#636efa",
           "#EF553B",
           "#00cc96",
           "#ab63fa",
           "#FFA15A",
           "#19d3f3",
           "#FF6692",
           "#B6E880",
           "#FF97FF",
           "#FECB52"
          ],
          "font": {
           "color": "#2a3f5f"
          },
          "geo": {
           "bgcolor": "white",
           "lakecolor": "white",
           "landcolor": "#E5ECF6",
           "showlakes": true,
           "showland": true,
           "subunitcolor": "white"
          },
          "hoverlabel": {
           "align": "left"
          },
          "hovermode": "closest",
          "mapbox": {
           "style": "light"
          },
          "paper_bgcolor": "white",
          "plot_bgcolor": "#E5ECF6",
          "polar": {
           "angularaxis": {
            "gridcolor": "white",
            "linecolor": "white",
            "ticks": ""
           },
           "bgcolor": "#E5ECF6",
           "radialaxis": {
            "gridcolor": "white",
            "linecolor": "white",
            "ticks": ""
           }
          },
          "scene": {
           "xaxis": {
            "backgroundcolor": "#E5ECF6",
            "gridcolor": "white",
            "gridwidth": 2,
            "linecolor": "white",
            "showbackground": true,
            "ticks": "",
            "zerolinecolor": "white"
           },
           "yaxis": {
            "backgroundcolor": "#E5ECF6",
            "gridcolor": "white",
            "gridwidth": 2,
            "linecolor": "white",
            "showbackground": true,
            "ticks": "",
            "zerolinecolor": "white"
           },
           "zaxis": {
            "backgroundcolor": "#E5ECF6",
            "gridcolor": "white",
            "gridwidth": 2,
            "linecolor": "white",
            "showbackground": true,
            "ticks": "",
            "zerolinecolor": "white"
           }
          },
          "shapedefaults": {
           "line": {
            "color": "#2a3f5f"
           }
          },
          "ternary": {
           "aaxis": {
            "gridcolor": "white",
            "linecolor": "white",
            "ticks": ""
           },
           "baxis": {
            "gridcolor": "white",
            "linecolor": "white",
            "ticks": ""
           },
           "bgcolor": "#E5ECF6",
           "caxis": {
            "gridcolor": "white",
            "linecolor": "white",
            "ticks": ""
           }
          },
          "title": {
           "x": 0.05
          },
          "xaxis": {
           "automargin": true,
           "gridcolor": "white",
           "linecolor": "white",
           "ticks": "",
           "title": {
            "standoff": 15
           },
           "zerolinecolor": "white",
           "zerolinewidth": 2
          },
          "yaxis": {
           "automargin": true,
           "gridcolor": "white",
           "linecolor": "white",
           "ticks": "",
           "title": {
            "standoff": 15
           },
           "zerolinecolor": "white",
           "zerolinewidth": 2
          }
         }
        },
        "width": 800,
        "xaxis": {
         "anchor": "y",
         "autorange": true,
         "domain": [
          0,
          1
         ],
         "range": [
          1.8490316583183457,
          6.864750652167494
         ],
         "title": {
          "text": "0"
         },
         "type": "linear"
        },
        "yaxis": {
         "anchor": "x",
         "autorange": true,
         "domain": [
          0,
          1
         ],
         "range": [
          6.335488160157995,
          10.87609831521432
         ],
         "title": {
          "text": "1"
         },
         "type": "linear"
        }
       }
      },
      "image/png": "[encoded data removed]",
      "text/html": [
       "<div>                            <div id=\"ea591c58-b0b3-4ea6-b866-b7c60526bbe1\" class=\"plotly-graph-div\" style=\"height:600px; width:800px;\"></div>            <script type=\"text/javascript\">                require([\"plotly\"], function(Plotly) {                    window.PLOTLYENV=window.PLOTLYENV || {};                                    if (document.getElementById(\"ea591c58-b0b3-4ea6-b866-b7c60526bbe1\")) {                    Plotly.newPlot(                        \"ea591c58-b0b3-4ea6-b866-b7c60526bbe1\",                        [{\"hovertemplate\":\"Severity=Active_TB\\u003cbr\\u003e0=%{x}\\u003cbr\\u003e1=%{y}\\u003cextra\\u003e\\u003c\\u002fextra\\u003e\",\"legendgroup\":\"Active_TB\",\"marker\":{\"color\":\"#636efa\",\"symbol\":\"circle\"},\"mode\":\"markers\",\"name\":\"Active_TB\",\"orientation\":\"v\",\"showlegend\":true,\"x\":[2.735701560974121,4.801268577575684,4.114089012145996,2.6900229454040527,2.4897124767303467,4.132933616638184,3.1694352626800537,2.72959041595459,3.03459095954895,5.89993953704834,4.36896276473999,2.210179090499878,3.1340644359588623,3.0109307765960693,3.205693006515503,3.990009307861328,4.869265556335449,5.509054660797119,2.131697177886963,4.245654582977295,4.442259788513184],\"xaxis\":\"x\",\"y\":[7.309828281402588,7.894830226898193,7.895503044128418,6.812777042388916,6.629265308380127,9.32061767578125,7.85025691986084,7.599503993988037,7.053515911102295,9.954706192016602,9.601576805114746,6.909576892852783,7.456171035766602,6.599534511566162,6.989809989929199,9.892708778381348,8.87464714050293,9.413972854614258,6.693689823150635,7.315021991729736,10.315321922302246],\"yaxis\":\"y\",\"type\":\"scatter\"},{\"hovertemplate\":\"Severity=LTBI\\u003cbr\\u003e0=%{x}\\u003cbr\\u003e1=%{y}\\u003cextra\\u003e\\u003c\\u002fextra\\u003e\",\"legendgroup\":\"LTBI\",\"marker\":{\"color\":\"#EF553B\",\"symbol\":\"circle\"},\"mode\":\"markers\",\"name\":\"LTBI\",\"orientation\":\"v\",\"showlegend\":true,\"x\":[4.665924549102783,5.623985767364502,4.881631851196289,6.323978424072266,4.390986442565918,5.128530025482178,5.911603927612305,6.111459255218506,6.582085132598877,6.135270595550537,5.005416393280029,5.676328182220459,5.839963912963867,3.778594970703125,5.756682872772217,3.3819727897644043,5.520706653594971,5.810305118560791,6.392436504364014,4.714809894561768,5.543792247772217],\"xaxis\":\"x\",\"y\":[9.318399429321289,10.215798377990723,7.3886637687683105,9.401163101196289,7.419209957122803,7.683932781219482,7.387609481811523,8.081804275512695,8.384674072265625,10.315505981445312,8.263858795166016,8.970927238464355,8.720126152038574,7.937241554260254,7.962955474853516,7.472936630249023,8.927462577819824,10.612051963806152,8.98680305480957,9.943282127380371,7.084133625030518],\"yaxis\":\"y\",\"type\":\"scatter\"},{\"hovertemplate\":\"Severity=Control\\u003cbr\\u003e0=%{x}\\u003cbr\\u003e1=%{y}\\u003cextra\\u003e\\u003c\\u002fextra\\u003e\",\"legendgroup\":\"Control\",\"marker\":{\"color\":\"#00cc96\",\"symbol\":\"circle\"},\"mode\":\"markers\",\"name\":\"Control\",\"orientation\":\"v\",\"showlegend\":true,\"x\":[5.357128143310547,6.366921901702881,4.5030517578125,6.138043403625488,5.150900363922119,5.171252250671387,5.9227986335754395,5.301698684692383,6.089209079742432,5.404566764831543,5.168983459472656,5.503712177276611],\"xaxis\":\"x\",\"y\":[8.100311279296875,9.98316764831543,7.907728672027588,8.537668228149414,8.64337158203125,7.038276672363281,9.601869583129883,9.509774208068848,7.566982746124268,10.378411293029785,10.509037971496582,7.576630115509033],\"yaxis\":\"y\",\"type\":\"scatter\"}],                        {\"template\":{\"data\":{\"histogram2dcontour\":[{\"type\":\"histogram2dcontour\",\"colorbar\":{\"outlinewidth\":0,\"ticks\":\"\"},\"colorscale\":[[0.0,\"#0d0887\"],[0.1111111111111111,\"#46039f\"],[0.2222222222222222,\"#7201a8\"],[0.3333333333333333,\"#9c179e\"],[0.4444444444444444,\"#bd3786\"],[0.5555555555555556,\"#d8576b\"],[0.6666666666666666,\"#ed7953\"],[0.7777777777777778,\"#fb9f3a\"],[0.8888888888888888,\"#fdca26\"],[1.0,\"#f0f921\"]]}],\"choropleth\":[{\"type\":\"choropleth\",\"colorbar\":{\"outlinewidth\":0,\"ticks\":\"\"}}],\"histogram2d\":[{\"type\":\"histogram2d\",\"colorbar\":{\"outlinewidth\":0,\"ticks\":\"\"},\"colorscale\":[[0.0,\"#0d0887\"],[0.1111111111111111,\"#46039f\"],[0.2222222222222222,\"#7201a8\"],[0.3333333333333333,\"#9c179e\"],[0.4444444444444444,\"#bd3786\"],[0.5555555555555556,\"#d8576b\"],[0.6666666666666666,\"#ed7953\"],[0.7777777777777778,\"#fb9f3a\"],[0.8888888888888888,\"#fdca26\"],[1.0,\"#f0f921\"]]}],\"heatmap\":[{\"type\":\"heatmap\",\"colorbar\":{\"outlinewidth\":0,\"ticks\":\"\"},\"colorscale\":[[0.0,\"#0d0887\"],[0.1111111111111111,\"#46039f\"],[0.2222222222222222,\"#7201a8\"],[0.3333333333333333,\"#9c179e\"],[0.4444444444444444,\"#bd3786\"],[0.5555555555555556,\"#d8576b\"],[0.6666666666666666,\"#ed7953\"],[0.7777777777777778,\"#fb9f3a\"],[0.8888888888888888,\"#fdca26\"],[1.0,\"#f0f921\"]]}],\"heatmapgl\":[{\"type\":\"heatmapgl\",\"colorbar\":{\"outlinewidth\":0,\"ticks\":\"\"},\"colorscale\":[[0.0,\"#0d0887\"],[0.1111111111111111,\"#46039f\"],[0.2222222222222222,\"#7201a8\"],[0.3333333333333333,\"#9c179e\"],[0.4444444444444444,\"#bd3786\"],[0.5555555555555556,\"#d8576b\"],[0.6666666666666666,\"#ed7953\"],[0.7777777777777778,\"#fb9f3a\"],[0.8888888888888888,\"#fdca26\"],[1.0,\"#f0f921\"]]}],\"contourcarpet\":[{\"type\":\"contourcarpet\",\"colorbar\":{\"outlinewidth\":0,\"ticks\":\"\"}}],\"contour\":[{\"type\":\"contour\",\"colorbar\":{\"outlinewidth\":0,\"ticks\":\"\"},\"colorscale\":[[0.0,\"#0d0887\"],[0.1111111111111111,\"#46039f\"],[0.2222222222222222,\"#7201a8\"],[0.3333333333333333,\"#9c179e\"],[0.4444444444444444,\"#bd3786\"],[0.5555555555555556,\"#d8576b\"],[0.6666666666666666,\"#ed7953\"],[0.7777777777777778,\"#fb9f3a\"],[0.8888888888888888,\"#fdca26\"],[1.0,\"#f0f921\"]]}],\"surface\":[{\"type\":\"surface\",\"colorbar\":{\"outlinewidth\":0,\"ticks\":\"\"},\"colorscale\":[[0.0,\"#0d0887\"],[0.1111111111111111,\"#46039f\"],[0.2222222222222222,\"#7201a8\"],[0.3333333333333333,\"#9c179e\"],[0.4444444444444444,\"#bd3786\"],[0.5555555555555556,\"#d8576b\"],[0.6666666666666666,\"#ed7953\"],[0.7777777777777778,\"#fb9f3a\"],[0.8888888888888888,\"#fdca26\"],[1.0,\"#f0f921\"]]}],\"mesh3d\":[{\"type\":\"mesh3d\",\"colorbar\":{\"outlinewidth\":0,\"ticks\":\"\"}}],\"scatter\":[{\"fillpattern\":{\"fillmode\":\"overlay\",\"size\":10,\"solidity\":0.2},\"type\":\"scatter\"}],\"parcoords\":[{\"type\":\"parcoords\",\"line\":{\"colorbar\":{\"outlinewidth\":0,\"ticks\":\"\"}}}],\"scatterpolargl\":[{\"type\":\"scatterpolargl\",\"marker\":{\"colorbar\":{\"outlinewidth\":0,\"ticks\":\"\"}}}],\"bar\":[{\"error_x\":{\"color\":\"#2a3f5f\"},\"error_y\":{\"color\":\"#2a3f5f\"},\"marker\":{\"line\":{\"color\":\"#E5ECF6\",\"width\":0.5},\"pattern\":{\"fillmode\":\"overlay\",\"size\":10,\"solidity\":0.2}},\"type\":\"bar\"}],\"scattergeo\":[{\"type\":\"scattergeo\",\"marker\":{\"colorbar\":{\"outlinewidth\":0,\"ticks\":\"\"}}}],\"scatterpolar\":[{\"type\":\"scatterpolar\",\"marker\":{\"colorbar\":{\"outlinewidth\":0,\"ticks\":\"\"}}}],\"histogram\":[{\"marker\":{\"pattern\":{\"fillmode\":\"overlay\",\"size\":10,\"solidity\":0.2}},\"type\":\"histogram\"}],\"scattergl\":[{\"type\":\"scattergl\",\"marker\":{\"colorbar\":{\"outlinewidth\":0,\"ticks\":\"\"}}}],\"scatter3d\":[{\"type\":\"scatter3d\",\"line\":{\"colorbar\":{\"outlinewidth\":0,\"ticks\":\"\"}},\"marker\":{\"colorbar\":{\"outlinewidth\":0,\"ticks\":\"\"}}}],\"scattermapbox\":[{\"type\":\"scattermapbox\",\"marker\":{\"colorbar\":{\"outlinewidth\":0,\"ticks\":\"\"}}}],\"scatterternary\":[{\"type\":\"scatterternary\",\"marker\":{\"colorbar\":{\"outlinewidth\":0,\"ticks\":\"\"}}}],\"scattercarpet\":[{\"type\":\"scattercarpet\",\"marker\":{\"colorbar\":{\"outlinewidth\":0,\"ticks\":\"\"}}}],\"carpet\":[{\"aaxis\":{\"endlinecolor\":\"#2a3f5f\",\"gridcolor\":\"white\",\"linecolor\":\"white\",\"minorgridcolor\":\"white\",\"startlinecolor\":\"#2a3f5f\"},\"baxis\":{\"endlinecolor\":\"#2a3f5f\",\"gridcolor\":\"white\",\"linecolor\":\"white\",\"minorgridcolor\":\"white\",\"startlinecolor\":\"#2a3f5f\"},\"type\":\"carpet\"}],\"table\":[{\"cells\":{\"fill\":{\"color\":\"#EBF0F8\"},\"line\":{\"color\":\"white\"}},\"header\":{\"fill\":{\"color\":\"#C8D4E3\"},\"line\":{\"color\":\"white\"}},\"type\":\"table\"}],\"barpolar\":[{\"marker\":{\"line\":{\"color\":\"#E5ECF6\",\"width\":0.5},\"pattern\":{\"fillmode\":\"overlay\",\"size\":10,\"solidity\":0.2}},\"type\":\"barpolar\"}],\"pie\":[{\"automargin\":true,\"type\":\"pie\"}]},\"layout\":{\"autotypenumbers\":\"strict\",\"colorway\":[\"#636efa\",\"#EF553B\",\"#00cc96\",\"#ab63fa\",\"#FFA15A\",\"#19d3f3\",\"#FF6692\",\"#B6E880\",\"#FF97FF\",\"#FECB52\"],\"font\":{\"color\":\"#2a3f5f\"},\"hovermode\":\"closest\",\"hoverlabel\":{\"align\":\"left\"},\"paper_bgcolor\":\"white\",\"plot_bgcolor\":\"#E5ECF6\",\"polar\":{\"bgcolor\":\"#E5ECF6\",\"angularaxis\":{\"gridcolor\":\"white\",\"linecolor\":\"white\",\"ticks\":\"\"},\"radialaxis\":{\"gridcolor\":\"white\",\"linecolor\":\"white\",\"ticks\":\"\"}},\"ternary\":{\"bgcolor\":\"#E5ECF6\",\"aaxis\":{\"gridcolor\":\"white\",\"linecolor\":\"white\",\"ticks\":\"\"},\"baxis\":{\"gridcolor\":\"white\",\"linecolor\":\"white\",\"ticks\":\"\"},\"caxis\":{\"gridcolor\":\"white\",\"linecolor\":\"white\",\"ticks\":\"\"}},\"coloraxis\":{\"colorbar\":{\"outlinewidth\":0,\"ticks\":\"\"}},\"colorscale\":{\"sequential\":[[0.0,\"#0d0887\"],[0.1111111111111111,\"#46039f\"],[0.2222222222222222,\"#7201a8\"],[0.3333333333333333,\"#9c179e\"],[0.4444444444444444,\"#bd3786\"],[0.5555555555555556,\"#d8576b\"],[0.6666666666666666,\"#ed7953\"],[0.7777777777777778,\"#fb9f3a\"],[0.8888888888888888,\"#fdca26\"],[1.0,\"#f0f921\"]],\"sequentialminus\":[[0.0,\"#0d0887\"],[0.1111111111111111,\"#46039f\"],[0.2222222222222222,\"#7201a8\"],[0.3333333333333333,\"#9c179e\"],[0.4444444444444444,\"#bd3786\"],[0.5555555555555556,\"#d8576b\"],[0.6666666666666666,\"#ed7953\"],[0.7777777777777778,\"#fb9f3a\"],[0.8888888888888888,\"#fdca26\"],[1.0,\"#f0f921\"]],\"diverging\":[[0,\"#8e0152\"],[0.1,\"#c51b7d\"],[0.2,\"#de77ae\"],[0.3,\"#f1b6da\"],[0.4,\"#fde0ef\"],[0.5,\"#f7f7f7\"],[0.6,\"#e6f5d0\"],[0.7,\"#b8e186\"],[0.8,\"#7fbc41\"],[0.9,\"#4d9221\"],[1,\"#276419\"]]},\"xaxis\":{\"gridcolor\":\"white\",\"linecolor\":\"white\",\"ticks\":\"\",\"title\":{\"standoff\":15},\"zerolinecolor\":\"white\",\"automargin\":true,\"zerolinewidth\":2},\"yaxis\":{\"gridcolor\":\"white\",\"linecolor\":\"white\",\"ticks\":\"\",\"title\":{\"standoff\":15},\"zerolinecolor\":\"white\",\"automargin\":true,\"zerolinewidth\":2},\"scene\":{\"xaxis\":{\"backgroundcolor\":\"#E5ECF6\",\"gridcolor\":\"white\",\"linecolor\":\"white\",\"showbackground\":true,\"ticks\":\"\",\"zerolinecolor\":\"white\",\"gridwidth\":2},\"yaxis\":{\"backgroundcolor\":\"#E5ECF6\",\"gridcolor\":\"white\",\"linecolor\":\"white\",\"showbackground\":true,\"ticks\":\"\",\"zerolinecolor\":\"white\",\"gridwidth\":2},\"zaxis\":{\"backgroundcolor\":\"#E5ECF6\",\"gridcolor\":\"white\",\"linecolor\":\"white\",\"showbackground\":true,\"ticks\":\"\",\"zerolinecolor\":\"white\",\"gridwidth\":2}},\"shapedefaults\":{\"line\":{\"color\":\"#2a3f5f\"}},\"annotationdefaults\":{\"arrowcolor\":\"#2a3f5f\",\"arrowhead\":0,\"arrowwidth\":1},\"geo\":{\"bgcolor\":\"white\",\"landcolor\":\"#E5ECF6\",\"subunitcolor\":\"white\",\"showland\":true,\"showlakes\":true,\"lakecolor\":\"white\"},\"title\":{\"x\":0.05},\"mapbox\":{\"style\":\"light\"}}},\"xaxis\":{\"anchor\":\"y\",\"domain\":[0.0,1.0],\"title\":{\"text\":\"0\"}},\"yaxis\":{\"anchor\":\"x\",\"domain\":[0.0,1.0],\"title\":{\"text\":\"1\"}},\"legend\":{\"title\":{\"text\":\"Severity\"},\"tracegroupgap\":0},\"margin\":{\"t\":60},\"height\":600,\"width\":800},                        {\"responsive\": true}                    ).then(function(){\n",
       "                            \n",
       "var gd = document.getElementById('ea591c58-b0b3-4ea6-b866-b7c60526bbe1');\n",
       "var x = new MutationObserver(function (mutations, observer) {{\n",
       "        var display = window.getComputedStyle(gd).display;\n",
       "        if (!display || display === 'none') {{\n",
       "            console.log([gd, 'removed!']);\n",
       "            Plotly.purge(gd);\n",
       "            observer.disconnect();\n",
       "        }}\n",
       "}});\n",
       "\n",
       "// Listen for the removal of the full notebook cells\n",
       "var notebookContainer = gd.closest('#notebook-container');\n",
       "if (notebookContainer) {{\n",
       "    x.observe(notebookContainer, {childList: true});\n",
       "}}\n",
       "\n",
       "// Listen for the clearing of the current output cell\n",
       "var outputEl = gd.closest('.output');\n",
       "if (outputEl) {{\n",
       "    x.observe(outputEl, {childList: true});\n",
       "}}\n",
       "\n",
       "                        })                };                });            </script>        </div>"
      ]
     },
     "metadata": {},
     "output_type": "display_data"
    }
   ],
   "source": [
    "# doing uMAP clustering\n",
    "from umap import UMAP\n",
    "import plotly.express as px\n",
    "\n",
    "df = ldn\n",
    "\n",
    "features = ldn\n",
    "\n",
    "umap_2d = UMAP(n_components=2, init='random')\n",
    "\n",
    "proj_2d = umap_2d.fit_transform(features)\n",
    "\n",
    "fig_2d = px.scatter(\n",
    "    proj_2d, x=0, y=1,\n",
    "    color=severity, labels={'color': 'Severity'},\n",
    "    height=600,width=800\n",
    ")\n",
    "\n",
    "fig_2d.show()"
   ]
  },
  {
   "cell_type": "code",
   "execution_count": 247,
   "id": "41bdda29-55d3-4c02-a8c9-5fcde4e93435",
   "metadata": {},
   "outputs": [
    {
     "data": {
      "text/plain": [
       "Text(0, 0.5, 'PC2')"
      ]
     },
     "execution_count": 247,
     "metadata": {},
     "output_type": "execute_result"
    },
    {
     "data": {
      "image/png": "[encoded data removed]",
      "text/plain": [
       "<Figure size 432x288 with 1 Axes>"
      ]
     },
     "metadata": {
      "needs_background": "light"
     },
     "output_type": "display_data"
    }
   ],
   "source": [
    "#trying kmeans clustering to see what groups come out\n",
    "from sklearn.cluster import KMeans\n",
    "\n",
    "# fit a kmeans model to our first_2_pcs objects; use n_clusters=2, random_state=2022, n_init=10\n",
    "kmeanModel = KMeans(n_clusters=3,random_state=2022,n_init=10).fit(first_2_pcs) # !TO DO!\n",
    "\n",
    "# grab the cluster labels from your kmeans model\n",
    "kmeans_labels = kmeanModel.labels_ # !TO DO!\n",
    "\n",
    "# remake the scatterplot from above, but color by kmeans_labels\n",
    "ax = sns.scatterplot(x=first_2_pcs[:,0],y=first_2_pcs[:,1],hue=kmeans_labels) # !TO DO!\n",
    "ax.set_xlabel(\"PC1\"); ax.set_ylabel(\"PC2\") # !TO DO!"
   ]
  },
  {
   "cell_type": "code",
   "execution_count": 500,
   "id": "4ac863e0-aafb-4c5a-aa3e-890ac86f84eb",
   "metadata": {},
   "outputs": [
    {
     "ename": "ValueError",
     "evalue": "Found input variables with inconsistent numbers of samples: [42, 54]",
     "output_type": "error",
     "traceback": [
      "\u001b[1;31m---------------------------------------------------------------------------\u001b[0m",
      "\u001b[1;31mValueError\u001b[0m                                Traceback (most recent call last)",
      "Input \u001b[1;32mIn [500]\u001b[0m, in \u001b[0;36m<cell line: 10>\u001b[1;34m()\u001b[0m\n\u001b[0;32m      7\u001b[0m Y_prob \u001b[38;5;241m=\u001b[39m np\u001b[38;5;241m.\u001b[39marray([(Y \u001b[38;5;241m==\u001b[39m \u001b[38;5;124m'\u001b[39m\u001b[38;5;124mControl\u001b[39m\u001b[38;5;124m'\u001b[39m), (Y \u001b[38;5;241m==\u001b[39m \u001b[38;5;124m'\u001b[39m\u001b[38;5;124mActive_TB\u001b[39m\u001b[38;5;124m'\u001b[39m), (Y \u001b[38;5;241m==\u001b[39m \u001b[38;5;124m'\u001b[39m\u001b[38;5;124mLTBI\u001b[39m\u001b[38;5;124m'\u001b[39m)])\u001b[38;5;241m.\u001b[39mT\n\u001b[0;32m      8\u001b[0m Y_prob \u001b[38;5;241m=\u001b[39m Y_prob\u001b[38;5;241m.\u001b[39mastype(\u001b[38;5;28mint\u001b[39m)\n\u001b[1;32m---> 10\u001b[0m X_train, X_test, Y_train, Y_test \u001b[38;5;241m=\u001b[39m \u001b[43mtrain_test_split\u001b[49m\u001b[43m(\u001b[49m\u001b[43mX_data\u001b[49m\u001b[43m,\u001b[49m\u001b[43m \u001b[49m\u001b[43mY\u001b[49m\u001b[43m,\u001b[49m\u001b[43m \u001b[49m\u001b[43mtest_size\u001b[49m\u001b[38;5;241;43m=\u001b[39;49m\u001b[38;5;241;43m0.3\u001b[39;49m\u001b[43m,\u001b[49m\u001b[43m \u001b[49m\u001b[43mrandom_state\u001b[49m\u001b[38;5;241;43m=\u001b[39;49m\u001b[38;5;241;43m13\u001b[39;49m\u001b[43m)\u001b[49m\n\u001b[0;32m     12\u001b[0m Y_train_prob \u001b[38;5;241m=\u001b[39m np\u001b[38;5;241m.\u001b[39marray([(Y_train \u001b[38;5;241m==\u001b[39m \u001b[38;5;124m'\u001b[39m\u001b[38;5;124mControl\u001b[39m\u001b[38;5;124m'\u001b[39m), (Y_train \u001b[38;5;241m==\u001b[39m \u001b[38;5;124m'\u001b[39m\u001b[38;5;124mActive_TB\u001b[39m\u001b[38;5;124m'\u001b[39m), (Y_train \u001b[38;5;241m==\u001b[39m \u001b[38;5;124m'\u001b[39m\u001b[38;5;124mLTBI\u001b[39m\u001b[38;5;124m'\u001b[39m)])\u001b[38;5;241m.\u001b[39mT\n\u001b[0;32m     13\u001b[0m Y_train_prob \u001b[38;5;241m=\u001b[39m Y_train_prob\u001b[38;5;241m.\u001b[39mastype(\u001b[38;5;28mint\u001b[39m)\n",
      "File \u001b[1;32m~\\AppData\\Local\\Programs\\Python\\Python310\\lib\\site-packages\\sklearn\\model_selection\\_split.py:2559\u001b[0m, in \u001b[0;36mtrain_test_split\u001b[1;34m(test_size, train_size, random_state, shuffle, stratify, *arrays)\u001b[0m\n\u001b[0;32m   2556\u001b[0m \u001b[38;5;28;01mif\u001b[39;00m n_arrays \u001b[38;5;241m==\u001b[39m \u001b[38;5;241m0\u001b[39m:\n\u001b[0;32m   2557\u001b[0m     \u001b[38;5;28;01mraise\u001b[39;00m \u001b[38;5;167;01mValueError\u001b[39;00m(\u001b[38;5;124m\"\u001b[39m\u001b[38;5;124mAt least one array required as input\u001b[39m\u001b[38;5;124m\"\u001b[39m)\n\u001b[1;32m-> 2559\u001b[0m arrays \u001b[38;5;241m=\u001b[39m \u001b[43mindexable\u001b[49m\u001b[43m(\u001b[49m\u001b[38;5;241;43m*\u001b[39;49m\u001b[43marrays\u001b[49m\u001b[43m)\u001b[49m\n\u001b[0;32m   2561\u001b[0m n_samples \u001b[38;5;241m=\u001b[39m _num_samples(arrays[\u001b[38;5;241m0\u001b[39m])\n\u001b[0;32m   2562\u001b[0m n_train, n_test \u001b[38;5;241m=\u001b[39m _validate_shuffle_split(\n\u001b[0;32m   2563\u001b[0m     n_samples, test_size, train_size, default_test_size\u001b[38;5;241m=\u001b[39m\u001b[38;5;241m0.25\u001b[39m\n\u001b[0;32m   2564\u001b[0m )\n",
      "File \u001b[1;32m~\\AppData\\Local\\Programs\\Python\\Python310\\lib\\site-packages\\sklearn\\utils\\validation.py:443\u001b[0m, in \u001b[0;36mindexable\u001b[1;34m(*iterables)\u001b[0m\n\u001b[0;32m    424\u001b[0m \u001b[38;5;124;03m\"\"\"Make arrays indexable for cross-validation.\u001b[39;00m\n\u001b[0;32m    425\u001b[0m \n\u001b[0;32m    426\u001b[0m \u001b[38;5;124;03mChecks consistent length, passes through None, and ensures that everything\u001b[39;00m\n\u001b[1;32m   (...)\u001b[0m\n\u001b[0;32m    439\u001b[0m \u001b[38;5;124;03m    sparse matrix, or dataframe) or `None`.\u001b[39;00m\n\u001b[0;32m    440\u001b[0m \u001b[38;5;124;03m\"\"\"\u001b[39;00m\n\u001b[0;32m    442\u001b[0m result \u001b[38;5;241m=\u001b[39m [_make_indexable(X) \u001b[38;5;28;01mfor\u001b[39;00m X \u001b[38;5;129;01min\u001b[39;00m iterables]\n\u001b[1;32m--> 443\u001b[0m \u001b[43mcheck_consistent_length\u001b[49m\u001b[43m(\u001b[49m\u001b[38;5;241;43m*\u001b[39;49m\u001b[43mresult\u001b[49m\u001b[43m)\u001b[49m\n\u001b[0;32m    444\u001b[0m \u001b[38;5;28;01mreturn\u001b[39;00m result\n",
      "File \u001b[1;32m~\\AppData\\Local\\Programs\\Python\\Python310\\lib\\site-packages\\sklearn\\utils\\validation.py:397\u001b[0m, in \u001b[0;36mcheck_consistent_length\u001b[1;34m(*arrays)\u001b[0m\n\u001b[0;32m    395\u001b[0m uniques \u001b[38;5;241m=\u001b[39m np\u001b[38;5;241m.\u001b[39munique(lengths)\n\u001b[0;32m    396\u001b[0m \u001b[38;5;28;01mif\u001b[39;00m \u001b[38;5;28mlen\u001b[39m(uniques) \u001b[38;5;241m>\u001b[39m \u001b[38;5;241m1\u001b[39m:\n\u001b[1;32m--> 397\u001b[0m     \u001b[38;5;28;01mraise\u001b[39;00m \u001b[38;5;167;01mValueError\u001b[39;00m(\n\u001b[0;32m    398\u001b[0m         \u001b[38;5;124m\"\u001b[39m\u001b[38;5;124mFound input variables with inconsistent numbers of samples: \u001b[39m\u001b[38;5;132;01m%r\u001b[39;00m\u001b[38;5;124m\"\u001b[39m\n\u001b[0;32m    399\u001b[0m         \u001b[38;5;241m%\u001b[39m [\u001b[38;5;28mint\u001b[39m(l) \u001b[38;5;28;01mfor\u001b[39;00m l \u001b[38;5;129;01min\u001b[39;00m lengths]\n\u001b[0;32m    400\u001b[0m     )\n",
      "\u001b[1;31mValueError\u001b[0m: Found input variables with inconsistent numbers of samples: [42, 54]"
     ]
    }
   ],
   "source": [
    "#pls-da time\n",
    "from sklearn.model_selection import train_test_split\n",
    "from sklearn.linear_model import LinearRegression\n",
    "X_data = ldn_count_df.T #put features on the cols, samples on rows\n",
    "Y = severity\n",
    "\n",
    "Y_prob = np.array([(Y == 'Control'), (Y == 'Active_TB'), (Y == 'LTBI')]).T\n",
    "Y_prob = Y_prob.astype(int)\n",
    "\n",
    "X_train, X_test, Y_train, Y_test = train_test_split(X_data, Y, test_size=0.3, random_state=13)\n",
    "\n",
    "Y_train_prob = np.array([(Y_train == 'Control'), (Y_train == 'Active_TB'), (Y_train == 'LTBI')]).T\n",
    "Y_train_prob = Y_train_prob.astype(int)\n",
    "\n",
    "Y_test_prob = np.array([(Y_test == 'Control'), (Y_test == 'Active_TB'), (Y_test == 'LTBI')]).T\n",
    "Y_test_prob = Y_test_prob.astype(int)\n",
    "Y_test_prob = np.argmax(Y_test_prob, axis=1)"
   ]
  },
  {
   "cell_type": "code",
   "execution_count": 472,
   "id": "8d6a472d-d38c-4494-9da5-f2eabba35ed1",
   "metadata": {},
   "outputs": [
    {
     "name": "stdout",
     "output_type": "stream",
     "text": [
      "PLS regression accuracy 0.7058823529411765\n",
      "[[1 1 2]\n",
      " [0 4 2]\n",
      " [0 0 7]]\n"
     ]
    }
   ],
   "source": [
    "from sklearn.metrics import accuracy_score, confusion_matrix\n",
    "ncomp = 2\n",
    "model = PLSRegression(n_components=ncomp, scale=False)\n",
    "model.fit(X_train,Y_train_prob)\n",
    "\n",
    "Y_pred_prob = np.argmax(model.predict(X_test), axis=1)\n",
    "\n",
    "acc1 = accuracy_score(Y_test_prob, Y_pred_prob) # TODO\n",
    "print(f\"PLS regression accuracy {acc1}\")\n",
    "\n",
    "cm = confusion_matrix(Y_test_prob, Y_pred_prob) # TODO\n",
    "print(cm)"
   ]
  },
  {
   "cell_type": "code",
   "execution_count": 473,
   "id": "b0f8888b-4746-489f-a85f-32611db9c576",
   "metadata": {},
   "outputs": [
    {
     "data": {
      "text/plain": [
       "Text(32.09375, 0.5, 'True')"
      ]
     },
     "execution_count": 473,
     "metadata": {},
     "output_type": "execute_result"
    },
    {
     "data": {
      "image/png": "[encoded data removed]",
      "text/plain": [
       "<Figure size 432x288 with 2 Axes>"
      ]
     },
     "metadata": {
      "needs_background": "light"
     },
     "output_type": "display_data"
    }
   ],
   "source": [
    "sns.heatmap(cm, annot=True, fmt=\"d\", cmap=\"rocket\", xticklabels=['Control', 'Active_TB', 'LTBI'], yticklabels=['Control', 'Active_TB', 'LTBI'])\n",
    "plt.xlabel('Predicted')\n",
    "plt.ylabel('True')"
   ]
  },
  {
   "cell_type": "code",
   "execution_count": 258,
   "id": "ab95d816-4c32-470e-8cf5-a8682df2e6dd",
   "metadata": {},
   "outputs": [
    {
     "name": "stdout",
     "output_type": "stream",
     "text": [
      "accuracy scores: [0.5, 0.8333333333333334, 0.8333333333333334, 0.8333333333333334, 0.4, 1.0, 0.6, 0.4, 0.8, 0.0]\n",
      "average accuracy: 0.62\n"
     ]
    }
   ],
   "source": [
    "# 10 fold cross val\n",
    "kf = KFold(n_splits=10) \n",
    "ncomp = 2\n",
    "model = PLSRegression(n_components=ncomp, scale=False)\n",
    "\n",
    "curX = X_data.values\n",
    "curY = Y_prob\n",
    "\n",
    "accuracy_scores = []\n",
    "r2_values = []\n",
    "\n",
    "predY = np.zeros(Y_prob.shape)\n",
    "for train_index, test_index in kf.split(curX):\n",
    "    trainX = curX[train_index]\n",
    "    testX = curX[test_index]\n",
    "    trainY = curY[train_index] # TODO\n",
    "    testY = curY[test_index]\n",
    "    \n",
    "    model.fit(trainX, trainY)\n",
    "    predY[test_index] = model.predict(testX) # TODO\n",
    "\n",
    "    Y_pred_classes = np.argmax(predY[test_index], axis=1)\n",
    "    Y_test_classes = np.argmax(Y_prob[test_index], axis=1)\n",
    "    \n",
    "    # Calculate accuracy score\n",
    "    accuracy = accuracy_score(Y_test_classes, Y_pred_classes)\n",
    "    accuracy_scores.append(accuracy)\n",
    "\n",
    "print(f'accuracy scores: {accuracy_scores}')\n",
    "\n",
    "avg_accuracy = np.average(accuracy_scores)\n",
    "print(f'average accuracy: {avg_accuracy}')"
   ]
  },
  {
   "cell_type": "markdown",
   "id": "35af5de7-30b5-4ee7-a1e0-a615d98ffc14",
   "metadata": {},
   "source": [
    "## using ldn as a training set and south africa as a test set"
   ]
  },
  {
   "cell_type": "code",
   "execution_count": 474,
   "id": "c853ef15-3d4d-4bfc-bc90-f5fbc679810c",
   "metadata": {},
   "outputs": [],
   "source": [
    "control_samps = ldn_samp_df[ldn_samp_df['group'] == 'Control']\n",
    "# print(control_samps)\n",
    "\n",
    "# control_rows = ldn_X_train.index.intersection(control_samps['title'])\n",
    "# print(control_rows)\n",
    "\n",
    "control_samps_idx = control_samps['title']\n",
    "# print(control_samps_idx)\n",
    "\n",
    "# ldn_count_df = ldn_count_df[~ldn_count_df.columns.isin(control_samps['title'])]\n",
    "columns_to_keep = [col for col in ldn_count_df.columns if col not in control_samps['title'].values]\n",
    "ldn_count_df = ldn_count_df[columns_to_keep]"
   ]
  },
  {
   "cell_type": "code",
   "execution_count": 475,
   "id": "7724e230-1f14-4a30-abb7-6f387c5bd015",
   "metadata": {},
   "outputs": [
    {
     "name": "stdout",
     "output_type": "stream",
     "text": [
      "['Active_TB' 'Active_TB' 'LTBI' 'LTBI' 'Active_TB' 'LTBI' 'Active_TB'\n",
      " 'Active_TB' 'LTBI' 'LTBI' 'LTBI' 'LTBI' 'Active_TB' 'LTBI' 'Active_TB'\n",
      " 'LTBI' 'Active_TB' 'LTBI' 'Active_TB' 'Active_TB' 'Active_TB' 'LTBI'\n",
      " 'LTBI' 'Active_TB' 'LTBI' 'LTBI' 'LTBI' 'Active_TB' 'LTBI' 'Active_TB'\n",
      " 'Active_TB' 'LTBI' 'LTBI' 'Active_TB' 'Active_TB' 'Active_TB' 'Active_TB'\n",
      " 'Active_TB' 'Active_TB' 'LTBI' 'LTBI' 'LTBI']\n"
     ]
    }
   ],
   "source": [
    "ldn_severity = ldn_severity[~(ldn_severity == 'Control')]\n",
    "print(ldn_severity)"
   ]
  },
  {
   "cell_type": "code",
   "execution_count": 476,
   "id": "565e8e12-640e-44c6-b227-2d7127a62806",
   "metadata": {},
   "outputs": [],
   "source": [
    "# using south africa as a test set\n",
    "ldn_X_train = ldn_count_df.T\n",
    "ldn_X_train.rename(columns=lambda x: x.strip(), inplace=True)\n",
    "\n",
    "sa_X_test = sa_count_df.T\n",
    "sa_X_test.rename(columns=lambda x: x.strip(), inplace=True)\n",
    "\n",
    "common_columns = ldn_X_train.columns.intersection(sa_X_test.columns)\n",
    "\n",
    "# limit ldn_X_train to only have the genes that sa_X_test has\n",
    "ldn_X_train = ldn_X_train.drop(columns=ldn_X_train.columns.difference(common_columns))\n",
    "sa_X_test = sa_X_test.drop(columns=sa_X_test.columns.difference(common_columns))\n",
    "\n",
    "#prune the control samples from ldn_X_train\n",
    "# ldn_X_train = ldn_X_train.drop(index=ldn_X_train.index.intersection(control_rows))\n",
    "\n",
    "ldn_severity = np.array(ldn_samp_df['group'].tolist())\n",
    "ldn_severity = ldn_severity[~(ldn_severity == 'Control')]\n",
    "ldn_Y_train = np.array([(ldn_severity == 'Active_TB'), (ldn_severity == 'LTBI')]).T# want the vectors that represent the severities\n",
    "ldn_Y_train = ldn_Y_train.astype(int)\n",
    "# ldn_Y_train = ldn_Y_train[~(ldn_Y_train == [1, 0, 0]).all(axis=1)]\n",
    "\n",
    "sa_severity = np.array(sa_samp_df['group'].tolist())\n",
    "sa_Y_test = np.array([(sa_severity == 'Active_TB'), (sa_severity == 'LTBI')]).T\n",
    "sa_Y_test = sa_Y_test.astype(int)\n",
    "\n",
    "sa_Y_test_prob = np.argmax(sa_Y_test, axis=1)"
   ]
  },
  {
   "cell_type": "code",
   "execution_count": 477,
   "id": "73bb9ce8-9ecf-41fe-ae31-d4711b87fa0f",
   "metadata": {},
   "outputs": [
    {
     "name": "stdout",
     "output_type": "stream",
     "text": [
      "PLS regression accuracy 0.7446808510638298\n",
      "[[15  1]\n",
      " [11 20]]\n"
     ]
    }
   ],
   "source": [
    "from sklearn.metrics import accuracy_score, confusion_matrix\n",
    "ncomp = 2\n",
    "model = PLSRegression(n_components=ncomp, scale=False)\n",
    "model.fit(ldn_X_train, ldn_Y_train)\n",
    "\n",
    "sa_Y_pred_prob = np.argmax(model.predict(sa_X_test), axis=1)\n",
    "\n",
    "acc1 = accuracy_score(sa_Y_test_prob, sa_Y_pred_prob) # TODO\n",
    "print(f\"PLS regression accuracy {acc1}\")\n",
    "\n",
    "cm = confusion_matrix(sa_Y_test_prob, sa_Y_pred_prob) # TODO\n",
    "print(cm)"
   ]
  },
  {
   "cell_type": "code",
   "execution_count": 478,
   "id": "aa278a6c-bbf5-4405-ae9f-d2b9bd193bc3",
   "metadata": {},
   "outputs": [
    {
     "data": {
      "text/plain": [
       "Text(32.09375, 0.5, 'True')"
      ]
     },
     "execution_count": 478,
     "metadata": {},
     "output_type": "execute_result"
    },
    {
     "data": {
      "image/png": "[encoded data removed]",
      "text/plain": [
       "<Figure size 432x288 with 2 Axes>"
      ]
     },
     "metadata": {
      "needs_background": "light"
     },
     "output_type": "display_data"
    }
   ],
   "source": [
    "sns.heatmap(cm, annot=True, fmt=\"d\", cmap=\"rocket\", xticklabels=['Active_TB', 'LTBI'], yticklabels=['Active_TB', 'LTBI'])\n",
    "plt.xlabel('Predicted')\n",
    "plt.ylabel('True')"
   ]
  },
  {
   "cell_type": "code",
   "execution_count": 392,
   "id": "4710433d-d890-43f6-91d3-7dbc48d97fd6",
   "metadata": {},
   "outputs": [],
   "source": [
    "# loadings should be dependent on the X dataset that the model is trained from\n",
    "# print(ldn_X_train)"
   ]
  },
  {
   "cell_type": "code",
   "execution_count": 424,
   "id": "72f7cdaa-dba8-4dfd-b88f-48c68e758787",
   "metadata": {},
   "outputs": [
    {
     "data": {
      "text/html": [
       "<div>\n",
       "<style scoped>\n",
       "    .dataframe tbody tr th:only-of-type {\n",
       "        vertical-align: middle;\n",
       "    }\n",
       "\n",
       "    .dataframe tbody tr th {\n",
       "        vertical-align: top;\n",
       "    }\n",
       "\n",
       "    .dataframe thead th {\n",
       "        text-align: right;\n",
       "    }\n",
       "</style>\n",
       "<table border=\"1\" class=\"dataframe\">\n",
       "  <thead>\n",
       "    <tr style=\"text-align: right;\">\n",
       "      <th></th>\n",
       "      <th>Latent Variable 1</th>\n",
       "      <th>Latent Variable 2</th>\n",
       "    </tr>\n",
       "  </thead>\n",
       "  <tbody>\n",
       "    <tr>\n",
       "      <th>ENSG00000000419</th>\n",
       "      <td>0.002836</td>\n",
       "      <td>0.006937</td>\n",
       "    </tr>\n",
       "    <tr>\n",
       "      <th>ENSG00000000457</th>\n",
       "      <td>0.002954</td>\n",
       "      <td>0.002409</td>\n",
       "    </tr>\n",
       "    <tr>\n",
       "      <th>ENSG00000000460</th>\n",
       "      <td>-0.002859</td>\n",
       "      <td>-0.002259</td>\n",
       "    </tr>\n",
       "    <tr>\n",
       "      <th>ENSG00000000938</th>\n",
       "      <td>0.008147</td>\n",
       "      <td>-0.006304</td>\n",
       "    </tr>\n",
       "    <tr>\n",
       "      <th>ENSG00000000971</th>\n",
       "      <td>-0.008735</td>\n",
       "      <td>0.006135</td>\n",
       "    </tr>\n",
       "  </tbody>\n",
       "</table>\n",
       "</div>"
      ],
      "text/plain": [
       "                 Latent Variable 1  Latent Variable 2\n",
       "ENSG00000000419           0.002836           0.006937\n",
       "ENSG00000000457           0.002954           0.002409\n",
       "ENSG00000000460          -0.002859          -0.002259\n",
       "ENSG00000000938           0.008147          -0.006304\n",
       "ENSG00000000971          -0.008735           0.006135"
      ]
     },
     "execution_count": 424,
     "metadata": {},
     "output_type": "execute_result"
    }
   ],
   "source": [
    "loadings_df.head()"
   ]
  },
  {
   "cell_type": "code",
   "execution_count": 425,
   "id": "c1ef7d74-9802-4d41-8ef5-90ed4f4ed3df",
   "metadata": {},
   "outputs": [],
   "source": [
    "loadings_df.to_csv(r'C:\\Users\\jeann\\Desktop\\sp24-urop\\finalproj\\ldn_loadings_df.csv')"
   ]
  },
  {
   "cell_type": "code",
   "execution_count": 426,
   "id": "47a2c155-f7ca-4799-baa2-b575a3ec61e1",
   "metadata": {},
   "outputs": [],
   "source": [
    "loadings_new_df = pd.read_csv('C:/Users/jeann/Desktop/sp24-urop/finalproj/ldn_loadings_genesymbols.csv', index_col=0)"
   ]
  },
  {
   "cell_type": "code",
   "execution_count": 430,
   "id": "22ccee2d-2372-467c-85f0-44f64d0f451c",
   "metadata": {},
   "outputs": [],
   "source": [
    "loadings_new_df = loadings_new_df.rename({'Latent.Variable.1':'Latent Variable 1', 'Latent.Variable.2':'Latent Variable 2'}, axis='columns')"
   ]
  },
  {
   "cell_type": "code",
   "execution_count": 480,
   "id": "ed95b6fe-8740-49b8-a8cb-7e91e0812feb",
   "metadata": {},
   "outputs": [
    {
     "data": {
      "text/plain": [
       "Text(0, 0.5, 'Features')"
      ]
     },
     "execution_count": 480,
     "metadata": {},
     "output_type": "execute_result"
    },
    {
     "data": {
      "image/png": "[encoded data removed]",
      "text/plain": [
       "<Figure size 648x864 with 1 Axes>"
      ]
     },
     "metadata": {
      "needs_background": "light"
     },
     "output_type": "display_data"
    }
   ],
   "source": [
    "# plot the highest ranked loadings and extract biological significance\n",
    "# loadings = model.x_loadings_\n",
    "# loadings_df = pd.DataFrame(data=loadings[0:50, :], index=ldn_X_train.columns.values[0:50],columns=['Latent Variable {}'.format(x + 1) for x in range(2)])\n",
    "\n",
    "loadings_LV1 = loadings_new_df.iloc[loadings_new_df[\"Latent Variable 1\"].abs().argsort()[::-1]]\n",
    "\n",
    "fig, ax = plt.subplots(figsize =(9, 12))\n",
    "\n",
    "# Horizontal Bar Plot\n",
    "ax.barh(loadings_LV1.index, loadings_LV1.iloc[:,0])\n",
    "ax.set_title(\"Latent Variable 1\")\n",
    "ax.set_xlabel(\"Loadings\")\n",
    "ax.set_ylabel(\"Features\")\n",
    "# print(loadings)"
   ]
  },
  {
   "cell_type": "code",
   "execution_count": 481,
   "id": "894fd265-26b8-42e4-9688-86408f836935",
   "metadata": {},
   "outputs": [
    {
     "data": {
      "text/plain": [
       "Text(0, 0.5, 'Features')"
      ]
     },
     "execution_count": 481,
     "metadata": {},
     "output_type": "execute_result"
    },
    {
     "data": {
      "image/png": "[encoded data removed]",
      "text/plain": [
       "<Figure size 648x864 with 1 Axes>"
      ]
     },
     "metadata": {
      "needs_background": "light"
     },
     "output_type": "display_data"
    }
   ],
   "source": [
    "loadings_LV2 = loadings_new_df.iloc[loadings_new_df[\"Latent Variable 2\"].abs().argsort()[::-1]]\n",
    "\n",
    "fig, ax = plt.subplots(figsize =(9, 12))\n",
    "\n",
    "ax.barh(loadings_LV2.index, loadings_LV2.iloc[:,1])\n",
    "ax.set_title(\"Latent Variable 2\")\n",
    "ax.set_xlabel(\"Loadings\")\n",
    "ax.set_ylabel(\"Features\")"
   ]
  },
  {
   "cell_type": "code",
   "execution_count": 488,
   "id": "3b8ef23b-124b-467d-bec9-f1992ab0534e",
   "metadata": {},
   "outputs": [
    {
     "data": {
      "text/plain": [
       "'CD38 AOC1 DBNDD1 M6PR LAP3 RBM6 BAD CD99 CAMKK1 MAD1L1 NFYA FUCA2 KDM1A PLXND1 DPM1 LAS1L STPG1 FGR CFLAR CFH ICA1 SNX11 ANKIB1 AK2 LASP1 NDUFAF7 SLC22A16 ZMYND10 ENPP4 CASP10 NDUFAB1 KRIT1 SLC25A13 RAD52 ALS2 SARM1 SCYL3 NIPAL3 FIRRM RECQL ARHGAP33 GCLC POLDIP2 PDK4 HS3ST1 FKBP4 ARF5 RBM5 VPS50 TMEM176A'"
      ]
     },
     "execution_count": 488,
     "metadata": {},
     "output_type": "execute_result"
    }
   ],
   "source": [
    "gene_list = loadings_LV2.index.tolist()\n",
    "' '.join(gene_list)\n",
    "# gene_list.replace(\"'\", \"\")\n",
    "# gene_list.replace(\",\",\"\")"
   ]
  },
  {
   "cell_type": "code",
   "execution_count": 485,
   "id": "88092967-0ca9-4a5b-82c4-0fd8ba969b07",
   "metadata": {},
   "outputs": [
    {
     "name": "stdout",
     "output_type": "stream",
     "text": [
      "['CD38', 'AOC1', 'DBNDD1', 'M6PR', 'LAP3', 'RBM6', 'BAD', 'CD99', 'CAMKK1', 'MAD1L1', 'NFYA', 'FUCA2', 'KDM1A', 'PLXND1', 'DPM1', 'LAS1L', 'STPG1', 'FGR', 'CFLAR', 'CFH', 'ICA1', 'SNX11', 'ANKIB1', 'AK2', 'LASP1', 'NDUFAF7', 'SLC22A16', 'ZMYND10', 'ENPP4', 'CASP10', 'NDUFAB1', 'KRIT1', 'SLC25A13', 'RAD52', 'ALS2', 'SARM1', 'SCYL3', 'NIPAL3', 'FIRRM', 'RECQL', 'ARHGAP33', 'GCLC', 'POLDIP2', 'PDK4', 'HS3ST1', 'FKBP4', 'ARF5', 'RBM5', 'VPS50', 'TMEM176A']\n"
     ]
    }
   ],
   "source": [
    "print(gene_list)"
   ]
  },
  {
   "cell_type": "markdown",
   "id": "e484dd7b-731e-43b0-ace5-942e7a586c10",
   "metadata": {
    "jp-MarkdownHeadingCollapsed": true
   },
   "source": [
    "### south africa as training (pca exploration first)"
   ]
  },
  {
   "cell_type": "code",
   "execution_count": 332,
   "id": "7dad8b2b-fe34-4e87-9155-9f2efc71b6ed",
   "metadata": {},
   "outputs": [
    {
     "data": {
      "text/plain": [
       "Text(0, 0.5, 'Variance Explained')"
      ]
     },
     "execution_count": 332,
     "metadata": {},
     "output_type": "execute_result"
    },
    {
     "data": {
      "image/png": "[encoded data removed]",
      "text/plain": [
       "<Figure size 432x288 with 1 Axes>"
      ]
     },
     "metadata": {
      "needs_background": "light"
     },
     "output_type": "display_data"
    }
   ],
   "source": [
    "sa = sa_count_df.values\n",
    "sa_severity = np.array(sa_samp_df['group'].tolist())\n",
    "sa = sa.T\n",
    "pca = decomposition.PCA(n_components = 47)\n",
    "pca.fit(sa)\n",
    "sa_transformed = pca.transform(sa)\n",
    "\n",
    "explained_variance = pca.explained_variance_ratio_\n",
    "\n",
    "ax = sns.barplot(y=explained_variance, x = [str(x+1) for x in np.arange(len(explained_variance))])\n",
    "ax.set_xlabel(\"PC\")\n",
    "ax.set_ylabel(\"Variance Explained\")"
   ]
  },
  {
   "cell_type": "markdown",
   "id": "b283f413-2892-4fd8-84b2-906db50757b3",
   "metadata": {},
   "source": [
    "this looks better than the london PCA data."
   ]
  },
  {
   "cell_type": "code",
   "execution_count": null,
   "id": "980178ef-1830-4b8c-ac7c-5a792bb8ff17",
   "metadata": {},
   "outputs": [],
   "source": [
    "first_2_pcs = sa_transformed[:, 0:2]\n",
    "\n",
    "ax = sns.scatterplot(x = first_2_pcs[:, 0], y = first_2_pcs[:, 1], hue = severity)\n",
    "ax.set_xlabel(\"PC1\")\n",
    "ax.set_ylabel(\"PC2\")"
   ]
  },
  {
   "cell_type": "code",
   "execution_count": null,
   "id": "b3327bf7-4e80-40dc-ad8f-82241848b19a",
   "metadata": {},
   "outputs": [],
   "source": [
    "#trying kmeans clustering to see what groups come out\n",
    "from sklearn.cluster import KMeans\n",
    "\n",
    "# fit a kmeans model to our first_2_pcs objects; use n_clusters=2, random_state=2022, n_init=10\n",
    "kmeanModel = KMeans(n_clusters=3,random_state=2022,n_init=10).fit(first_2_pcs) # !TO DO!\n",
    "\n",
    "# grab the cluster labels from your kmeans model\n",
    "kmeans_labels = kmeanModel.labels_ # !TO DO!\n",
    "\n",
    "# remake the scatterplot from above, but color by kmeans_labels\n",
    "ax = sns.scatterplot(x=first_2_pcs[:,0],y=first_2_pcs[:,1],hue=kmeans_labels) # !TO DO!\n",
    "ax.set_xlabel(\"PC1\"); ax.set_ylabel(\"PC2\") # !TO DO!"
   ]
  },
  {
   "cell_type": "markdown",
   "id": "5c8c18ca-5441-46df-bae1-81e491908d74",
   "metadata": {
    "jp-MarkdownHeadingCollapsed": true
   },
   "source": [
    "## combine and 10 fold cross val"
   ]
  },
  {
   "cell_type": "code",
   "execution_count": null,
   "id": "38247457-1fcc-478c-b135-fe0e49dee634",
   "metadata": {},
   "outputs": [],
   "source": [
    "ldn_count_df = pd.read_csv('C:/Users/jeann/Desktop/sp24-urop/finalproj/GSE140945_mouse_count_df.csv')\n",
    "ldn_samp_df = pd.read_csv('C:/Users/jeann/Desktop/sp24-urop/finalproj/GSE140945_mouse_samp_df.csv')"
   ]
  },
  {
   "cell_type": "code",
   "execution_count": 378,
   "id": "73bd79a8-703b-48f2-ad38-36ab7700d4f2",
   "metadata": {},
   "outputs": [
    {
     "data": {
      "text/html": [
       "<div>\n",
       "<style scoped>\n",
       "    .dataframe tbody tr th:only-of-type {\n",
       "        vertical-align: middle;\n",
       "    }\n",
       "\n",
       "    .dataframe tbody tr th {\n",
       "        vertical-align: top;\n",
       "    }\n",
       "\n",
       "    .dataframe thead th {\n",
       "        text-align: right;\n",
       "    }\n",
       "</style>\n",
       "<table border=\"1\" class=\"dataframe\">\n",
       "  <thead>\n",
       "    <tr style=\"text-align: right;\">\n",
       "      <th>Genes</th>\n",
       "      <th>ENSG00000000419</th>\n",
       "      <th>ENSG00000000457</th>\n",
       "      <th>ENSG00000000460</th>\n",
       "      <th>ENSG00000000938</th>\n",
       "      <th>ENSG00000000971</th>\n",
       "      <th>ENSG00000001036</th>\n",
       "      <th>ENSG00000001084</th>\n",
       "      <th>ENSG00000001167</th>\n",
       "      <th>ENSG00000001460</th>\n",
       "      <th>ENSG00000001461</th>\n",
       "      <th>...</th>\n",
       "      <th>ENSG00000282939</th>\n",
       "      <th>ENSG00000282988</th>\n",
       "      <th>ENSG00000283041</th>\n",
       "      <th>ENSG00000283050</th>\n",
       "      <th>ENSG00000283063</th>\n",
       "      <th>ENSG00000283103</th>\n",
       "      <th>ENSG00000283199</th>\n",
       "      <th>ENSG00000283602</th>\n",
       "      <th>ENSG00000283633</th>\n",
       "      <th>ENSG00000283652</th>\n",
       "    </tr>\n",
       "  </thead>\n",
       "  <tbody>\n",
       "    <tr>\n",
       "      <th>Berry_SouthAfrica_Sample1</th>\n",
       "      <td>4.536061</td>\n",
       "      <td>4.320579</td>\n",
       "      <td>2.861886</td>\n",
       "      <td>9.301153</td>\n",
       "      <td>1.319594</td>\n",
       "      <td>3.944724</td>\n",
       "      <td>3.474550</td>\n",
       "      <td>4.861209</td>\n",
       "      <td>2.346926</td>\n",
       "      <td>4.978195</td>\n",
       "      <td>...</td>\n",
       "      <td>1.775437</td>\n",
       "      <td>-0.130017</td>\n",
       "      <td>7.883129</td>\n",
       "      <td>1.938320</td>\n",
       "      <td>1.221746</td>\n",
       "      <td>1.440518</td>\n",
       "      <td>3.352716</td>\n",
       "      <td>0.624073</td>\n",
       "      <td>4.613662</td>\n",
       "      <td>2.588529</td>\n",
       "    </tr>\n",
       "    <tr>\n",
       "      <th>Berry_SouthAfrica_Sample2</th>\n",
       "      <td>4.951775</td>\n",
       "      <td>4.314557</td>\n",
       "      <td>1.972661</td>\n",
       "      <td>9.266000</td>\n",
       "      <td>1.972661</td>\n",
       "      <td>4.503852</td>\n",
       "      <td>3.867098</td>\n",
       "      <td>5.035971</td>\n",
       "      <td>0.863036</td>\n",
       "      <td>5.087945</td>\n",
       "      <td>...</td>\n",
       "      <td>3.574283</td>\n",
       "      <td>0.250697</td>\n",
       "      <td>7.976191</td>\n",
       "      <td>-0.410886</td>\n",
       "      <td>0.407667</td>\n",
       "      <td>2.116093</td>\n",
       "      <td>2.490749</td>\n",
       "      <td>1.634302</td>\n",
       "      <td>4.561806</td>\n",
       "      <td>2.565977</td>\n",
       "    </tr>\n",
       "    <tr>\n",
       "      <th>Berry_SouthAfrica_Sample3</th>\n",
       "      <td>5.084165</td>\n",
       "      <td>4.560832</td>\n",
       "      <td>1.828115</td>\n",
       "      <td>9.982934</td>\n",
       "      <td>1.681096</td>\n",
       "      <td>4.086775</td>\n",
       "      <td>3.814322</td>\n",
       "      <td>5.222571</td>\n",
       "      <td>0.910578</td>\n",
       "      <td>4.437007</td>\n",
       "      <td>...</td>\n",
       "      <td>2.141030</td>\n",
       "      <td>-0.565451</td>\n",
       "      <td>7.450345</td>\n",
       "      <td>1.153036</td>\n",
       "      <td>-1.591923</td>\n",
       "      <td>0.792741</td>\n",
       "      <td>2.322075</td>\n",
       "      <td>1.970602</td>\n",
       "      <td>5.171351</td>\n",
       "      <td>3.174790</td>\n",
       "    </tr>\n",
       "    <tr>\n",
       "      <th>Berry_SouthAfrica_Sample4</th>\n",
       "      <td>4.297455</td>\n",
       "      <td>4.436117</td>\n",
       "      <td>2.050090</td>\n",
       "      <td>10.094174</td>\n",
       "      <td>-0.344902</td>\n",
       "      <td>3.581837</td>\n",
       "      <td>3.642159</td>\n",
       "      <td>5.246681</td>\n",
       "      <td>1.123021</td>\n",
       "      <td>4.473784</td>\n",
       "      <td>...</td>\n",
       "      <td>1.067792</td>\n",
       "      <td>1.512433</td>\n",
       "      <td>7.129884</td>\n",
       "      <td>2.643340</td>\n",
       "      <td>-6.611688</td>\n",
       "      <td>2.006697</td>\n",
       "      <td>1.583069</td>\n",
       "      <td>1.252498</td>\n",
       "      <td>4.065150</td>\n",
       "      <td>3.492911</td>\n",
       "    </tr>\n",
       "    <tr>\n",
       "      <th>Berry_SouthAfrica_Sample6</th>\n",
       "      <td>5.816510</td>\n",
       "      <td>5.097297</td>\n",
       "      <td>0.975978</td>\n",
       "      <td>10.748330</td>\n",
       "      <td>0.185073</td>\n",
       "      <td>4.590418</td>\n",
       "      <td>3.909966</td>\n",
       "      <td>5.499540</td>\n",
       "      <td>-1.399889</td>\n",
       "      <td>3.593656</td>\n",
       "      <td>...</td>\n",
       "      <td>-0.119781</td>\n",
       "      <td>2.735270</td>\n",
       "      <td>6.992633</td>\n",
       "      <td>2.132606</td>\n",
       "      <td>-5.792207</td>\n",
       "      <td>1.520676</td>\n",
       "      <td>0.138531</td>\n",
       "      <td>2.629858</td>\n",
       "      <td>6.092346</td>\n",
       "      <td>1.556522</td>\n",
       "    </tr>\n",
       "  </tbody>\n",
       "</table>\n",
       "<p>5 rows × 13578 columns</p>\n",
       "</div>"
      ],
      "text/plain": [
       "Genes                      ENSG00000000419  ENSG00000000457  ENSG00000000460   \n",
       "Berry_SouthAfrica_Sample1         4.536061         4.320579         2.861886  \\\n",
       "Berry_SouthAfrica_Sample2         4.951775         4.314557         1.972661   \n",
       "Berry_SouthAfrica_Sample3         5.084165         4.560832         1.828115   \n",
       "Berry_SouthAfrica_Sample4         4.297455         4.436117         2.050090   \n",
       "Berry_SouthAfrica_Sample6         5.816510         5.097297         0.975978   \n",
       "\n",
       "Genes                      ENSG00000000938  ENSG00000000971  ENSG00000001036   \n",
       "Berry_SouthAfrica_Sample1         9.301153         1.319594         3.944724  \\\n",
       "Berry_SouthAfrica_Sample2         9.266000         1.972661         4.503852   \n",
       "Berry_SouthAfrica_Sample3         9.982934         1.681096         4.086775   \n",
       "Berry_SouthAfrica_Sample4        10.094174        -0.344902         3.581837   \n",
       "Berry_SouthAfrica_Sample6        10.748330         0.185073         4.590418   \n",
       "\n",
       "Genes                      ENSG00000001084  ENSG00000001167  ENSG00000001460   \n",
       "Berry_SouthAfrica_Sample1         3.474550         4.861209         2.346926  \\\n",
       "Berry_SouthAfrica_Sample2         3.867098         5.035971         0.863036   \n",
       "Berry_SouthAfrica_Sample3         3.814322         5.222571         0.910578   \n",
       "Berry_SouthAfrica_Sample4         3.642159         5.246681         1.123021   \n",
       "Berry_SouthAfrica_Sample6         3.909966         5.499540        -1.399889   \n",
       "\n",
       "Genes                      ENSG00000001461  ...  ENSG00000282939   \n",
       "Berry_SouthAfrica_Sample1         4.978195  ...         1.775437  \\\n",
       "Berry_SouthAfrica_Sample2         5.087945  ...         3.574283   \n",
       "Berry_SouthAfrica_Sample3         4.437007  ...         2.141030   \n",
       "Berry_SouthAfrica_Sample4         4.473784  ...         1.067792   \n",
       "Berry_SouthAfrica_Sample6         3.593656  ...        -0.119781   \n",
       "\n",
       "Genes                      ENSG00000282988  ENSG00000283041  ENSG00000283050   \n",
       "Berry_SouthAfrica_Sample1        -0.130017         7.883129         1.938320  \\\n",
       "Berry_SouthAfrica_Sample2         0.250697         7.976191        -0.410886   \n",
       "Berry_SouthAfrica_Sample3        -0.565451         7.450345         1.153036   \n",
       "Berry_SouthAfrica_Sample4         1.512433         7.129884         2.643340   \n",
       "Berry_SouthAfrica_Sample6         2.735270         6.992633         2.132606   \n",
       "\n",
       "Genes                      ENSG00000283063  ENSG00000283103  ENSG00000283199   \n",
       "Berry_SouthAfrica_Sample1         1.221746         1.440518         3.352716  \\\n",
       "Berry_SouthAfrica_Sample2         0.407667         2.116093         2.490749   \n",
       "Berry_SouthAfrica_Sample3        -1.591923         0.792741         2.322075   \n",
       "Berry_SouthAfrica_Sample4        -6.611688         2.006697         1.583069   \n",
       "Berry_SouthAfrica_Sample6        -5.792207         1.520676         0.138531   \n",
       "\n",
       "Genes                      ENSG00000283602  ENSG00000283633  ENSG00000283652  \n",
       "Berry_SouthAfrica_Sample1         0.624073         4.613662         2.588529  \n",
       "Berry_SouthAfrica_Sample2         1.634302         4.561806         2.565977  \n",
       "Berry_SouthAfrica_Sample3         1.970602         5.171351         3.174790  \n",
       "Berry_SouthAfrica_Sample4         1.252498         4.065150         3.492911  \n",
       "Berry_SouthAfrica_Sample6         2.629858         6.092346         1.556522  \n",
       "\n",
       "[5 rows x 13578 columns]"
      ]
     },
     "execution_count": 378,
     "metadata": {},
     "output_type": "execute_result"
    }
   ],
   "source": [
    "sa_X_test.head()"
   ]
  },
  {
   "cell_type": "code",
   "execution_count": 377,
   "id": "00c6174d-48a6-4b7a-8843-03125a2fe7af",
   "metadata": {},
   "outputs": [
    {
     "data": {
      "text/html": [
       "<div>\n",
       "<style scoped>\n",
       "    .dataframe tbody tr th:only-of-type {\n",
       "        vertical-align: middle;\n",
       "    }\n",
       "\n",
       "    .dataframe tbody tr th {\n",
       "        vertical-align: top;\n",
       "    }\n",
       "\n",
       "    .dataframe thead th {\n",
       "        text-align: right;\n",
       "    }\n",
       "</style>\n",
       "<table border=\"1\" class=\"dataframe\">\n",
       "  <thead>\n",
       "    <tr style=\"text-align: right;\">\n",
       "      <th>Genes</th>\n",
       "      <th>ENSG00000000419</th>\n",
       "      <th>ENSG00000000457</th>\n",
       "      <th>ENSG00000000460</th>\n",
       "      <th>ENSG00000000938</th>\n",
       "      <th>ENSG00000000971</th>\n",
       "      <th>ENSG00000001036</th>\n",
       "      <th>ENSG00000001084</th>\n",
       "      <th>ENSG00000001167</th>\n",
       "      <th>ENSG00000001460</th>\n",
       "      <th>ENSG00000001461</th>\n",
       "      <th>...</th>\n",
       "      <th>ENSG00000282939</th>\n",
       "      <th>ENSG00000282988</th>\n",
       "      <th>ENSG00000283041</th>\n",
       "      <th>ENSG00000283050</th>\n",
       "      <th>ENSG00000283063</th>\n",
       "      <th>ENSG00000283103</th>\n",
       "      <th>ENSG00000283199</th>\n",
       "      <th>ENSG00000283602</th>\n",
       "      <th>ENSG00000283633</th>\n",
       "      <th>ENSG00000283652</th>\n",
       "    </tr>\n",
       "  </thead>\n",
       "  <tbody>\n",
       "    <tr>\n",
       "      <th>Berry_London_Sample1</th>\n",
       "      <td>4.647009</td>\n",
       "      <td>4.684619</td>\n",
       "      <td>2.379097</td>\n",
       "      <td>10.272479</td>\n",
       "      <td>1.927926</td>\n",
       "      <td>4.575402</td>\n",
       "      <td>4.192992</td>\n",
       "      <td>5.359207</td>\n",
       "      <td>1.028855</td>\n",
       "      <td>4.550721</td>\n",
       "      <td>...</td>\n",
       "      <td>1.734285</td>\n",
       "      <td>2.217433</td>\n",
       "      <td>6.552134</td>\n",
       "      <td>3.089308</td>\n",
       "      <td>0.609479</td>\n",
       "      <td>1.600761</td>\n",
       "      <td>1.529060</td>\n",
       "      <td>2.228793</td>\n",
       "      <td>2.754075</td>\n",
       "      <td>3.977591</td>\n",
       "    </tr>\n",
       "    <tr>\n",
       "      <th>Berry_London_Sample2</th>\n",
       "      <td>4.193344</td>\n",
       "      <td>4.633853</td>\n",
       "      <td>2.107392</td>\n",
       "      <td>10.032204</td>\n",
       "      <td>1.873832</td>\n",
       "      <td>4.485706</td>\n",
       "      <td>3.709367</td>\n",
       "      <td>5.484224</td>\n",
       "      <td>1.267586</td>\n",
       "      <td>4.740322</td>\n",
       "      <td>...</td>\n",
       "      <td>3.251415</td>\n",
       "      <td>-0.004667</td>\n",
       "      <td>7.152408</td>\n",
       "      <td>2.613210</td>\n",
       "      <td>2.177537</td>\n",
       "      <td>1.407594</td>\n",
       "      <td>1.504347</td>\n",
       "      <td>1.955959</td>\n",
       "      <td>3.358828</td>\n",
       "      <td>4.473807</td>\n",
       "    </tr>\n",
       "    <tr>\n",
       "      <th>Berry_London_Sample3</th>\n",
       "      <td>3.887871</td>\n",
       "      <td>4.358676</td>\n",
       "      <td>2.233367</td>\n",
       "      <td>10.117594</td>\n",
       "      <td>2.167779</td>\n",
       "      <td>4.638351</td>\n",
       "      <td>3.745266</td>\n",
       "      <td>5.174752</td>\n",
       "      <td>1.178920</td>\n",
       "      <td>5.359900</td>\n",
       "      <td>...</td>\n",
       "      <td>2.574404</td>\n",
       "      <td>0.285835</td>\n",
       "      <td>6.826765</td>\n",
       "      <td>2.574404</td>\n",
       "      <td>0.285835</td>\n",
       "      <td>1.695711</td>\n",
       "      <td>2.557431</td>\n",
       "      <td>1.632285</td>\n",
       "      <td>3.527239</td>\n",
       "      <td>4.584912</td>\n",
       "    </tr>\n",
       "    <tr>\n",
       "      <th>Berry_London_Sample4</th>\n",
       "      <td>4.603721</td>\n",
       "      <td>4.707055</td>\n",
       "      <td>1.891003</td>\n",
       "      <td>9.846276</td>\n",
       "      <td>1.528433</td>\n",
       "      <td>4.412240</td>\n",
       "      <td>3.769630</td>\n",
       "      <td>5.221303</td>\n",
       "      <td>1.659677</td>\n",
       "      <td>4.895766</td>\n",
       "      <td>...</td>\n",
       "      <td>2.864036</td>\n",
       "      <td>1.384043</td>\n",
       "      <td>7.295086</td>\n",
       "      <td>2.463187</td>\n",
       "      <td>1.659677</td>\n",
       "      <td>2.155309</td>\n",
       "      <td>2.022247</td>\n",
       "      <td>2.345569</td>\n",
       "      <td>3.053274</td>\n",
       "      <td>4.301740</td>\n",
       "    </tr>\n",
       "    <tr>\n",
       "      <th>Berry_London_Sample7</th>\n",
       "      <td>4.473330</td>\n",
       "      <td>4.603616</td>\n",
       "      <td>2.335626</td>\n",
       "      <td>10.108841</td>\n",
       "      <td>2.586106</td>\n",
       "      <td>4.287401</td>\n",
       "      <td>3.701868</td>\n",
       "      <td>5.597649</td>\n",
       "      <td>1.331208</td>\n",
       "      <td>4.881081</td>\n",
       "      <td>...</td>\n",
       "      <td>2.693286</td>\n",
       "      <td>1.883346</td>\n",
       "      <td>6.701226</td>\n",
       "      <td>3.256275</td>\n",
       "      <td>1.482325</td>\n",
       "      <td>1.348802</td>\n",
       "      <td>1.015902</td>\n",
       "      <td>2.344423</td>\n",
       "      <td>2.880325</td>\n",
       "      <td>4.148643</td>\n",
       "    </tr>\n",
       "  </tbody>\n",
       "</table>\n",
       "<p>5 rows × 13578 columns</p>\n",
       "</div>"
      ],
      "text/plain": [
       "Genes                 ENSG00000000419  ENSG00000000457  ENSG00000000460   \n",
       "Berry_London_Sample1         4.647009         4.684619         2.379097  \\\n",
       "Berry_London_Sample2         4.193344         4.633853         2.107392   \n",
       "Berry_London_Sample3         3.887871         4.358676         2.233367   \n",
       "Berry_London_Sample4         4.603721         4.707055         1.891003   \n",
       "Berry_London_Sample7         4.473330         4.603616         2.335626   \n",
       "\n",
       "Genes                 ENSG00000000938  ENSG00000000971  ENSG00000001036   \n",
       "Berry_London_Sample1        10.272479         1.927926         4.575402  \\\n",
       "Berry_London_Sample2        10.032204         1.873832         4.485706   \n",
       "Berry_London_Sample3        10.117594         2.167779         4.638351   \n",
       "Berry_London_Sample4         9.846276         1.528433         4.412240   \n",
       "Berry_London_Sample7        10.108841         2.586106         4.287401   \n",
       "\n",
       "Genes                 ENSG00000001084  ENSG00000001167  ENSG00000001460   \n",
       "Berry_London_Sample1         4.192992         5.359207         1.028855  \\\n",
       "Berry_London_Sample2         3.709367         5.484224         1.267586   \n",
       "Berry_London_Sample3         3.745266         5.174752         1.178920   \n",
       "Berry_London_Sample4         3.769630         5.221303         1.659677   \n",
       "Berry_London_Sample7         3.701868         5.597649         1.331208   \n",
       "\n",
       "Genes                 ENSG00000001461  ...  ENSG00000282939  ENSG00000282988   \n",
       "Berry_London_Sample1         4.550721  ...         1.734285         2.217433  \\\n",
       "Berry_London_Sample2         4.740322  ...         3.251415        -0.004667   \n",
       "Berry_London_Sample3         5.359900  ...         2.574404         0.285835   \n",
       "Berry_London_Sample4         4.895766  ...         2.864036         1.384043   \n",
       "Berry_London_Sample7         4.881081  ...         2.693286         1.883346   \n",
       "\n",
       "Genes                 ENSG00000283041  ENSG00000283050  ENSG00000283063   \n",
       "Berry_London_Sample1         6.552134         3.089308         0.609479  \\\n",
       "Berry_London_Sample2         7.152408         2.613210         2.177537   \n",
       "Berry_London_Sample3         6.826765         2.574404         0.285835   \n",
       "Berry_London_Sample4         7.295086         2.463187         1.659677   \n",
       "Berry_London_Sample7         6.701226         3.256275         1.482325   \n",
       "\n",
       "Genes                 ENSG00000283103  ENSG00000283199  ENSG00000283602   \n",
       "Berry_London_Sample1         1.600761         1.529060         2.228793  \\\n",
       "Berry_London_Sample2         1.407594         1.504347         1.955959   \n",
       "Berry_London_Sample3         1.695711         2.557431         1.632285   \n",
       "Berry_London_Sample4         2.155309         2.022247         2.345569   \n",
       "Berry_London_Sample7         1.348802         1.015902         2.344423   \n",
       "\n",
       "Genes                 ENSG00000283633  ENSG00000283652  \n",
       "Berry_London_Sample1         2.754075         3.977591  \n",
       "Berry_London_Sample2         3.358828         4.473807  \n",
       "Berry_London_Sample3         3.527239         4.584912  \n",
       "Berry_London_Sample4         3.053274         4.301740  \n",
       "Berry_London_Sample7         2.880325         4.148643  \n",
       "\n",
       "[5 rows x 13578 columns]"
      ]
     },
     "execution_count": 377,
     "metadata": {},
     "output_type": "execute_result"
    }
   ],
   "source": [
    "ldn_X_train.head()"
   ]
  },
  {
   "cell_type": "code",
   "execution_count": null,
   "id": "0fd552f0-7d89-4629-ae96-bc19f663ed0a",
   "metadata": {},
   "outputs": [],
   "source": [
    "combined_count_df = pd.merge(ldn_X_train, sa_X_test, how='inner')\n",
    "combined_count_df.head()\n",
    "# decided to only do the two groups of disease severity"
   ]
  },
  {
   "cell_type": "code",
   "execution_count": null,
   "id": "bf5c4c71-eb5e-4596-a538-35b460262a67",
   "metadata": {},
   "outputs": [],
   "source": [
    "# 10 fold cross val\n",
    "kf = KFold(n_splits=10) \n",
    "ncomp = 2\n",
    "model = PLSRegression(n_components=ncomp, scale=False)\n",
    "\n",
    "curX = X_data.values\n",
    "curY = Y_prob\n",
    "\n",
    "accuracy_scores = []\n",
    "r2_values = []\n",
    "\n",
    "predY = np.zeros(Y_prob.shape)\n",
    "for train_index, test_index in kf.split(curX):\n",
    "    trainX = curX[train_index]\n",
    "    testX = curX[test_index]\n",
    "    trainY = curY[train_index] # TODO\n",
    "    testY = curY[test_index]\n",
    "    \n",
    "    model.fit(trainX, trainY)\n",
    "    predY[test_index] = model.predict(testX) # TODO\n",
    "\n",
    "    Y_pred_classes = np.argmax(predY[test_index], axis=1)\n",
    "    Y_test_classes = np.argmax(Y_prob[test_index], axis=1)\n",
    "    \n",
    "    # Calculate accuracy score\n",
    "    accuracy = accuracy_score(Y_test_classes, Y_pred_classes)\n",
    "    accuracy_scores.append(accuracy)\n",
    "\n",
    "print(f'accuracy scores: {accuracy_scores}')\n",
    "\n",
    "avg_accuracy = np.average(accuracy_scores)\n",
    "print(f'average accuracy: {avg_accuracy}')"
   ]
  },
  {
   "cell_type": "markdown",
   "id": "a94a2a44-545f-40ed-985f-aeddec264921",
   "metadata": {},
   "source": [
    "# notes"
   ]
  },
  {
   "cell_type": "markdown",
   "id": "61536971-fda2-4e50-9bd6-006071b075d6",
   "metadata": {},
   "source": [
    "can plot the predicted vs actual testing data to see how well the model predicts, want to see a 45 deg line\n",
    "\n",
    "to get the biological insights from scores plot, find specific treatments (extreme? or just that one treatment) and see in what direction the vector goes -- which latent variable describes it. then see what the latent variable is a function of. check lauffenburger paper for example\n",
    "- tells you there are multiple routes to the cell death protection by going back and seeing the data\n",
    "- for example, the cell could be adding together ERK and Akt (algebraic) or a logical OR (ERK or Akt is upregulated)\n",
    "\n",
    "biological insights from loadings plot:\n",
    "- plot one gene activity on the loading plot, and see how its trend explains the effect of that gene on the axes (early can be pro-survival, late is pro-death)\n",
    "\n",
    "using predictive power to predict new data\n",
    "\n",
    "- can look at the coefficient of certain features (genes) to see how much it contributes to the final phenotype\n",
    "\n",
    "\n",
    "- can do batch correction to combine london and south africa data\n",
    "\n",
    "- what is the transcriptomic signature in the lung or the blood?\n",
    "\n",
    "- what strain infected you based on samples from lung, blood, or blood array\n",
    "\n",
    "- tells you which cell population is predictive of which strain\n",
    "\n",
    "- lung transcriptomic signatures are morep redictive of which staring infected you than the blood\n",
    "\n",
    "- what separates latent infection from active infection?\n",
    "\n",
    "- after making the human model, try to use the mouse samples (having filtered out for common genes) and see which disease state it is in"
   ]
  },
  {
   "cell_type": "markdown",
   "id": "6e8e0a7d-56cc-4b54-a631-cfd434a99cb1",
   "metadata": {},
   "source": [
    "- to tSNE or umap to see if clustering is slightly better for the human london data\n",
    "- analyzing the biological significance of my model (PC analysis or LV analysis), which are most up in my samples -- which are weighted highest\n",
    "- rank loadings (by first or second comp, by average of the two), pull out top 50 features/20/100, look at those\n",
    "- after making the human model, try to use the mouse samples (having filtered out for common genes) and see which disease state it is in"
   ]
  }
 ],
 "metadata": {
  "kernelspec": {
   "display_name": "Python 3 (ipykernel)",
   "language": "python",
   "name": "python3"
  },
  "language_info": {
   "codemirror_mode": {
    "name": "ipython",
    "version": 3
   },
   "file_extension": ".py",
   "mimetype": "text/x-python",
   "name": "python",
   "nbconvert_exporter": "python",
   "pygments_lexer": "ipython3",
   "version": "3.10.5"
  }
 },
 "nbformat": 4,
 "nbformat_minor": 5
}
